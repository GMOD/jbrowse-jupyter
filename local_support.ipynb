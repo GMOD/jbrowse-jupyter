{
 "cells": [
  {
   "cell_type": "markdown",
   "metadata": {},
   "source": [
    "### Local file support notebook server demo\n",
    "\n",
    "We make use of jupyter's notebook server to serve local files that can be used in the jbrowse's views.\n",
    "For this tutorial, you will be able to run the jupyter notebook as usual."
   ]
  },
  {
   "cell_type": "code",
   "execution_count": 1,
   "metadata": {},
   "outputs": [],
   "source": [
    "from jbrowse_jupyter import launch, create\n",
    "from IPython.display import FileLink, FileLinks\n",
    "from jupyter_dash import JupyterDash\n",
    "import jupyter_server_proxy\n",
    "import requests"
   ]
  },
  {
   "cell_type": "code",
   "execution_count": 3,
   "metadata": {},
   "outputs": [],
   "source": [
    "JupyterDash.infer_jupyter_proxy_config()"
   ]
  },
  {
   "cell_type": "code",
   "execution_count": 4,
   "metadata": {},
   "outputs": [],
   "source": [
    "hg19 = create('LGV', genome='hg19')"
   ]
  },
  {
   "cell_type": "markdown",
   "metadata": {},
   "source": [
    "This jupyter notebook will show you how to use local files with jbrowse jupyter. We can make use of the server that the jupyter notebook is on to access the file tree. \n"
   ]
  },
  {
   "cell_type": "markdown",
   "metadata": {},
   "source": [
    "1. First, download these files gff files in order so that we can add a track to our hg19 config. \n",
    "\n",
    "Note: we are only downloading these file for the sake of the tutorial. If you have  local files that you may want to use already in your jupyter notebook directory, you will be able to go straight to step 3."
   ]
  },
  {
   "cell_type": "code",
   "execution_count": 5,
   "metadata": {},
   "outputs": [
    {
     "data": {
      "text/plain": [
       "227612"
      ]
     },
     "execution_count": 5,
     "metadata": {},
     "output_type": "execute_result"
    }
   ],
   "source": [
    "file1 = 'https://s3.amazonaws.com/jbrowse.org/genomes/hg19/ncbi_refseq/GRCh37_latest_genomic.sort.gff.gz'\n",
    "file2 = 'https://s3.amazonaws.com/jbrowse.org/genomes/hg19/ncbi_refseq/GRCh37_latest_genomic.sort.gff.gz.tbi'\n",
    "response1 = requests.get(file1)\n",
    "response2 = requests.get(file2)\n",
    "open(\"GRCh37_latest_genomic.sort.gff.gz\", \"wb\").write(response1.content)\n",
    "open(\"GRCh37_latest_genomic.sort.gff.gz.tbi\", \"wb\").write(response2.content)\n"
   ]
  },
  {
   "cell_type": "markdown",
   "metadata": {},
   "source": [
    "2. Now that we have these new files in our file tree, we will be able to format urls to pass on to our components. To access the jupyter notebook server file tree we can format our url as 'http://localhost:8888/'. You can verify that it is the correct path if you can see the files  'GRCh37_latest_genomic.sort.gff.gz' and 'GRCh37_latest_genomic.sort.gff.gz.tbi' in your file tree. \n",
    "\n",
    "Note: your port may be different, so make sure that you use the same port from your jupyter notebook configuration. "
   ]
  },
  {
   "cell_type": "markdown",
   "metadata": {},
   "source": [
    "3. To format your urls, you can add 'http://localhost:8888/' + '<your_file_name>'\n",
    "\n",
    "e.g 'http://localhost:8888/files/' + 'GRCh37_latest_genomic.sort.gff.gz' = 'http://localhost:8888/files/GRCh37_latest_genomic.sort.gff.gz'"
   ]
  },
  {
   "cell_type": "markdown",
   "metadata": {},
   "source": [
    "For our example: we will be adding a track with local gff gz file and gff tbi index file we just downloaded"
   ]
  },
  {
   "cell_type": "code",
   "execution_count": 6,
   "metadata": {},
   "outputs": [],
   "source": [
    "track_data = 'http://localhost:8888/files/GRCh37_latest_genomic.sort.gff.gz'\n",
    "track_data_index = 'http://localhost:8888/files/GRCh37_latest_genomic.sort.gff.gz.tbi'\n",
    "hg19.add_track(track_data, index=track_data_index, track_id='local_file_support_demo')"
   ]
  },
  {
   "cell_type": "code",
   "execution_count": 7,
   "metadata": {},
   "outputs": [],
   "source": [
    "hg19.set_default_session(['local_file_support_demo'],False)"
   ]
  },
  {
   "cell_type": "code",
   "execution_count": 8,
   "metadata": {},
   "outputs": [],
   "source": [
    "config = hg19.get_config()"
   ]
  },
  {
   "cell_type": "code",
   "execution_count": 9,
   "metadata": {
    "scrolled": true
   },
   "outputs": [
    {
     "data": {
      "text/html": [
       "\n",
       "        <iframe\n",
       "            width=\"100%\"\n",
       "            height=\"300\"\n",
       "            src=\"http://localhost:8888/proxy/3333/\"\n",
       "            frameborder=\"0\"\n",
       "            allowfullscreen\n",
       "            \n",
       "        ></iframe>\n",
       "        "
      ],
      "text/plain": [
       "<IPython.lib.display.IFrame at 0x7f9ca0678160>"
      ]
     },
     "metadata": {},
     "output_type": "display_data"
    }
   ],
   "source": [
    "launch(config, port=3333)"
   ]
  },
  {
   "cell_type": "code",
   "execution_count": null,
   "metadata": {},
   "outputs": [],
   "source": []
  }
 ],
 "metadata": {
  "kernelspec": {
   "display_name": "Python 3 (ipykernel)",
   "language": "python",
   "name": "python3"
  },
  "language_info": {
   "codemirror_mode": {
    "name": "ipython",
    "version": 3
   },
   "file_extension": ".py",
   "mimetype": "text/x-python",
   "name": "python",
   "nbconvert_exporter": "python",
   "pygments_lexer": "ipython3",
   "version": "3.8.13"
  },
  "vscode": {
   "interpreter": {
    "hash": "e9d6c669645dba2a1dcc8c977d22bcec174bc9259f7f131cb6979c1ac9478589"
   }
  }
 },
 "nbformat": 4,
 "nbformat_minor": 2
}
