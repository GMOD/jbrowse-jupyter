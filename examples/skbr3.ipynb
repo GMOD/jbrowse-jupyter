{
 "cells": [
  {
   "cell_type": "markdown",
   "metadata": {
    "colab_type": "text",
    "id": "view-in-github"
   },
   "source": [
    "<a href=\"https://colab.research.google.com/github/GMOD/jbrowse-jupyter/blob/main/skbr3.ipynb\" target=\"_parent\"><img src=\"https://colab.research.google.com/assets/colab-badge.svg\" alt=\"Open In Colab\"/></a>"
   ]
  },
  {
   "cell_type": "code",
   "execution_count": 1,
   "metadata": {
    "colab": {
     "base_uri": "https://localhost:8080/"
    },
    "id": "BYY-Eb9dKUIi",
    "outputId": "41a3fc80-917f-4fa9-e98b-d0d56f9aa7f4"
   },
   "outputs": [
    {
     "name": "stdout",
     "output_type": "stream",
     "text": [
      "Requirement already satisfied: jbrowse-jupyter in /home/cdiesh/src/dash_jbrowse/lib/python3.11/site-packages (1.5.7)\n",
      "Requirement already satisfied: dash>=2.11.1 in /home/cdiesh/src/dash_jbrowse/lib/python3.11/site-packages (from jbrowse-jupyter) (2.14.2)\n",
      "Requirement already satisfied: dash-jbrowse>=1.2.0 in /home/cdiesh/src/dash_jbrowse/lib/python3.11/site-packages (from jbrowse-jupyter) (1.3.4)\n",
      "Requirement already satisfied: pandas>=1.1.5 in /home/cdiesh/src/dash_jbrowse/lib/python3.11/site-packages (from jbrowse-jupyter) (2.1.4)\n",
      "Requirement already satisfied: IPython>=7.0.0 in /home/cdiesh/src/dash_jbrowse/lib/python3.11/site-packages (from jbrowse-jupyter) (8.18.1)\n",
      "Requirement already satisfied: Flask<3.1,>=1.0.4 in /home/cdiesh/src/dash_jbrowse/lib/python3.11/site-packages (from dash>=2.11.1->jbrowse-jupyter) (3.0.0)\n",
      "Requirement already satisfied: Werkzeug<3.1 in /home/cdiesh/src/dash_jbrowse/lib/python3.11/site-packages (from dash>=2.11.1->jbrowse-jupyter) (3.0.1)\n",
      "Requirement already satisfied: plotly>=5.0.0 in /home/cdiesh/src/dash_jbrowse/lib/python3.11/site-packages (from dash>=2.11.1->jbrowse-jupyter) (5.18.0)\n",
      "Requirement already satisfied: dash-html-components==2.0.0 in /home/cdiesh/src/dash_jbrowse/lib/python3.11/site-packages (from dash>=2.11.1->jbrowse-jupyter) (2.0.0)\n",
      "Requirement already satisfied: dash-core-components==2.0.0 in /home/cdiesh/src/dash_jbrowse/lib/python3.11/site-packages (from dash>=2.11.1->jbrowse-jupyter) (2.0.0)\n",
      "Requirement already satisfied: dash-table==5.0.0 in /home/cdiesh/src/dash_jbrowse/lib/python3.11/site-packages (from dash>=2.11.1->jbrowse-jupyter) (5.0.0)\n",
      "Requirement already satisfied: typing-extensions>=4.1.1 in /home/cdiesh/src/dash_jbrowse/lib/python3.11/site-packages (from dash>=2.11.1->jbrowse-jupyter) (4.9.0)\n",
      "Requirement already satisfied: requests in /home/cdiesh/src/dash_jbrowse/lib/python3.11/site-packages (from dash>=2.11.1->jbrowse-jupyter) (2.31.0)\n",
      "Requirement already satisfied: retrying in /home/cdiesh/src/dash_jbrowse/lib/python3.11/site-packages (from dash>=2.11.1->jbrowse-jupyter) (1.3.4)\n",
      "Requirement already satisfied: ansi2html in /home/cdiesh/src/dash_jbrowse/lib/python3.11/site-packages (from dash>=2.11.1->jbrowse-jupyter) (1.9.1)\n",
      "Requirement already satisfied: nest-asyncio in /home/cdiesh/src/dash_jbrowse/lib/python3.11/site-packages (from dash>=2.11.1->jbrowse-jupyter) (1.5.8)\n",
      "Requirement already satisfied: setuptools in /home/cdiesh/src/dash_jbrowse/lib/python3.11/site-packages (from dash>=2.11.1->jbrowse-jupyter) (68.1.2)\n",
      "Requirement already satisfied: importlib-metadata in /home/cdiesh/src/dash_jbrowse/lib/python3.11/site-packages (from dash>=2.11.1->jbrowse-jupyter) (7.0.0)\n",
      "Requirement already satisfied: decorator in /home/cdiesh/src/dash_jbrowse/lib/python3.11/site-packages (from IPython>=7.0.0->jbrowse-jupyter) (5.1.1)\n",
      "Requirement already satisfied: jedi>=0.16 in /home/cdiesh/src/dash_jbrowse/lib/python3.11/site-packages (from IPython>=7.0.0->jbrowse-jupyter) (0.19.1)\n",
      "Requirement already satisfied: matplotlib-inline in /home/cdiesh/src/dash_jbrowse/lib/python3.11/site-packages (from IPython>=7.0.0->jbrowse-jupyter) (0.1.6)\n",
      "Requirement already satisfied: prompt-toolkit<3.1.0,>=3.0.41 in /home/cdiesh/src/dash_jbrowse/lib/python3.11/site-packages (from IPython>=7.0.0->jbrowse-jupyter) (3.0.41)\n",
      "Requirement already satisfied: pygments>=2.4.0 in /home/cdiesh/src/dash_jbrowse/lib/python3.11/site-packages (from IPython>=7.0.0->jbrowse-jupyter) (2.17.2)\n",
      "Requirement already satisfied: stack-data in /home/cdiesh/src/dash_jbrowse/lib/python3.11/site-packages (from IPython>=7.0.0->jbrowse-jupyter) (0.6.3)\n",
      "Requirement already satisfied: traitlets>=5 in /home/cdiesh/src/dash_jbrowse/lib/python3.11/site-packages (from IPython>=7.0.0->jbrowse-jupyter) (5.14.0)\n",
      "Requirement already satisfied: pexpect>4.3 in /home/cdiesh/src/dash_jbrowse/lib/python3.11/site-packages (from IPython>=7.0.0->jbrowse-jupyter) (4.9.0)\n",
      "Requirement already satisfied: numpy<2,>=1.23.2 in /home/cdiesh/src/dash_jbrowse/lib/python3.11/site-packages (from pandas>=1.1.5->jbrowse-jupyter) (1.26.2)\n",
      "Requirement already satisfied: python-dateutil>=2.8.2 in /home/cdiesh/src/dash_jbrowse/lib/python3.11/site-packages (from pandas>=1.1.5->jbrowse-jupyter) (2.8.2)\n",
      "Requirement already satisfied: pytz>=2020.1 in /home/cdiesh/src/dash_jbrowse/lib/python3.11/site-packages (from pandas>=1.1.5->jbrowse-jupyter) (2023.3.post1)\n",
      "Requirement already satisfied: tzdata>=2022.1 in /home/cdiesh/src/dash_jbrowse/lib/python3.11/site-packages (from pandas>=1.1.5->jbrowse-jupyter) (2023.3)\n",
      "Requirement already satisfied: Jinja2>=3.1.2 in /home/cdiesh/src/dash_jbrowse/lib/python3.11/site-packages (from Flask<3.1,>=1.0.4->dash>=2.11.1->jbrowse-jupyter) (3.1.2)\n",
      "Requirement already satisfied: itsdangerous>=2.1.2 in /home/cdiesh/src/dash_jbrowse/lib/python3.11/site-packages (from Flask<3.1,>=1.0.4->dash>=2.11.1->jbrowse-jupyter) (2.1.2)\n",
      "Requirement already satisfied: click>=8.1.3 in /home/cdiesh/src/dash_jbrowse/lib/python3.11/site-packages (from Flask<3.1,>=1.0.4->dash>=2.11.1->jbrowse-jupyter) (8.1.7)\n",
      "Requirement already satisfied: blinker>=1.6.2 in /home/cdiesh/src/dash_jbrowse/lib/python3.11/site-packages (from Flask<3.1,>=1.0.4->dash>=2.11.1->jbrowse-jupyter) (1.7.0)\n",
      "Requirement already satisfied: parso<0.9.0,>=0.8.3 in /home/cdiesh/src/dash_jbrowse/lib/python3.11/site-packages (from jedi>=0.16->IPython>=7.0.0->jbrowse-jupyter) (0.8.3)\n",
      "Requirement already satisfied: ptyprocess>=0.5 in /home/cdiesh/src/dash_jbrowse/lib/python3.11/site-packages (from pexpect>4.3->IPython>=7.0.0->jbrowse-jupyter) (0.7.0)\n",
      "Requirement already satisfied: tenacity>=6.2.0 in /home/cdiesh/src/dash_jbrowse/lib/python3.11/site-packages (from plotly>=5.0.0->dash>=2.11.1->jbrowse-jupyter) (8.2.3)\n",
      "Requirement already satisfied: packaging in /home/cdiesh/src/dash_jbrowse/lib/python3.11/site-packages (from plotly>=5.0.0->dash>=2.11.1->jbrowse-jupyter) (23.2)\n",
      "Requirement already satisfied: wcwidth in /home/cdiesh/src/dash_jbrowse/lib/python3.11/site-packages (from prompt-toolkit<3.1.0,>=3.0.41->IPython>=7.0.0->jbrowse-jupyter) (0.2.12)\n",
      "Requirement already satisfied: six>=1.5 in /home/cdiesh/src/dash_jbrowse/lib/python3.11/site-packages (from python-dateutil>=2.8.2->pandas>=1.1.5->jbrowse-jupyter) (1.16.0)\n",
      "Requirement already satisfied: MarkupSafe>=2.1.1 in /home/cdiesh/src/dash_jbrowse/lib/python3.11/site-packages (from Werkzeug<3.1->dash>=2.11.1->jbrowse-jupyter) (2.1.3)\n",
      "Requirement already satisfied: zipp>=0.5 in /home/cdiesh/src/dash_jbrowse/lib/python3.11/site-packages (from importlib-metadata->dash>=2.11.1->jbrowse-jupyter) (3.17.0)\n",
      "Requirement already satisfied: charset-normalizer<4,>=2 in /home/cdiesh/src/dash_jbrowse/lib/python3.11/site-packages (from requests->dash>=2.11.1->jbrowse-jupyter) (3.3.2)\n",
      "Requirement already satisfied: idna<4,>=2.5 in /home/cdiesh/src/dash_jbrowse/lib/python3.11/site-packages (from requests->dash>=2.11.1->jbrowse-jupyter) (3.6)\n",
      "Requirement already satisfied: urllib3<3,>=1.21.1 in /home/cdiesh/src/dash_jbrowse/lib/python3.11/site-packages (from requests->dash>=2.11.1->jbrowse-jupyter) (2.1.0)\n",
      "Requirement already satisfied: certifi>=2017.4.17 in /home/cdiesh/src/dash_jbrowse/lib/python3.11/site-packages (from requests->dash>=2.11.1->jbrowse-jupyter) (2023.11.17)\n",
      "Requirement already satisfied: executing>=1.2.0 in /home/cdiesh/src/dash_jbrowse/lib/python3.11/site-packages (from stack-data->IPython>=7.0.0->jbrowse-jupyter) (2.0.1)\n",
      "Requirement already satisfied: asttokens>=2.1.0 in /home/cdiesh/src/dash_jbrowse/lib/python3.11/site-packages (from stack-data->IPython>=7.0.0->jbrowse-jupyter) (2.4.1)\n",
      "Requirement already satisfied: pure-eval in /home/cdiesh/src/dash_jbrowse/lib/python3.11/site-packages (from stack-data->IPython>=7.0.0->jbrowse-jupyter) (0.2.2)\n"
     ]
    }
   ],
   "source": [
    "!pip install jbrowse-jupyter"
   ]
  },
  {
   "cell_type": "code",
   "execution_count": 2,
   "metadata": {
    "id": "HetA2JAhKuf5"
   },
   "outputs": [],
   "source": [
    "from dash import html, Dash, dcc\n",
    "from dash.dependencies import Input, Output\n",
    "from jbrowse_jupyter import create, create_component"
   ]
  },
  {
   "cell_type": "code",
   "execution_count": 3,
   "metadata": {
    "id": "QdWiYfiIKyHv"
   },
   "outputs": [],
   "source": [
    " app = Dash(__name__)\n",
    " server = app.server"
   ]
  },
  {
   "cell_type": "code",
   "execution_count": 4,
   "metadata": {
    "id": "XES1Tx0KK144"
   },
   "outputs": [],
   "source": [
    "# locations of interest and name\n",
    "# sources: \n",
    "# https://jbrowse.org/demos/cancer-demo-2020/#embed\n",
    "# https://genome.cshlp.org/content/early/2018/06/28/gr.231100.117.abstract\n",
    "locations = [\n",
    "    {\"value\": \"NC_000014.8:50234871..50253103\", \"label\": \"KLHDC2\"},\n",
    "    {\"value\": \"NC_000017.10:76670129..76778424\", \"label\": \"CYTH1\"},\n",
    "    {\"value\": \"NC_000020.10:34213953..34252822\", \"label\": \"CPNE1\"},\n",
    "    {\"value\": \"NC_000017.10:38060848..38074903\", \"label\": \"GSDMB\"},\n",
    "    {\"value\": \"8:116962736..117337297\", \"label\": \"LINC00536\"},\n",
    "    {\"value\": \"8:121547996..121824286\", \"label\": \"SNTB1\"},\n",
    "    {\"value\": \"8:117654369..117768062\", \"label\": \"EIF3H\"},\n",
    "    {\"value\": \"NC_000020.10:47240790..47444536\", \"label\": \"PREX1\"},\n",
    "    {\"value\": \"8:125500735..125551329\", \"label\": \"TATDN1\"},\n",
    "    {\"value\": \"8:128,806,779..129,113,499\", \"label\": \"PVT1\"}\n",
    "]"
   ]
  },
  {
   "cell_type": "code",
   "execution_count": 5,
   "metadata": {
    "id": "eMuOH8KBMSxJ"
   },
   "outputs": [],
   "source": [
    "# track data, track name, track id\n",
    "tracks = [\n",
    "    (\"https://s3.amazonaws.com/jbrowse.org/genomes/hg19/skbr3/reads_lr_skbr3.fa_ngmlr-0.2.3_mapped.splitters.bam\", \"SKBR3 pacbio (NGMLR) splitters only\",\"ngmlr_splitters\"),\n",
    "    (\"https://s3.amazonaws.com/jbrowse.org/genomes/hg19/skbr3/reads_lr_skbr3.fa_ngmlr-0.2.3_mapped.splitters.cram\", \"SKBR3 pacbio (NGMLR) splitters only (CRAM)\",\"ngmlr_splitters_cram\"),\n",
    "    (\"https://s3.amazonaws.com/jbrowse.org/genomes/hg19/skbr3/reads_lr_skbr3.fa_ngmlr-0.2.3_mapped.down.bam\", \"SKBR3 pacbio (NGMLR) 0.3 downsample\",\"ngmlr_downsample\"),\n",
    "    (\"https://s3.amazonaws.com/jbrowse.org/genomes/hg19/skbr3/reads_lr_skbr3.fa_ngmlr-0.2.3_mapped.down.cram\", \"SKBR3 pacbio (NGMLR) 0.3 downsample (CRAM)\",\"reads_lr_skbr3.fa_ngmlr-0.2.3_mapped.down\"),\n",
    "    (\"https://s3.amazonaws.com/jbrowse.org/genomes/hg19/reads_lr_skbr3.fa_ngmlr-0.2.3_mapped.bam.regions.bw\", \"SKBR3 pacbio coverage (NGMLR)\",\"ngmlr_cov\"),\n",
    "    (\"https://s3.amazonaws.com/jbrowse.org/genomes/hg19/reads_lr_skbr3.fa_ngmlr-0.2.3_mapped.bam.sniffles1kb_auto_l8_s5_noalt.vcf.gz\", \"SKBR3 pacbio (sniffles VCF)\",\"breast_cancer_sniffles_hg19\"),\n",
    "    (\"https://s3.amazonaws.com/jbrowse.org/genomes/hg19/skbr3/SKBR3_550bp_pcrFREE_S1_L001_AND_L002_R1_001.101bp.bwamem.ill.mapped.sort.bam\", \"SKBR3 illumina bwamem (BAM)\",\"SKBR3 illumina bwamem (BAM)-id\"),\n",
    "    (\"https://s3.amazonaws.com/jbrowse.org/genomes/hg19/skbr3/SKBR3_550bp_pcrFREE_S1_L001_AND_L002_R1_001.101bp.bwamem.ill.mapped.sort.cram\", \"SKBR3 illumina bwamem (CRAM)\",\"SKBR3 illumina bwamem (CRAM)-id\"),\n",
    "    (\"https://s3.amazonaws.com/jbrowse.org/genomes/hg19/reads_lr_skbr3.fa_ngmlr-0.2.3_mapped.bam\", \"SKBR3 pacbio (NGMLR)\",\"ngmlr\"),\n",
    "    (\"https://s3.amazonaws.com/jbrowse.org/genomes/hg19/GRCh37_latest_genomic.sort.gff.gz\", \"NCBI RefSeq (GFF3Tabix)\",\"ncbi_gff_hg19\")\n",
    "]"
   ]
  },
  {
   "cell_type": "code",
   "execution_count": 6,
   "metadata": {
    "id": "qxwK1FBHPpDr"
   },
   "outputs": [],
   "source": [
    "conf_lgv = create(\"LGV\", genome=\"hg19\")\n",
    "conf_cgv = create(\"CGV\", genome=\"hg19\")\n",
    "for track in tracks:\n",
    "    data = track[0]\n",
    "    track_name = track[1]\n",
    "    track_id = track[2]\n",
    "    conf_lgv.add_track(data, name=track_name, track_id=track_id)\n",
    "# adding a text search adapter for LGV \n",
    "ix = \"https://jbrowse.org/genomes/hg19/trix/hg19.ix\"\n",
    "ixx = \"https://jbrowse.org/genomes/hg19/trix/hg19.ixx\"\n",
    "meta = \"https://jbrowse.org/genomes/hg19/trix/meta.json\"\n",
    "conf_lgv.add_text_search_adapter(ix, ixx, meta)\n",
    "conf_lgv.set_default_session(['ncbi_gff_hg19'], False)\n",
    "conf_cgv.add_track(\"https://s3.amazonaws.com/jbrowse.org/genomes/hg19/reads_lr_skbr3.fa_ngmlr-0.2.3_mapped.bam.sniffles1kb_auto_l8_s5_noalt.vcf.gz\",name=\"SKBR3 pacbio (sniffles VCF)\", track_id=\"breast_cancer_sniffles_hg19\")\n",
    "conf_cgv.set_default_session([\"breast_cancer_sniffles_hg19\"], False)\n",
    "component_test = create_component(conf_cgv.get_config(), id=\"cgv-test\", dash_comp=\"CGV\")"
   ]
  },
  {
   "cell_type": "code",
   "execution_count": 7,
   "metadata": {
    "id": "hyOYH1UjLdiS"
   },
   "outputs": [],
   "source": [
    "# Return the component with a specific location.\n",
    "@app.callback(\n",
    "    Output(\"LGV-component\", \"children\"),\n",
    "    Input(\"location-to-view\", \"value\")\n",
    ")\n",
    "def return_jbrowse(location):\n",
    "    conf_lgv.set_location(location)\n",
    "    return create_component(conf_lgv.get_config(), id=\"lgv-test\", dash_comp=\"LGV\")"
   ]
  },
  {
   "cell_type": "code",
   "execution_count": 8,
   "metadata": {
    "id": "gTz7jhH7P8z8"
   },
   "outputs": [],
   "source": [
    "app.layout = html.Div(\n",
    "    [\n",
    "        html.P(\" SKBR3 Genes involved in fusions \"),\n",
    "        dcc.Dropdown(\n",
    "            id=\"location-to-view\", options=locations, value=\"1:229354402..229354403\", placeholder=\"Select a gene to view.\"\n",
    "        ),\n",
    "        html.Hr(),\n",
    "        dcc.Loading(id=\"LGV-component\"),\n",
    "        html.P(\"Circular Genome View with SKBR3 pacbio (sniffles VCF) track\"),\n",
    "        component_test\n",
    "    ]\n",
    ")"
   ]
  },
  {
   "cell_type": "code",
   "execution_count": 9,
   "metadata": {
    "colab": {
     "base_uri": "https://localhost:8080/",
     "height": 1000
    },
    "id": "rL8gnjaMQHeu",
    "outputId": "9758532d-fcdb-42c0-e527-61fb6c60eae8"
   },
   "outputs": [
    {
     "data": {
      "text/html": [
       "\n",
       "        <iframe\n",
       "            width=\"100%\"\n",
       "            height=\"650\"\n",
       "            src=\"http://127.0.0.1:3031/\"\n",
       "            frameborder=\"0\"\n",
       "            allowfullscreen\n",
       "            \n",
       "        ></iframe>\n",
       "        "
      ],
      "text/plain": [
       "<IPython.lib.display.IFrame at 0x7f5691310690>"
      ]
     },
     "metadata": {},
     "output_type": "display_data"
    }
   ],
   "source": [
    "app.run(mode=\"inline\", height=1000, use_reloader=False, debug=True, port=3031)\n"
   ]
  }
 ],
 "metadata": {
  "colab": {
   "authorship_tag": "ABX9TyOMAEpCwyMSE0fN/WR6igCI",
   "collapsed_sections": [],
   "include_colab_link": true,
   "name": "skbr3.ipynb",
   "provenance": []
  },
  "kernelspec": {
   "display_name": "Python 3 (ipykernel)",
   "language": "python",
   "name": "python3"
  },
  "language_info": {
   "codemirror_mode": {
    "name": "ipython",
    "version": 3
   },
   "file_extension": ".py",
   "mimetype": "text/x-python",
   "name": "python",
   "nbconvert_exporter": "python",
   "pygments_lexer": "ipython3",
   "version": "3.11.6"
  }
 },
 "nbformat": 4,
 "nbformat_minor": 4
}
