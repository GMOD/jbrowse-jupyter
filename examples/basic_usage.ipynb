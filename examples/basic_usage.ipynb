{
 "cells": [
  {
   "cell_type": "code",
   "execution_count": 1,
   "metadata": {},
   "outputs": [
    {
     "name": "stdout",
     "output_type": "stream",
     "text": [
      "Collecting jbrowse-jupyter\n",
      "  Obtaining dependency information for jbrowse-jupyter from https://files.pythonhosted.org/packages/c6/d2/c1502f7ff3d9b9f5f3695f73119ec894733e6a1487cf75a2bb452485f0d7/jbrowse_jupyter-1.5.7-py3-none-any.whl.metadata\n",
      "  Using cached jbrowse_jupyter-1.5.7-py3-none-any.whl.metadata (26 kB)\n",
      "Collecting dash>=2.11.1 (from jbrowse-jupyter)\n",
      "  Obtaining dependency information for dash>=2.11.1 from https://files.pythonhosted.org/packages/7b/62/438626ab498869249e99376684ba6d88931e7c2dd86d03a92d9d7a9b4c54/dash-2.14.2-py3-none-any.whl.metadata\n",
      "  Using cached dash-2.14.2-py3-none-any.whl.metadata (11 kB)\n",
      "Collecting dash-jbrowse>=1.2.0 (from jbrowse-jupyter)\n",
      "  Obtaining dependency information for dash-jbrowse>=1.2.0 from https://files.pythonhosted.org/packages/5b/74/2fdaf145888ad75a5e9ccbf08f9deb2ce2f788d053b8395b9f9b03cac765/dash_jbrowse-1.3.4-py3-none-any.whl.metadata\n",
      "  Using cached dash_jbrowse-1.3.4-py3-none-any.whl.metadata (9.9 kB)\n",
      "Collecting pandas>=1.1.5 (from jbrowse-jupyter)\n",
      "  Obtaining dependency information for pandas>=1.1.5 from https://files.pythonhosted.org/packages/f8/8c/9ad173c5cd2c7178c84075c02ec37b5d1d53fb1d015f51ea3e623ea9c31c/pandas-2.1.4-cp311-cp311-manylinux_2_17_x86_64.manylinux2014_x86_64.whl.metadata\n",
      "  Using cached pandas-2.1.4-cp311-cp311-manylinux_2_17_x86_64.manylinux2014_x86_64.whl.metadata (18 kB)\n",
      "Requirement already satisfied: IPython>=7.0.0 in /home/cdiesh/src/jbrowse-jupyter/lib/python3.11/site-packages (from jbrowse-jupyter) (8.18.1)\n",
      "Collecting Flask<3.1,>=1.0.4 (from dash>=2.11.1->jbrowse-jupyter)\n",
      "  Obtaining dependency information for Flask<3.1,>=1.0.4 from https://files.pythonhosted.org/packages/36/42/015c23096649b908c809c69388a805a571a3bea44362fe87e33fc3afa01f/flask-3.0.0-py3-none-any.whl.metadata\n",
      "  Using cached flask-3.0.0-py3-none-any.whl.metadata (3.6 kB)\n",
      "Collecting Werkzeug<3.1 (from dash>=2.11.1->jbrowse-jupyter)\n",
      "  Obtaining dependency information for Werkzeug<3.1 from https://files.pythonhosted.org/packages/c3/fc/254c3e9b5feb89ff5b9076a23218dafbc99c96ac5941e900b71206e6313b/werkzeug-3.0.1-py3-none-any.whl.metadata\n",
      "  Using cached werkzeug-3.0.1-py3-none-any.whl.metadata (4.1 kB)\n",
      "Collecting plotly>=5.0.0 (from dash>=2.11.1->jbrowse-jupyter)\n",
      "  Obtaining dependency information for plotly>=5.0.0 from https://files.pythonhosted.org/packages/a8/07/72953cf70e3bd3a24cbc3e743e6f8539abe6e3e6d83c3c0c83426eaffd39/plotly-5.18.0-py3-none-any.whl.metadata\n",
      "  Using cached plotly-5.18.0-py3-none-any.whl.metadata (7.0 kB)\n",
      "Collecting dash-html-components==2.0.0 (from dash>=2.11.1->jbrowse-jupyter)\n",
      "  Using cached dash_html_components-2.0.0-py3-none-any.whl (4.1 kB)\n",
      "Collecting dash-core-components==2.0.0 (from dash>=2.11.1->jbrowse-jupyter)\n",
      "  Using cached dash_core_components-2.0.0-py3-none-any.whl (3.8 kB)\n",
      "Collecting dash-table==5.0.0 (from dash>=2.11.1->jbrowse-jupyter)\n",
      "  Using cached dash_table-5.0.0-py3-none-any.whl (3.9 kB)\n",
      "Collecting typing-extensions>=4.1.1 (from dash>=2.11.1->jbrowse-jupyter)\n",
      "  Obtaining dependency information for typing-extensions>=4.1.1 from https://files.pythonhosted.org/packages/b7/f4/6a90020cd2d93349b442bfcb657d0dc91eee65491600b2cb1d388bc98e6b/typing_extensions-4.9.0-py3-none-any.whl.metadata\n",
      "  Using cached typing_extensions-4.9.0-py3-none-any.whl.metadata (3.0 kB)\n",
      "Requirement already satisfied: requests in /home/cdiesh/src/jbrowse-jupyter/lib/python3.11/site-packages (from dash>=2.11.1->jbrowse-jupyter) (2.31.0)\n",
      "Collecting retrying (from dash>=2.11.1->jbrowse-jupyter)\n",
      "  Using cached retrying-1.3.4-py3-none-any.whl (11 kB)\n",
      "Collecting ansi2html (from dash>=2.11.1->jbrowse-jupyter)\n",
      "  Obtaining dependency information for ansi2html from https://files.pythonhosted.org/packages/42/d7/1bc3433a2406b891182c25a7926abe3eb19af5870d540375ebf7795885b3/ansi2html-1.9.1-py3-none-any.whl.metadata\n",
      "  Using cached ansi2html-1.9.1-py3-none-any.whl.metadata (3.7 kB)\n",
      "Requirement already satisfied: nest-asyncio in /home/cdiesh/src/jbrowse-jupyter/lib/python3.11/site-packages (from dash>=2.11.1->jbrowse-jupyter) (1.5.8)\n",
      "Requirement already satisfied: setuptools in /home/cdiesh/src/jbrowse-jupyter/lib/python3.11/site-packages (from dash>=2.11.1->jbrowse-jupyter) (68.1.2)\n",
      "Collecting importlib-metadata (from dash>=2.11.1->jbrowse-jupyter)\n",
      "  Obtaining dependency information for importlib-metadata from https://files.pythonhosted.org/packages/73/26/9777cfe0cdc8181a32eaf542f4a2a435e5aba5dd38f41cfc0a532dc51027/importlib_metadata-7.0.0-py3-none-any.whl.metadata\n",
      "  Using cached importlib_metadata-7.0.0-py3-none-any.whl.metadata (4.9 kB)\n",
      "Requirement already satisfied: decorator in /home/cdiesh/src/jbrowse-jupyter/lib/python3.11/site-packages (from IPython>=7.0.0->jbrowse-jupyter) (5.1.1)\n",
      "Requirement already satisfied: jedi>=0.16 in /home/cdiesh/src/jbrowse-jupyter/lib/python3.11/site-packages (from IPython>=7.0.0->jbrowse-jupyter) (0.19.1)\n",
      "Requirement already satisfied: matplotlib-inline in /home/cdiesh/src/jbrowse-jupyter/lib/python3.11/site-packages (from IPython>=7.0.0->jbrowse-jupyter) (0.1.6)\n",
      "Requirement already satisfied: prompt-toolkit<3.1.0,>=3.0.41 in /home/cdiesh/src/jbrowse-jupyter/lib/python3.11/site-packages (from IPython>=7.0.0->jbrowse-jupyter) (3.0.41)\n",
      "Requirement already satisfied: pygments>=2.4.0 in /home/cdiesh/src/jbrowse-jupyter/lib/python3.11/site-packages (from IPython>=7.0.0->jbrowse-jupyter) (2.17.2)\n",
      "Requirement already satisfied: stack-data in /home/cdiesh/src/jbrowse-jupyter/lib/python3.11/site-packages (from IPython>=7.0.0->jbrowse-jupyter) (0.6.3)\n",
      "Requirement already satisfied: traitlets>=5 in /home/cdiesh/src/jbrowse-jupyter/lib/python3.11/site-packages (from IPython>=7.0.0->jbrowse-jupyter) (5.14.0)\n",
      "Requirement already satisfied: pexpect>4.3 in /home/cdiesh/src/jbrowse-jupyter/lib/python3.11/site-packages (from IPython>=7.0.0->jbrowse-jupyter) (4.9.0)\n",
      "Collecting numpy<2,>=1.23.2 (from pandas>=1.1.5->jbrowse-jupyter)\n",
      "  Obtaining dependency information for numpy<2,>=1.23.2 from https://files.pythonhosted.org/packages/b6/ab/5b893944b1602a366893559bfb227fdfb3ad7c7629b2a80d039bb5924367/numpy-1.26.2-cp311-cp311-manylinux_2_17_x86_64.manylinux2014_x86_64.whl.metadata\n",
      "  Using cached numpy-1.26.2-cp311-cp311-manylinux_2_17_x86_64.manylinux2014_x86_64.whl.metadata (61 kB)\n",
      "Requirement already satisfied: python-dateutil>=2.8.2 in /home/cdiesh/src/jbrowse-jupyter/lib/python3.11/site-packages (from pandas>=1.1.5->jbrowse-jupyter) (2.8.2)\n",
      "Collecting pytz>=2020.1 (from pandas>=1.1.5->jbrowse-jupyter)\n",
      "  Obtaining dependency information for pytz>=2020.1 from https://files.pythonhosted.org/packages/32/4d/aaf7eff5deb402fd9a24a1449a8119f00d74ae9c2efa79f8ef9994261fc2/pytz-2023.3.post1-py2.py3-none-any.whl.metadata\n",
      "  Using cached pytz-2023.3.post1-py2.py3-none-any.whl.metadata (22 kB)\n",
      "Collecting tzdata>=2022.1 (from pandas>=1.1.5->jbrowse-jupyter)\n",
      "  Using cached tzdata-2023.3-py2.py3-none-any.whl (341 kB)\n",
      "Requirement already satisfied: Jinja2>=3.1.2 in /home/cdiesh/src/jbrowse-jupyter/lib/python3.11/site-packages (from Flask<3.1,>=1.0.4->dash>=2.11.1->jbrowse-jupyter) (3.1.2)\n",
      "Collecting itsdangerous>=2.1.2 (from Flask<3.1,>=1.0.4->dash>=2.11.1->jbrowse-jupyter)\n",
      "  Using cached itsdangerous-2.1.2-py3-none-any.whl (15 kB)\n",
      "Collecting click>=8.1.3 (from Flask<3.1,>=1.0.4->dash>=2.11.1->jbrowse-jupyter)\n",
      "  Obtaining dependency information for click>=8.1.3 from https://files.pythonhosted.org/packages/00/2e/d53fa4befbf2cfa713304affc7ca780ce4fc1fd8710527771b58311a3229/click-8.1.7-py3-none-any.whl.metadata\n",
      "  Using cached click-8.1.7-py3-none-any.whl.metadata (3.0 kB)\n",
      "Collecting blinker>=1.6.2 (from Flask<3.1,>=1.0.4->dash>=2.11.1->jbrowse-jupyter)\n",
      "  Obtaining dependency information for blinker>=1.6.2 from https://files.pythonhosted.org/packages/fa/2a/7f3714cbc6356a0efec525ce7a0613d581072ed6eb53eb7b9754f33db807/blinker-1.7.0-py3-none-any.whl.metadata\n",
      "  Using cached blinker-1.7.0-py3-none-any.whl.metadata (1.9 kB)\n",
      "Requirement already satisfied: parso<0.9.0,>=0.8.3 in /home/cdiesh/src/jbrowse-jupyter/lib/python3.11/site-packages (from jedi>=0.16->IPython>=7.0.0->jbrowse-jupyter) (0.8.3)\n",
      "Requirement already satisfied: ptyprocess>=0.5 in /home/cdiesh/src/jbrowse-jupyter/lib/python3.11/site-packages (from pexpect>4.3->IPython>=7.0.0->jbrowse-jupyter) (0.7.0)\n",
      "Collecting tenacity>=6.2.0 (from plotly>=5.0.0->dash>=2.11.1->jbrowse-jupyter)\n",
      "  Obtaining dependency information for tenacity>=6.2.0 from https://files.pythonhosted.org/packages/f4/f1/990741d5bb2487d529d20a433210ffa136a367751e454214013b441c4575/tenacity-8.2.3-py3-none-any.whl.metadata\n",
      "  Using cached tenacity-8.2.3-py3-none-any.whl.metadata (1.0 kB)\n",
      "Requirement already satisfied: packaging in /home/cdiesh/src/jbrowse-jupyter/lib/python3.11/site-packages (from plotly>=5.0.0->dash>=2.11.1->jbrowse-jupyter) (23.2)\n",
      "Requirement already satisfied: wcwidth in /home/cdiesh/src/jbrowse-jupyter/lib/python3.11/site-packages (from prompt-toolkit<3.1.0,>=3.0.41->IPython>=7.0.0->jbrowse-jupyter) (0.2.12)\n",
      "Requirement already satisfied: six>=1.5 in /home/cdiesh/src/jbrowse-jupyter/lib/python3.11/site-packages (from python-dateutil>=2.8.2->pandas>=1.1.5->jbrowse-jupyter) (1.16.0)\n",
      "Requirement already satisfied: MarkupSafe>=2.1.1 in /home/cdiesh/src/jbrowse-jupyter/lib/python3.11/site-packages (from Werkzeug<3.1->dash>=2.11.1->jbrowse-jupyter) (2.1.3)\n",
      "Collecting zipp>=0.5 (from importlib-metadata->dash>=2.11.1->jbrowse-jupyter)\n",
      "  Obtaining dependency information for zipp>=0.5 from https://files.pythonhosted.org/packages/d9/66/48866fc6b158c81cc2bfecc04c480f105c6040e8b077bc54c634b4a67926/zipp-3.17.0-py3-none-any.whl.metadata\n",
      "  Using cached zipp-3.17.0-py3-none-any.whl.metadata (3.7 kB)\n",
      "Requirement already satisfied: charset-normalizer<4,>=2 in /home/cdiesh/src/jbrowse-jupyter/lib/python3.11/site-packages (from requests->dash>=2.11.1->jbrowse-jupyter) (3.3.2)\n",
      "Requirement already satisfied: idna<4,>=2.5 in /home/cdiesh/src/jbrowse-jupyter/lib/python3.11/site-packages (from requests->dash>=2.11.1->jbrowse-jupyter) (3.6)\n",
      "Requirement already satisfied: urllib3<3,>=1.21.1 in /home/cdiesh/src/jbrowse-jupyter/lib/python3.11/site-packages (from requests->dash>=2.11.1->jbrowse-jupyter) (2.1.0)\n",
      "Requirement already satisfied: certifi>=2017.4.17 in /home/cdiesh/src/jbrowse-jupyter/lib/python3.11/site-packages (from requests->dash>=2.11.1->jbrowse-jupyter) (2023.11.17)\n",
      "Requirement already satisfied: executing>=1.2.0 in /home/cdiesh/src/jbrowse-jupyter/lib/python3.11/site-packages (from stack-data->IPython>=7.0.0->jbrowse-jupyter) (2.0.1)\n",
      "Requirement already satisfied: asttokens>=2.1.0 in /home/cdiesh/src/jbrowse-jupyter/lib/python3.11/site-packages (from stack-data->IPython>=7.0.0->jbrowse-jupyter) (2.4.1)\n",
      "Requirement already satisfied: pure-eval in /home/cdiesh/src/jbrowse-jupyter/lib/python3.11/site-packages (from stack-data->IPython>=7.0.0->jbrowse-jupyter) (0.2.2)\n",
      "Using cached jbrowse_jupyter-1.5.7-py3-none-any.whl (27 kB)\n",
      "Using cached dash-2.14.2-py3-none-any.whl (10.2 MB)\n",
      "Using cached dash_jbrowse-1.3.4-py3-none-any.whl (1.7 MB)\n",
      "Using cached pandas-2.1.4-cp311-cp311-manylinux_2_17_x86_64.manylinux2014_x86_64.whl (12.2 MB)\n",
      "Using cached flask-3.0.0-py3-none-any.whl (99 kB)\n",
      "Using cached numpy-1.26.2-cp311-cp311-manylinux_2_17_x86_64.manylinux2014_x86_64.whl (18.2 MB)\n",
      "Using cached plotly-5.18.0-py3-none-any.whl (15.6 MB)\n",
      "Using cached pytz-2023.3.post1-py2.py3-none-any.whl (502 kB)\n",
      "Using cached typing_extensions-4.9.0-py3-none-any.whl (32 kB)\n",
      "Using cached werkzeug-3.0.1-py3-none-any.whl (226 kB)\n",
      "Using cached ansi2html-1.9.1-py3-none-any.whl (17 kB)\n",
      "Using cached importlib_metadata-7.0.0-py3-none-any.whl (23 kB)\n",
      "Using cached blinker-1.7.0-py3-none-any.whl (13 kB)\n",
      "Using cached click-8.1.7-py3-none-any.whl (97 kB)\n",
      "Using cached tenacity-8.2.3-py3-none-any.whl (24 kB)\n",
      "Using cached zipp-3.17.0-py3-none-any.whl (7.4 kB)\n",
      "Installing collected packages: pytz, dash-table, dash-html-components, dash-core-components, zipp, Werkzeug, tzdata, typing-extensions, tenacity, retrying, numpy, itsdangerous, click, blinker, ansi2html, plotly, pandas, importlib-metadata, Flask, dash, dash-jbrowse, jbrowse-jupyter\n",
      "Successfully installed Flask-3.0.0 Werkzeug-3.0.1 ansi2html-1.9.1 blinker-1.7.0 click-8.1.7 dash-2.14.2 dash-core-components-2.0.0 dash-html-components-2.0.0 dash-jbrowse-1.3.4 dash-table-5.0.0 importlib-metadata-7.0.0 itsdangerous-2.1.2 jbrowse-jupyter-1.5.7 numpy-1.26.2 pandas-2.1.4 plotly-5.18.0 pytz-2023.3.post1 retrying-1.3.4 tenacity-8.2.3 typing-extensions-4.9.0 tzdata-2023.3 zipp-3.17.0\n",
      "Requirement already satisfied: pandas in /home/cdiesh/src/jbrowse-jupyter/lib/python3.11/site-packages (2.1.4)\n",
      "Requirement already satisfied: numpy<2,>=1.23.2 in /home/cdiesh/src/jbrowse-jupyter/lib/python3.11/site-packages (from pandas) (1.26.2)\n",
      "Requirement already satisfied: python-dateutil>=2.8.2 in /home/cdiesh/src/jbrowse-jupyter/lib/python3.11/site-packages (from pandas) (2.8.2)\n",
      "Requirement already satisfied: pytz>=2020.1 in /home/cdiesh/src/jbrowse-jupyter/lib/python3.11/site-packages (from pandas) (2023.3.post1)\n",
      "Requirement already satisfied: tzdata>=2022.1 in /home/cdiesh/src/jbrowse-jupyter/lib/python3.11/site-packages (from pandas) (2023.3)\n",
      "Requirement already satisfied: six>=1.5 in /home/cdiesh/src/jbrowse-jupyter/lib/python3.11/site-packages (from python-dateutil>=2.8.2->pandas) (1.16.0)\n"
     ]
    }
   ],
   "source": [
    "# For its use in colab notebook\n",
    "!pip install jbrowse-jupyter\n",
    "!pip install pandas"
   ]
  },
  {
   "cell_type": "code",
   "execution_count": 2,
   "metadata": {},
   "outputs": [],
   "source": [
    "import pandas as pd\n",
    "from jbrowse_jupyter import launch, create"
   ]
  },
  {
   "cell_type": "code",
   "execution_count": 3,
   "metadata": {},
   "outputs": [
    {
     "data": {
      "text/html": [
       "\n",
       "        <iframe\n",
       "            width=\"100%\"\n",
       "            height=\"650\"\n",
       "            src=\"http://127.0.0.1:8000/\"\n",
       "            frameborder=\"0\"\n",
       "            allowfullscreen\n",
       "            \n",
       "        ></iframe>\n",
       "        "
      ],
      "text/plain": [
       "<IPython.lib.display.IFrame at 0x7f2b479bcb90>"
      ]
     },
     "metadata": {},
     "output_type": "display_data"
    }
   ],
   "source": [
    "hg38 = create('LGV', genome='hg38')\n",
    "tracks = [\n",
    "    (\"https://s3.amazonaws.com/jbrowse.org/genomes/GRCh38/ncbi_refseq/GCA_000001405.15_GRCh38_full_analysis_set.refseq_annotation.sorted.gff.gz\", \"gff-demo\"),\n",
    "    (\"https://s3.amazonaws.com/jbrowse.org/genomes/GRCh38/skbr3/SKBR3_Feb17_GRCh38.sorted.bam\", \"bam-demo\"),\n",
    "    (\"https://hgdownload.cse.ucsc.edu/goldenpath/hg38/phyloP100way/hg38.phyloP100way.bw\", \"bigwig-demo\"),\n",
    "    (\"https://ftp.ncbi.nlm.nih.gov/pub/clinvar/vcf_GRCh38/clinvar.vcf.gz\", \"vcf-demo\"),\n",
    "    (\"https://jbrowse.org/genomes/GRCh38/repeats.bb\", \"bigbed\")\n",
    "]\n",
    "for track in tracks:\n",
    "    data = track[0]\n",
    "    track_id = track[1]\n",
    "    hg38.add_track(data, track_id=track_id)\n",
    "    data = {'refName':['1','1'],\n",
    "        'start':[110589581,110591581],\n",
    "        'end':[110599581,110592581],\n",
    "        'name':['feature1', 'feature2']}\n",
    "\n",
    "df = pd.DataFrame(data)\n",
    "hg38.add_df_track(df, 'track_name', track_id=\"df_track_id\", overwrite=True)\n",
    "hg38.set_theme(\"#311b92\", \"#0097a7\", \"#f57c00\", \"#d50000\")\n",
    "hg38.set_default_session(['df_track_id', 'gff-demo', 'bigbed'],False)\n",
    "hg38.set_location(\"1:110,589,591..110,639,875\")\n",
    "launch(hg38.get_config(), id=\"test-2\",height=800, dash_comp=\"LGV\", port=8000)"
   ]
  }
 ],
 "metadata": {
  "kernelspec": {
   "display_name": "Python 3 (ipykernel)",
   "language": "python",
   "name": "python3"
  },
  "language_info": {
   "codemirror_mode": {
    "name": "ipython",
    "version": 3
   },
   "file_extension": ".py",
   "mimetype": "text/x-python",
   "name": "python",
   "nbconvert_exporter": "python",
   "pygments_lexer": "ipython3",
   "version": "3.11.6"
  },
  "vscode": {
   "interpreter": {
    "hash": "aaf81c8f28912d07c45359b3a81eb2244c23c90e1b370733684a5666e4e4597e"
   }
  }
 },
 "nbformat": 4,
 "nbformat_minor": 4
}
