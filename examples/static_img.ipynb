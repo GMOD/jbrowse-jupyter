{
 "cells": [
  {
   "cell_type": "code",
   "execution_count": null,
   "metadata": {},
   "outputs": [],
   "source": [
    "console.log(\"hi\")"
   ]
  }
 ],
 "metadata": {
  "interpreter": {
   "hash": "bee3c321f9f669a9e3b8c1934f5daf877346e54e846190854d7a12cca3cd2302"
  },
  "kernelspec": {
   "display_name": "Python 3.8.13 ('js-jbrowse')",
   "language": "python",
   "name": "python3"
  },
  "language_info": {
   "codemirror_mode": {
    "name": "ipython",
    "version": 3
   },
   "file_extension": ".py",
   "mimetype": "text/x-python",
   "name": "python",
   "nbconvert_exporter": "python",
   "pygments_lexer": "ipython3",
   "version": "3.8.13"
  }
 },
 "nbformat": 4,
 "nbformat_minor": 4
}
