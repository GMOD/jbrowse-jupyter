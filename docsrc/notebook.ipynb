{
 "cells": [
  {
   "cell_type": "markdown",
   "metadata": {},
   "source": [
    "## Jupyter Notebook Example"
   ]
  },
  {
   "cell_type": "code",
   "execution_count": 24,
   "metadata": {},
   "outputs": [],
   "source": [
    "import pandas as pd\n",
    "import jbrowse_jupyter as jbrowse"
   ]
  },
  {
   "cell_type": "code",
   "execution_count": 25,
   "metadata": {},
   "outputs": [],
   "source": [
    "# launching a hg38 view \n",
    "hg38 = jbrowse.create('view', genome='hg38')\n",
    "hg38.set_location(\"10:29838781..29838790\")\n",
    "conf = hg38.get_config()\n",
    "# jbrowse.launch(conf, port=3000, height=500)"
   ]
  },
  {
   "cell_type": "markdown",
   "metadata": {},
   "source": [
    "![hg38](./image.png)\n",
    "\n"
   ]
  },
  {
   "cell_type": "markdown",
   "metadata": {},
   "source": [
    "> **_NOTE:_** uncommenting the code above would launch a LinearGenomeView Dash JBrowse component with a default hg38 configuration.\n"
   ]
  },
  {
   "cell_type": "code",
   "execution_count": 26,
   "metadata": {},
   "outputs": [
    {
     "name": "stdout",
     "output_type": "stream",
     "text": [
      "  refName  start  end      name\n",
      "0      10    100  175  feature1\n",
      "1      10    150  225  feature2\n",
      "2      10    200  275  feature3\n",
      "3      10    250  325  feature4\n"
     ]
    }
   ],
   "source": [
    "data = {'refName':['10', '10', '10', '10'],\n",
    "        'start':[100, 150, 200, 250],\n",
    "        'end':[175, 225, 275, 325],\n",
    "        'name':['feature1', 'feature2', 'feature3', 'feature4']}\n",
    "\n",
    "df = pd.DataFrame(data)\n",
    "print(df)\n",
    "hg38.add_df_track(df, 'track_name', track_id=\"data_frame_track_id\")"
   ]
  },
  {
   "cell_type": "code",
   "execution_count": 27,
   "metadata": {},
   "outputs": [],
   "source": [
    "hg38.set_location(\"10:100..350\")\n",
    "hg38.set_default_session(['data_frame_track_id'], False)\n",
    "new_conf = hg38.get_config()\n",
    "# jbrowse.launch(new_conf, component_id=\"new-test\")"
   ]
  },
  {
   "cell_type": "markdown",
   "metadata": {},
   "source": [
    "![dataframe](./image2.png)\n"
   ]
  },
  {
   "cell_type": "markdown",
   "metadata": {},
   "source": [
    "*Showing a Linear Genome View with a FeatureTrack created from a pandas DataFrame*"
   ]
  },
  {
   "cell_type": "code",
   "execution_count": 28,
   "metadata": {},
   "outputs": [],
   "source": [
    "# add different types of tracks\n",
    "tracks = [\n",
    "    (\"https://s3.amazonaws.com/jbrowse.org/genomes/GRCh38/ncbi_refseq/GCA_000001405.15_GRCh38_full_analysis_set.refseq_annotation.sorted.gff.gz\", \"gff-demo\"),\n",
    "    (\"https://s3.amazonaws.com/jbrowse.org/genomes/GRCh38/skbr3/SKBR3_Feb17_GRCh38.sorted.bam\", \"bam-demo\"),\n",
    "    (\"https://s3.amazonaws.com/jbrowse.org/genomes/hg19/skbr3/reads_lr_skbr3.fa_ngmlr-0.2.3_mapped.down.cram\", \"cram-demo\"),\n",
    "    (\"https://hgdownload.cse.ucsc.edu/goldenpath/hg38/phyloP100way/hg38.phyloP100way.bw\", \"bigwig-demo\"),\n",
    "    (\"https://ftp.ncbi.nlm.nih.gov/pub/clinvar/vcf_GRCh38/clinvar.vcf.gz\", \"vcf-demo\"),\n",
    "    (\"https://jbrowse.org/genomes/GRCh38/repeats.bb\", \"bigbed\")\n",
    "]\n",
    "for track in tracks:\n",
    "    data = track[0]\n",
    "    name = track[1]\n",
    "    hg38.add_track(data, track_id=name)"
   ]
  },
  {
   "cell_type": "code",
   "execution_count": 29,
   "metadata": {},
   "outputs": [],
   "source": [
    "# === customize theme ===\n",
    "hg38.set_theme(\"#311b92\", \"#0097a7\", \"#f57c00\", \"#d50000\")\n",
    "\n",
    "# === display tracks with trackId ===\n",
    "hg38.set_default_session(['gff-demo', 'bigbed'],False)\n",
    "hg38.set_location(\"1:110654228..110936130\")\n",
    "new_conf2 = hg38.get_config()\n",
    "# jbrowse.launch(new_conf2, component_id=\"new-test2\", height=400, dash_comp=\"LGV\")"
   ]
  },
  {
   "cell_type": "markdown",
   "metadata": {},
   "source": [
    "![tracks](./image3.png)"
   ]
  },
  {
   "cell_type": "code",
   "execution_count": null,
   "metadata": {},
   "outputs": [],
   "source": []
  }
 ],
 "metadata": {
  "kernelspec": {
   "display_name": "Python 3 (ipykernel)",
   "language": "python",
   "name": "python3"
  },
  "language_info": {
   "codemirror_mode": {
    "name": "ipython",
    "version": 3
   },
   "file_extension": ".py",
   "mimetype": "text/x-python",
   "name": "python",
   "nbconvert_exporter": "python",
   "pygments_lexer": "ipython3",
   "version": "3.8.12"
  },
  "widgets": {
   "application/vnd.jupyter.widget-state+json": {
    "state": {},
    "version_major": 2,
    "version_minor": 0
   }
  }
 },
 "nbformat": 4,
 "nbformat_minor": 2
}
