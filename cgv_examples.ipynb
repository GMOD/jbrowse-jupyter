{
 "metadata": {
  "language_info": {
   "codemirror_mode": {
    "name": "ipython",
    "version": 3
   },
   "file_extension": ".py",
   "mimetype": "text/x-python",
   "name": "python",
   "nbconvert_exporter": "python",
   "pygments_lexer": "ipython3",
   "version": "3.8.12-final"
  },
  "orig_nbformat": 2,
  "kernelspec": {
   "name": "python3",
   "display_name": "Python 3.8.12 64-bit ('jbrowse-jupyter': conda)",
   "metadata": {
    "interpreter": {
     "hash": "dc9fc419d624b95bc9cc0bd84733299ab39c72ed5f2a2912fba5b902d66850aa"
    }
   }
  }
 },
 "nbformat": 4,
 "nbformat_minor": 2,
 "cells": [
  {
   "cell_type": "code",
   "execution_count": 1,
   "metadata": {},
   "outputs": [],
   "source": [
    "from jbrowse_jupyter import launch, create"
   ]
  },
  {
   "cell_type": "code",
   "execution_count": 2,
   "metadata": {},
   "outputs": [],
   "source": [
    "# creates an empty CircularGenome View JBrowseConfig\n",
    "browser = create(\"CGV\")"
   ]
  },
  {
   "cell_type": "code",
   "execution_count": 3,
   "metadata": {},
   "outputs": [],
   "source": [
    "browser.set_assembly(\"https://jbrowse.org/genomes/hg19/fasta/hg19.fa.gz\",aliases=[\"GRCh37\"])\n",
    "browser.add_track(\"https://s3.amazonaws.com/jbrowse.org/genomes/hg19/pacbio/hs37d5.HG002-SequelII-CCS.bnd-only.sv.vcf.gz\", track_id=\"variantTest\",overwrite=True)\n",
    "browser.set_default_session([\"variantTest\"], False)\n",
    "cgv_conf = browser.get_config()"
   ]
  },
  {
   "cell_type": "code",
   "execution_count": 5,
   "metadata": {},
   "outputs": [
    {
     "output_type": "display_data",
     "data": {
      "text/plain": "<IPython.lib.display.IFrame at 0x7fa55856a040>",
      "text/html": "\n        <iframe\n            width=\"100%\"\n            height=\"400\"\n            src=\"http://127.0.0.1:8002/\"\n            frameborder=\"0\"\n            allowfullscreen\n            \n        ></iframe>\n        "
     },
     "metadata": {}
    }
   ],
   "source": [
    "launch(cgv_conf,dash_comp=\"CGV\",height=400, port=8002)"
   ]
  },
  {
   "cell_type": "code",
   "execution_count": null,
   "metadata": {},
   "outputs": [],
   "source": [
    "browser2 = create(\"CGV\", genome=\"hg38\")\n",
    "launch(browser2.get_config(), dash_comp=\"CGV\")"
   ]
  }
 ]
}