{
 "cells": [
  {
   "cell_type": "code",
   "execution_count": 2,
   "metadata": {},
   "outputs": [
    {
     "name": "stdout",
     "output_type": "stream",
     "text": [
      "Collecting jbrowse-jupyter\n",
      "  Obtaining dependency information for jbrowse-jupyter from https://files.pythonhosted.org/packages/c6/d2/c1502f7ff3d9b9f5f3695f73119ec894733e6a1487cf75a2bb452485f0d7/jbrowse_jupyter-1.5.7-py3-none-any.whl.metadata\n",
      "  Downloading jbrowse_jupyter-1.5.7-py3-none-any.whl.metadata (26 kB)\n",
      "Requirement already satisfied: dash>=2.11.1 in /home/cdiesh/src/dash_jbrowse/lib/python3.11/site-packages (from jbrowse-jupyter) (2.14.2)\n",
      "Collecting dash-jbrowse>=1.2.0 (from jbrowse-jupyter)\n",
      "  Obtaining dependency information for dash-jbrowse>=1.2.0 from https://files.pythonhosted.org/packages/5b/74/2fdaf145888ad75a5e9ccbf08f9deb2ce2f788d053b8395b9f9b03cac765/dash_jbrowse-1.3.4-py3-none-any.whl.metadata\n",
      "  Using cached dash_jbrowse-1.3.4-py3-none-any.whl.metadata (9.9 kB)\n",
      "Collecting pandas>=1.1.5 (from jbrowse-jupyter)\n",
      "  Obtaining dependency information for pandas>=1.1.5 from https://files.pythonhosted.org/packages/f8/8c/9ad173c5cd2c7178c84075c02ec37b5d1d53fb1d015f51ea3e623ea9c31c/pandas-2.1.4-cp311-cp311-manylinux_2_17_x86_64.manylinux2014_x86_64.whl.metadata\n",
      "  Using cached pandas-2.1.4-cp311-cp311-manylinux_2_17_x86_64.manylinux2014_x86_64.whl.metadata (18 kB)\n",
      "Requirement already satisfied: IPython>=7.0.0 in /home/cdiesh/src/dash_jbrowse/lib/python3.11/site-packages (from jbrowse-jupyter) (8.18.1)\n",
      "Requirement already satisfied: Flask<3.1,>=1.0.4 in /home/cdiesh/src/dash_jbrowse/lib/python3.11/site-packages (from dash>=2.11.1->jbrowse-jupyter) (3.0.0)\n",
      "Requirement already satisfied: Werkzeug<3.1 in /home/cdiesh/src/dash_jbrowse/lib/python3.11/site-packages (from dash>=2.11.1->jbrowse-jupyter) (3.0.1)\n",
      "Requirement already satisfied: plotly>=5.0.0 in /home/cdiesh/src/dash_jbrowse/lib/python3.11/site-packages (from dash>=2.11.1->jbrowse-jupyter) (5.18.0)\n",
      "Requirement already satisfied: dash-html-components==2.0.0 in /home/cdiesh/src/dash_jbrowse/lib/python3.11/site-packages (from dash>=2.11.1->jbrowse-jupyter) (2.0.0)\n",
      "Requirement already satisfied: dash-core-components==2.0.0 in /home/cdiesh/src/dash_jbrowse/lib/python3.11/site-packages (from dash>=2.11.1->jbrowse-jupyter) (2.0.0)\n",
      "Requirement already satisfied: dash-table==5.0.0 in /home/cdiesh/src/dash_jbrowse/lib/python3.11/site-packages (from dash>=2.11.1->jbrowse-jupyter) (5.0.0)\n",
      "Requirement already satisfied: typing-extensions>=4.1.1 in /home/cdiesh/src/dash_jbrowse/lib/python3.11/site-packages (from dash>=2.11.1->jbrowse-jupyter) (4.9.0)\n",
      "Requirement already satisfied: requests in /home/cdiesh/src/dash_jbrowse/lib/python3.11/site-packages (from dash>=2.11.1->jbrowse-jupyter) (2.31.0)\n",
      "Requirement already satisfied: retrying in /home/cdiesh/src/dash_jbrowse/lib/python3.11/site-packages (from dash>=2.11.1->jbrowse-jupyter) (1.3.4)\n",
      "Requirement already satisfied: ansi2html in /home/cdiesh/src/dash_jbrowse/lib/python3.11/site-packages (from dash>=2.11.1->jbrowse-jupyter) (1.9.1)\n",
      "Requirement already satisfied: nest-asyncio in /home/cdiesh/src/dash_jbrowse/lib/python3.11/site-packages (from dash>=2.11.1->jbrowse-jupyter) (1.5.8)\n",
      "Requirement already satisfied: setuptools in /home/cdiesh/src/dash_jbrowse/lib/python3.11/site-packages (from dash>=2.11.1->jbrowse-jupyter) (68.1.2)\n",
      "Requirement already satisfied: importlib-metadata in /home/cdiesh/src/dash_jbrowse/lib/python3.11/site-packages (from dash>=2.11.1->jbrowse-jupyter) (7.0.0)\n",
      "Requirement already satisfied: decorator in /home/cdiesh/src/dash_jbrowse/lib/python3.11/site-packages (from IPython>=7.0.0->jbrowse-jupyter) (5.1.1)\n",
      "Requirement already satisfied: jedi>=0.16 in /home/cdiesh/src/dash_jbrowse/lib/python3.11/site-packages (from IPython>=7.0.0->jbrowse-jupyter) (0.19.1)\n",
      "Requirement already satisfied: matplotlib-inline in /home/cdiesh/src/dash_jbrowse/lib/python3.11/site-packages (from IPython>=7.0.0->jbrowse-jupyter) (0.1.6)\n",
      "Requirement already satisfied: prompt-toolkit<3.1.0,>=3.0.41 in /home/cdiesh/src/dash_jbrowse/lib/python3.11/site-packages (from IPython>=7.0.0->jbrowse-jupyter) (3.0.41)\n",
      "Requirement already satisfied: pygments>=2.4.0 in /home/cdiesh/src/dash_jbrowse/lib/python3.11/site-packages (from IPython>=7.0.0->jbrowse-jupyter) (2.17.2)\n",
      "Requirement already satisfied: stack-data in /home/cdiesh/src/dash_jbrowse/lib/python3.11/site-packages (from IPython>=7.0.0->jbrowse-jupyter) (0.6.3)\n",
      "Requirement already satisfied: traitlets>=5 in /home/cdiesh/src/dash_jbrowse/lib/python3.11/site-packages (from IPython>=7.0.0->jbrowse-jupyter) (5.14.0)\n",
      "Requirement already satisfied: pexpect>4.3 in /home/cdiesh/src/dash_jbrowse/lib/python3.11/site-packages (from IPython>=7.0.0->jbrowse-jupyter) (4.9.0)\n",
      "Collecting numpy<2,>=1.23.2 (from pandas>=1.1.5->jbrowse-jupyter)\n",
      "  Obtaining dependency information for numpy<2,>=1.23.2 from https://files.pythonhosted.org/packages/b6/ab/5b893944b1602a366893559bfb227fdfb3ad7c7629b2a80d039bb5924367/numpy-1.26.2-cp311-cp311-manylinux_2_17_x86_64.manylinux2014_x86_64.whl.metadata\n",
      "  Using cached numpy-1.26.2-cp311-cp311-manylinux_2_17_x86_64.manylinux2014_x86_64.whl.metadata (61 kB)\n",
      "Requirement already satisfied: python-dateutil>=2.8.2 in /home/cdiesh/src/dash_jbrowse/lib/python3.11/site-packages (from pandas>=1.1.5->jbrowse-jupyter) (2.8.2)\n",
      "Collecting pytz>=2020.1 (from pandas>=1.1.5->jbrowse-jupyter)\n",
      "  Obtaining dependency information for pytz>=2020.1 from https://files.pythonhosted.org/packages/32/4d/aaf7eff5deb402fd9a24a1449a8119f00d74ae9c2efa79f8ef9994261fc2/pytz-2023.3.post1-py2.py3-none-any.whl.metadata\n",
      "  Using cached pytz-2023.3.post1-py2.py3-none-any.whl.metadata (22 kB)\n",
      "Collecting tzdata>=2022.1 (from pandas>=1.1.5->jbrowse-jupyter)\n",
      "  Using cached tzdata-2023.3-py2.py3-none-any.whl (341 kB)\n",
      "Requirement already satisfied: Jinja2>=3.1.2 in /home/cdiesh/src/dash_jbrowse/lib/python3.11/site-packages (from Flask<3.1,>=1.0.4->dash>=2.11.1->jbrowse-jupyter) (3.1.2)\n",
      "Requirement already satisfied: itsdangerous>=2.1.2 in /home/cdiesh/src/dash_jbrowse/lib/python3.11/site-packages (from Flask<3.1,>=1.0.4->dash>=2.11.1->jbrowse-jupyter) (2.1.2)\n",
      "Requirement already satisfied: click>=8.1.3 in /home/cdiesh/src/dash_jbrowse/lib/python3.11/site-packages (from Flask<3.1,>=1.0.4->dash>=2.11.1->jbrowse-jupyter) (8.1.7)\n",
      "Requirement already satisfied: blinker>=1.6.2 in /home/cdiesh/src/dash_jbrowse/lib/python3.11/site-packages (from Flask<3.1,>=1.0.4->dash>=2.11.1->jbrowse-jupyter) (1.7.0)\n",
      "Requirement already satisfied: parso<0.9.0,>=0.8.3 in /home/cdiesh/src/dash_jbrowse/lib/python3.11/site-packages (from jedi>=0.16->IPython>=7.0.0->jbrowse-jupyter) (0.8.3)\n",
      "Requirement already satisfied: ptyprocess>=0.5 in /home/cdiesh/src/dash_jbrowse/lib/python3.11/site-packages (from pexpect>4.3->IPython>=7.0.0->jbrowse-jupyter) (0.7.0)\n",
      "Requirement already satisfied: tenacity>=6.2.0 in /home/cdiesh/src/dash_jbrowse/lib/python3.11/site-packages (from plotly>=5.0.0->dash>=2.11.1->jbrowse-jupyter) (8.2.3)\n",
      "Requirement already satisfied: packaging in /home/cdiesh/src/dash_jbrowse/lib/python3.11/site-packages (from plotly>=5.0.0->dash>=2.11.1->jbrowse-jupyter) (23.2)\n",
      "Requirement already satisfied: wcwidth in /home/cdiesh/src/dash_jbrowse/lib/python3.11/site-packages (from prompt-toolkit<3.1.0,>=3.0.41->IPython>=7.0.0->jbrowse-jupyter) (0.2.12)\n",
      "Requirement already satisfied: six>=1.5 in /home/cdiesh/src/dash_jbrowse/lib/python3.11/site-packages (from python-dateutil>=2.8.2->pandas>=1.1.5->jbrowse-jupyter) (1.16.0)\n",
      "Requirement already satisfied: MarkupSafe>=2.1.1 in /home/cdiesh/src/dash_jbrowse/lib/python3.11/site-packages (from Werkzeug<3.1->dash>=2.11.1->jbrowse-jupyter) (2.1.3)\n",
      "Requirement already satisfied: zipp>=0.5 in /home/cdiesh/src/dash_jbrowse/lib/python3.11/site-packages (from importlib-metadata->dash>=2.11.1->jbrowse-jupyter) (3.17.0)\n",
      "Requirement already satisfied: charset-normalizer<4,>=2 in /home/cdiesh/src/dash_jbrowse/lib/python3.11/site-packages (from requests->dash>=2.11.1->jbrowse-jupyter) (3.3.2)\n",
      "Requirement already satisfied: idna<4,>=2.5 in /home/cdiesh/src/dash_jbrowse/lib/python3.11/site-packages (from requests->dash>=2.11.1->jbrowse-jupyter) (3.6)\n",
      "Requirement already satisfied: urllib3<3,>=1.21.1 in /home/cdiesh/src/dash_jbrowse/lib/python3.11/site-packages (from requests->dash>=2.11.1->jbrowse-jupyter) (2.1.0)\n",
      "Requirement already satisfied: certifi>=2017.4.17 in /home/cdiesh/src/dash_jbrowse/lib/python3.11/site-packages (from requests->dash>=2.11.1->jbrowse-jupyter) (2023.11.17)\n",
      "Requirement already satisfied: executing>=1.2.0 in /home/cdiesh/src/dash_jbrowse/lib/python3.11/site-packages (from stack-data->IPython>=7.0.0->jbrowse-jupyter) (2.0.1)\n",
      "Requirement already satisfied: asttokens>=2.1.0 in /home/cdiesh/src/dash_jbrowse/lib/python3.11/site-packages (from stack-data->IPython>=7.0.0->jbrowse-jupyter) (2.4.1)\n",
      "Requirement already satisfied: pure-eval in /home/cdiesh/src/dash_jbrowse/lib/python3.11/site-packages (from stack-data->IPython>=7.0.0->jbrowse-jupyter) (0.2.2)\n",
      "Downloading jbrowse_jupyter-1.5.7-py3-none-any.whl (27 kB)\n",
      "Using cached dash_jbrowse-1.3.4-py3-none-any.whl (1.7 MB)\n",
      "Using cached pandas-2.1.4-cp311-cp311-manylinux_2_17_x86_64.manylinux2014_x86_64.whl (12.2 MB)\n",
      "Using cached numpy-1.26.2-cp311-cp311-manylinux_2_17_x86_64.manylinux2014_x86_64.whl (18.2 MB)\n",
      "Using cached pytz-2023.3.post1-py2.py3-none-any.whl (502 kB)\n",
      "Installing collected packages: pytz, tzdata, numpy, pandas, dash-jbrowse, jbrowse-jupyter\n",
      "Successfully installed dash-jbrowse-1.3.4 jbrowse-jupyter-1.5.7 numpy-1.26.2 pandas-2.1.4 pytz-2023.3.post1 tzdata-2023.3\n",
      "Requirement already satisfied: pandas in /home/cdiesh/src/dash_jbrowse/lib/python3.11/site-packages (2.1.4)\n",
      "Requirement already satisfied: numpy<2,>=1.23.2 in /home/cdiesh/src/dash_jbrowse/lib/python3.11/site-packages (from pandas) (1.26.2)\n",
      "Requirement already satisfied: python-dateutil>=2.8.2 in /home/cdiesh/src/dash_jbrowse/lib/python3.11/site-packages (from pandas) (2.8.2)\n",
      "Requirement already satisfied: pytz>=2020.1 in /home/cdiesh/src/dash_jbrowse/lib/python3.11/site-packages (from pandas) (2023.3.post1)\n",
      "Requirement already satisfied: tzdata>=2022.1 in /home/cdiesh/src/dash_jbrowse/lib/python3.11/site-packages (from pandas) (2023.3)\n",
      "Requirement already satisfied: six>=1.5 in /home/cdiesh/src/dash_jbrowse/lib/python3.11/site-packages (from python-dateutil>=2.8.2->pandas) (1.16.0)\n"
     ]
    }
   ],
   "source": [
    "# For its use in colab notebook\n",
    "!pip install jbrowse-jupyter\n",
    "!pip install pandas"
   ]
  },
  {
   "cell_type": "code",
   "execution_count": 3,
   "metadata": {},
   "outputs": [],
   "source": [
    "import pandas as pd\n",
    "from jbrowse_jupyter import launch, create"
   ]
  },
  {
   "cell_type": "code",
   "execution_count": 9,
   "metadata": {},
   "outputs": [
    {
     "data": {
      "text/html": [
       "\n",
       "        <iframe\n",
       "            width=\"100%\"\n",
       "            height=\"650\"\n",
       "            src=\"http://127.0.0.1:8000/\"\n",
       "            frameborder=\"0\"\n",
       "            allowfullscreen\n",
       "            \n",
       "        ></iframe>\n",
       "        "
      ],
      "text/plain": [
       "<IPython.lib.display.IFrame at 0x7f2ea2e45190>"
      ]
     },
     "metadata": {},
     "output_type": "display_data"
    }
   ],
   "source": [
    "hg38 = create('LGV', genome='hg38')\n",
    "tracks = [\n",
    "    (\"https://s3.amazonaws.com/jbrowse.org/genomes/GRCh38/ncbi_refseq/GCA_000001405.15_GRCh38_full_analysis_set.refseq_annotation.sorted.gff.gz\", \"gff-demo\"),\n",
    "    (\"https://s3.amazonaws.com/jbrowse.org/genomes/GRCh38/skbr3/SKBR3_Feb17_GRCh38.sorted.bam\", \"bam-demo\"),\n",
    "    (\"https://hgdownload.cse.ucsc.edu/goldenpath/hg38/phyloP100way/hg38.phyloP100way.bw\", \"bigwig-demo\"),\n",
    "    (\"https://ftp.ncbi.nlm.nih.gov/pub/clinvar/vcf_GRCh38/clinvar.vcf.gz\", \"vcf-demo\"),\n",
    "    (\"https://jbrowse.org/genomes/GRCh38/repeats.bb\", \"bigbed\")\n",
    "]\n",
    "for track in tracks:\n",
    "    data = track[0]\n",
    "    track_id = track[1]\n",
    "    hg38.add_track(data, track_id=track_id)\n",
    "    data = {'refName':['1','1'],\n",
    "        'start':[110589581,110591581],\n",
    "        'end':[110599581,110592581],\n",
    "        'name':['feature1', 'feature2']}\n",
    "\n",
    "df = pd.DataFrame(data)\n",
    "hg38.add_df_track(df, 'track_name', track_id=\"df_track_id\", overwrite=True)\n",
    "hg38.set_theme(\"#311b92\", \"#0097a7\", \"#f57c00\", \"#d50000\")\n",
    "hg38.set_default_session(['df_track_id', 'gff-demo', 'bigbed'],False)\n",
    "hg38.set_location(\"1:110,589,591..110,639,875\")\n",
    "launch(hg38.get_config(), id=\"test-2\",height=800, dash_comp=\"LGV\", port=8000)"
   ]
  },
  {
   "cell_type": "code",
   "execution_count": 1,
   "metadata": {},
   "outputs": [
    {
     "ename": "NameError",
     "evalue": "name 'hg38' is not defined",
     "output_type": "error",
     "traceback": [
      "\u001b[0;31m---------------------------------------------------------------------------\u001b[0m",
      "\u001b[0;31mNameError\u001b[0m                                 Traceback (most recent call last)",
      "Cell \u001b[0;32mIn[1], line 1\u001b[0m\n\u001b[0;32m----> 1\u001b[0m \u001b[43mhg38\u001b[49m\u001b[38;5;241m.\u001b[39mset_theme(\u001b[38;5;124m\"\u001b[39m\u001b[38;5;124m#311b92\u001b[39m\u001b[38;5;124m\"\u001b[39m, \u001b[38;5;124m\"\u001b[39m\u001b[38;5;124m#0097a7\u001b[39m\u001b[38;5;124m\"\u001b[39m, \u001b[38;5;124m\"\u001b[39m\u001b[38;5;124m#f57c00\u001b[39m\u001b[38;5;124m\"\u001b[39m, \u001b[38;5;124m\"\u001b[39m\u001b[38;5;124m#d50000\u001b[39m\u001b[38;5;124m\"\u001b[39m)\n\u001b[1;32m      2\u001b[0m hg38\u001b[38;5;241m.\u001b[39mset_default_session([\u001b[38;5;124m'\u001b[39m\u001b[38;5;124mdf_track_id\u001b[39m\u001b[38;5;124m'\u001b[39m, \u001b[38;5;124m'\u001b[39m\u001b[38;5;124mgff-demo\u001b[39m\u001b[38;5;124m'\u001b[39m, \u001b[38;5;124m'\u001b[39m\u001b[38;5;124mbigbed\u001b[39m\u001b[38;5;124m'\u001b[39m],\u001b[38;5;28;01mFalse\u001b[39;00m)\n\u001b[1;32m      3\u001b[0m hg38\u001b[38;5;241m.\u001b[39mset_location(\u001b[38;5;124m\"\u001b[39m\u001b[38;5;124m1:110654228..110936130\u001b[39m\u001b[38;5;124m\"\u001b[39m)\n",
      "\u001b[0;31mNameError\u001b[0m: name 'hg38' is not defined"
     ]
    }
   ],
   "source": []
  },
  {
   "cell_type": "code",
   "execution_count": 13,
   "metadata": {},
   "outputs": [],
   "source": []
  },
  {
   "cell_type": "code",
   "execution_count": 14,
   "metadata": {},
   "outputs": [
    {
     "data": {
      "text/html": [
       "\n",
       "        <iframe\n",
       "            width=\"100%\"\n",
       "            height=\"800\"\n",
       "            src=\"http://127.0.0.1:8000/\"\n",
       "            frameborder=\"0\"\n",
       "            allowfullscreen\n",
       "            \n",
       "        ></iframe>\n",
       "        "
      ],
      "text/plain": [
       "<IPython.lib.display.IFrame at 0x7fed58e04e20>"
      ]
     },
     "metadata": {},
     "output_type": "display_data"
    }
   ],
   "source": []
  },
  {
   "cell_type": "code",
   "execution_count": null,
   "metadata": {},
   "outputs": [],
   "source": []
  }
 ],
 "metadata": {
  "kernelspec": {
   "display_name": "Python 3 (ipykernel)",
   "language": "python",
   "name": "python3"
  },
  "language_info": {
   "codemirror_mode": {
    "name": "ipython",
    "version": 3
   },
   "file_extension": ".py",
   "mimetype": "text/x-python",
   "name": "python",
   "nbconvert_exporter": "python",
   "pygments_lexer": "ipython3",
   "version": "3.11.6"
  },
  "vscode": {
   "interpreter": {
    "hash": "aaf81c8f28912d07c45359b3a81eb2244c23c90e1b370733684a5666e4e4597e"
   }
  }
 },
 "nbformat": 4,
 "nbformat_minor": 4
}
