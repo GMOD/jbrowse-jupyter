{
  "nbformat": 4,
  "nbformat_minor": 0,
  "metadata": {
    "colab": {
      "name": "skbr3.ipynb",
      "provenance": [],
      "collapsed_sections": [],
      "authorship_tag": "ABX9TyOFQnRedNZffzdVFRDMkQRs",
      "include_colab_link": true
    },
    "kernelspec": {
      "name": "python3",
      "display_name": "Python 3"
    },
    "language_info": {
      "name": "python"
    }
  },
  "cells": [
    {
      "cell_type": "markdown",
      "metadata": {
        "id": "view-in-github",
        "colab_type": "text"
      },
      "source": [
        "<a href=\"https://colab.research.google.com/github/GMOD/jbrowse-jupyter/blob/examples/skbr3.ipynb\" target=\"_parent\"><img src=\"https://colab.research.google.com/assets/colab-badge.svg\" alt=\"Open In Colab\"/></a>"
      ]
    },
    {
      "cell_type": "code",
      "execution_count": 60,
      "metadata": {
        "colab": {
          "base_uri": "https://localhost:8080/"
        },
        "id": "BYY-Eb9dKUIi",
        "outputId": "506ef839-83a9-44e9-f5fb-58a54af667ec"
      },
      "outputs": [
        {
          "output_type": "stream",
          "name": "stdout",
          "text": [
            "Requirement already satisfied: jbrowse-jupyter in /usr/local/lib/python3.7/dist-packages (1.2.1)\n",
            "Requirement already satisfied: dash==2.0.0 in /usr/local/lib/python3.7/dist-packages (from jbrowse-jupyter) (2.0.0)\n",
            "Requirement already satisfied: pandas>=1.1.5 in /usr/local/lib/python3.7/dist-packages (from jbrowse-jupyter) (1.3.5)\n",
            "Requirement already satisfied: jupyter-dash>=0.4.0 in /usr/local/lib/python3.7/dist-packages (from jbrowse-jupyter) (0.4.0)\n",
            "Requirement already satisfied: flake8>=4.0.1 in /usr/local/lib/python3.7/dist-packages (from jbrowse-jupyter) (4.0.1)\n",
            "Requirement already satisfied: pytest>=6.2.5 in /usr/local/lib/python3.7/dist-packages (from jbrowse-jupyter) (7.0.1)\n",
            "Requirement already satisfied: dash-jbrowse>=1.0.1 in /usr/local/lib/python3.7/dist-packages (from jbrowse-jupyter) (1.0.1)\n",
            "Requirement already satisfied: flask-compress in /usr/local/lib/python3.7/dist-packages (from dash==2.0.0->jbrowse-jupyter) (1.10.1)\n",
            "Requirement already satisfied: Flask>=1.0.4 in /usr/local/lib/python3.7/dist-packages (from dash==2.0.0->jbrowse-jupyter) (1.1.4)\n",
            "Requirement already satisfied: dash-html-components==2.0.0 in /usr/local/lib/python3.7/dist-packages (from dash==2.0.0->jbrowse-jupyter) (2.0.0)\n",
            "Requirement already satisfied: plotly>=5.0.0 in /usr/local/lib/python3.7/dist-packages (from dash==2.0.0->jbrowse-jupyter) (5.5.0)\n",
            "Requirement already satisfied: dash-table==5.0.0 in /usr/local/lib/python3.7/dist-packages (from dash==2.0.0->jbrowse-jupyter) (5.0.0)\n",
            "Requirement already satisfied: dash-core-components==2.0.0 in /usr/local/lib/python3.7/dist-packages (from dash==2.0.0->jbrowse-jupyter) (2.0.0)\n",
            "Requirement already satisfied: pycodestyle<2.9.0,>=2.8.0 in /usr/local/lib/python3.7/dist-packages (from flake8>=4.0.1->jbrowse-jupyter) (2.8.0)\n",
            "Requirement already satisfied: pyflakes<2.5.0,>=2.4.0 in /usr/local/lib/python3.7/dist-packages (from flake8>=4.0.1->jbrowse-jupyter) (2.4.0)\n",
            "Requirement already satisfied: mccabe<0.7.0,>=0.6.0 in /usr/local/lib/python3.7/dist-packages (from flake8>=4.0.1->jbrowse-jupyter) (0.6.1)\n",
            "Requirement already satisfied: importlib-metadata<4.3 in /usr/local/lib/python3.7/dist-packages (from flake8>=4.0.1->jbrowse-jupyter) (4.2.0)\n",
            "Requirement already satisfied: Werkzeug<2.0,>=0.15 in /usr/local/lib/python3.7/dist-packages (from Flask>=1.0.4->dash==2.0.0->jbrowse-jupyter) (1.0.1)\n",
            "Requirement already satisfied: itsdangerous<2.0,>=0.24 in /usr/local/lib/python3.7/dist-packages (from Flask>=1.0.4->dash==2.0.0->jbrowse-jupyter) (1.1.0)\n",
            "Requirement already satisfied: Jinja2<3.0,>=2.10.1 in /usr/local/lib/python3.7/dist-packages (from Flask>=1.0.4->dash==2.0.0->jbrowse-jupyter) (2.11.3)\n",
            "Requirement already satisfied: click<8.0,>=5.1 in /usr/local/lib/python3.7/dist-packages (from Flask>=1.0.4->dash==2.0.0->jbrowse-jupyter) (7.1.2)\n",
            "Requirement already satisfied: typing-extensions>=3.6.4 in /usr/local/lib/python3.7/dist-packages (from importlib-metadata<4.3->flake8>=4.0.1->jbrowse-jupyter) (3.10.0.2)\n",
            "Requirement already satisfied: zipp>=0.5 in /usr/local/lib/python3.7/dist-packages (from importlib-metadata<4.3->flake8>=4.0.1->jbrowse-jupyter) (3.7.0)\n",
            "Requirement already satisfied: MarkupSafe>=0.23 in /usr/local/lib/python3.7/dist-packages (from Jinja2<3.0,>=2.10.1->Flask>=1.0.4->dash==2.0.0->jbrowse-jupyter) (2.0.1)\n",
            "Requirement already satisfied: retrying in /usr/local/lib/python3.7/dist-packages (from jupyter-dash>=0.4.0->jbrowse-jupyter) (1.3.3)\n",
            "Requirement already satisfied: ipykernel in /usr/local/lib/python3.7/dist-packages (from jupyter-dash>=0.4.0->jbrowse-jupyter) (4.10.1)\n",
            "Requirement already satisfied: ipython in /usr/local/lib/python3.7/dist-packages (from jupyter-dash>=0.4.0->jbrowse-jupyter) (5.5.0)\n",
            "Requirement already satisfied: ansi2html in /usr/local/lib/python3.7/dist-packages (from jupyter-dash>=0.4.0->jbrowse-jupyter) (1.7.0)\n",
            "Requirement already satisfied: requests in /usr/local/lib/python3.7/dist-packages (from jupyter-dash>=0.4.0->jbrowse-jupyter) (2.23.0)\n",
            "Requirement already satisfied: pytz>=2017.3 in /usr/local/lib/python3.7/dist-packages (from pandas>=1.1.5->jbrowse-jupyter) (2018.9)\n",
            "Requirement already satisfied: python-dateutil>=2.7.3 in /usr/local/lib/python3.7/dist-packages (from pandas>=1.1.5->jbrowse-jupyter) (2.8.2)\n",
            "Requirement already satisfied: numpy>=1.17.3 in /usr/local/lib/python3.7/dist-packages (from pandas>=1.1.5->jbrowse-jupyter) (1.19.5)\n",
            "Requirement already satisfied: six in /usr/local/lib/python3.7/dist-packages (from plotly>=5.0.0->dash==2.0.0->jbrowse-jupyter) (1.15.0)\n",
            "Requirement already satisfied: tenacity>=6.2.0 in /usr/local/lib/python3.7/dist-packages (from plotly>=5.0.0->dash==2.0.0->jbrowse-jupyter) (8.0.1)\n",
            "Requirement already satisfied: pluggy<2.0,>=0.12 in /usr/local/lib/python3.7/dist-packages (from pytest>=6.2.5->jbrowse-jupyter) (1.0.0)\n",
            "Requirement already satisfied: attrs>=19.2.0 in /usr/local/lib/python3.7/dist-packages (from pytest>=6.2.5->jbrowse-jupyter) (21.4.0)\n",
            "Requirement already satisfied: packaging in /usr/local/lib/python3.7/dist-packages (from pytest>=6.2.5->jbrowse-jupyter) (21.3)\n",
            "Requirement already satisfied: tomli>=1.0.0 in /usr/local/lib/python3.7/dist-packages (from pytest>=6.2.5->jbrowse-jupyter) (2.0.0)\n",
            "Requirement already satisfied: py>=1.8.2 in /usr/local/lib/python3.7/dist-packages (from pytest>=6.2.5->jbrowse-jupyter) (1.11.0)\n",
            "Requirement already satisfied: iniconfig in /usr/local/lib/python3.7/dist-packages (from pytest>=6.2.5->jbrowse-jupyter) (1.1.1)\n",
            "Requirement already satisfied: brotli in /usr/local/lib/python3.7/dist-packages (from flask-compress->dash==2.0.0->jbrowse-jupyter) (1.0.9)\n",
            "Requirement already satisfied: jupyter-client in /usr/local/lib/python3.7/dist-packages (from ipykernel->jupyter-dash>=0.4.0->jbrowse-jupyter) (5.3.5)\n",
            "Requirement already satisfied: traitlets>=4.1.0 in /usr/local/lib/python3.7/dist-packages (from ipykernel->jupyter-dash>=0.4.0->jbrowse-jupyter) (5.1.1)\n",
            "Requirement already satisfied: tornado>=4.0 in /usr/local/lib/python3.7/dist-packages (from ipykernel->jupyter-dash>=0.4.0->jbrowse-jupyter) (5.1.1)\n",
            "Requirement already satisfied: setuptools>=18.5 in /usr/local/lib/python3.7/dist-packages (from ipython->jupyter-dash>=0.4.0->jbrowse-jupyter) (57.4.0)\n",
            "Requirement already satisfied: simplegeneric>0.8 in /usr/local/lib/python3.7/dist-packages (from ipython->jupyter-dash>=0.4.0->jbrowse-jupyter) (0.8.1)\n",
            "Requirement already satisfied: pygments in /usr/local/lib/python3.7/dist-packages (from ipython->jupyter-dash>=0.4.0->jbrowse-jupyter) (2.6.1)\n",
            "Requirement already satisfied: decorator in /usr/local/lib/python3.7/dist-packages (from ipython->jupyter-dash>=0.4.0->jbrowse-jupyter) (4.4.2)\n",
            "Requirement already satisfied: pexpect in /usr/local/lib/python3.7/dist-packages (from ipython->jupyter-dash>=0.4.0->jbrowse-jupyter) (4.8.0)\n",
            "Requirement already satisfied: prompt-toolkit<2.0.0,>=1.0.4 in /usr/local/lib/python3.7/dist-packages (from ipython->jupyter-dash>=0.4.0->jbrowse-jupyter) (1.0.18)\n",
            "Requirement already satisfied: pickleshare in /usr/local/lib/python3.7/dist-packages (from ipython->jupyter-dash>=0.4.0->jbrowse-jupyter) (0.7.5)\n",
            "Requirement already satisfied: wcwidth in /usr/local/lib/python3.7/dist-packages (from prompt-toolkit<2.0.0,>=1.0.4->ipython->jupyter-dash>=0.4.0->jbrowse-jupyter) (0.2.5)\n",
            "Requirement already satisfied: jupyter-core>=4.6.0 in /usr/local/lib/python3.7/dist-packages (from jupyter-client->ipykernel->jupyter-dash>=0.4.0->jbrowse-jupyter) (4.9.1)\n",
            "Requirement already satisfied: pyzmq>=13 in /usr/local/lib/python3.7/dist-packages (from jupyter-client->ipykernel->jupyter-dash>=0.4.0->jbrowse-jupyter) (22.3.0)\n",
            "Requirement already satisfied: pyparsing!=3.0.5,>=2.0.2 in /usr/local/lib/python3.7/dist-packages (from packaging->pytest>=6.2.5->jbrowse-jupyter) (3.0.7)\n",
            "Requirement already satisfied: ptyprocess>=0.5 in /usr/local/lib/python3.7/dist-packages (from pexpect->ipython->jupyter-dash>=0.4.0->jbrowse-jupyter) (0.7.0)\n",
            "Requirement already satisfied: certifi>=2017.4.17 in /usr/local/lib/python3.7/dist-packages (from requests->jupyter-dash>=0.4.0->jbrowse-jupyter) (2021.10.8)\n",
            "Requirement already satisfied: idna<3,>=2.5 in /usr/local/lib/python3.7/dist-packages (from requests->jupyter-dash>=0.4.0->jbrowse-jupyter) (2.10)\n",
            "Requirement already satisfied: urllib3!=1.25.0,!=1.25.1,<1.26,>=1.21.1 in /usr/local/lib/python3.7/dist-packages (from requests->jupyter-dash>=0.4.0->jbrowse-jupyter) (1.24.3)\n",
            "Requirement already satisfied: chardet<4,>=3.0.2 in /usr/local/lib/python3.7/dist-packages (from requests->jupyter-dash>=0.4.0->jbrowse-jupyter) (3.0.4)\n"
          ]
        }
      ],
      "source": [
        "!pip install jbrowse-jupyter"
      ]
    },
    {
      "cell_type": "code",
      "source": [
        "from dash import html, Dash, dcc\n",
        "from dash.dependencies import Input, Output\n",
        "from jupyter_dash import JupyterDash\n",
        "from jbrowse_jupyter import create, create_component"
      ],
      "metadata": {
        "id": "HetA2JAhKuf5"
      },
      "execution_count": 61,
      "outputs": []
    },
    {
      "cell_type": "code",
      "source": [
        " app = JupyterDash(__name__)\n",
        " server = app.server"
      ],
      "metadata": {
        "id": "QdWiYfiIKyHv"
      },
      "execution_count": 62,
      "outputs": []
    },
    {
      "cell_type": "code",
      "source": [
        "# locations of interest and name\n",
        "# sources: \n",
        "# https://jbrowse.org/demos/cancer-demo-2020/#embed\n",
        "# https://genome.cshlp.org/content/early/2018/06/28/gr.231100.117.abstract\n",
        "locations = [\n",
        "    {\"value\": \"NC_000014.8:50234871..50253103\", \"label\": \"KLHDC2\"\n",
        "    },\n",
        "    {\"value\": \"NC_000017.10:76670129..76778424\", \"label\": \"CYTH1\"},\n",
        "    {\"value\": \"NC_000020.10:34213953..34252822\", \"label\": \"CPNE1\"},\n",
        "    {\"value\": \"NC_000017.10:38060848..38074903\", \"label\": \"GSDMB\"},\n",
        "    {\"value\": \"8:116962736..117337297\", \"label\": \"LINC00536\"},\n",
        "    {\"value\": \"8:121547996..121824286\", \"label\": \"SNTB1\"},\n",
        "    {\"value\": \"8:117654369..117768062\", \"label\": \"EIF3H\"},\n",
        "    {\"value\": \"NC_000020.10:47240790..47444536\", \"label\": \"PREX1\"},\n",
        "    {\"value\": \"8:125500735..125551329\", \"label\": \"TATDN1\"},\n",
        "    {\"value\": \"8:128,806,779..129,113,499\", \"label\": \"PVT1\"}\n",
        "]"
      ],
      "metadata": {
        "id": "XES1Tx0KK144"
      },
      "execution_count": 63,
      "outputs": []
    },
    {
      "cell_type": "code",
      "source": [
        "# track data, track name, track id\n",
        "tracks = [\n",
        "    (\"https://s3.amazonaws.com/jbrowse.org/genomes/hg19/skbr3/reads_lr_skbr3.fa_ngmlr-0.2.3_mapped.splitters.bam\", \"SKBR3 pacbio (NGMLR) splitters only\",\"ngmlr_splitters\"),\n",
        "    (\"https://s3.amazonaws.com/jbrowse.org/genomes/hg19/skbr3/reads_lr_skbr3.fa_ngmlr-0.2.3_mapped.splitters.cram\", \"SKBR3 pacbio (NGMLR) splitters only (CRAM)\",\"ngmlr_splitters_cram\"),\n",
        "    (\"https://s3.amazonaws.com/jbrowse.org/genomes/hg19/skbr3/reads_lr_skbr3.fa_ngmlr-0.2.3_mapped.down.bam\", \"SKBR3 pacbio (NGMLR) 0.3 downsample\",\"ngmlr_downsample\"),\n",
        "    (\"https://s3.amazonaws.com/jbrowse.org/genomes/hg19/skbr3/reads_lr_skbr3.fa_ngmlr-0.2.3_mapped.down.cram\", \"SKBR3 pacbio (NGMLR) 0.3 downsample (CRAM)\",\"reads_lr_skbr3.fa_ngmlr-0.2.3_mapped.down\"),\n",
        "    (\"https://s3.amazonaws.com/jbrowse.org/genomes/hg19/reads_lr_skbr3.fa_ngmlr-0.2.3_mapped.bam.regions.bw\", \"SKBR3 pacbio coverage (NGMLR)\",\"ngmlr_cov\"),\n",
        "    (\"https://s3.amazonaws.com/jbrowse.org/genomes/hg19/reads_lr_skbr3.fa_ngmlr-0.2.3_mapped.bam.sniffles1kb_auto_l8_s5_noalt.vcf.gz\", \"SKBR3 pacbio (sniffles VCF)\",\"breast_cancer_sniffles_hg19\"),\n",
        "    (\"https://s3.amazonaws.com/jbrowse.org/genomes/hg19/skbr3/SKBR3_550bp_pcrFREE_S1_L001_AND_L002_R1_001.101bp.bwamem.ill.mapped.sort.bam\", \"SKBR3 illumina bwamem (BAM)\",\"SKBR3 illumina bwamem (BAM)-id\"),\n",
        "    (\"https://s3.amazonaws.com/jbrowse.org/genomes/hg19/skbr3/SKBR3_550bp_pcrFREE_S1_L001_AND_L002_R1_001.101bp.bwamem.ill.mapped.sort.cram\", \"SKBR3 illumina bwamem (CRAM)\",\"SKBR3 illumina bwamem (CRAM)-id\"),\n",
        "    (\"https://s3.amazonaws.com/jbrowse.org/genomes/hg19/reads_lr_skbr3.fa_ngmlr-0.2.3_mapped.bam\", \"SKBR3 pacbio (NGMLR)\",\"ngmlr\"),\n",
        "    (\"https://s3.amazonaws.com/jbrowse.org/genomes/hg19/GRCh37_latest_genomic.sort.gff.gz\", \"NCBI RefSeq (GFF3Tabix)\",\"ncbi_gff_hg19\")\n",
        "]"
      ],
      "metadata": {
        "id": "eMuOH8KBMSxJ"
      },
      "execution_count": 64,
      "outputs": []
    },
    {
      "cell_type": "code",
      "source": [
        "conf_lgv = create(\"LGV\", genome=\"hg19\")\n",
        "conf_cgv = create(\"CGV\", genome=\"hg19\")\n",
        "for track in tracks:\n",
        "    data = track[0]\n",
        "    track_name = track[1]\n",
        "    track_id = track[2]\n",
        "    conf_lgv.add_track(data, name=track_name, track_id=track_id)\n",
        "# adding a text search adapter for LGV \n",
        "ix = \"https://jbrowse.org/genomes/hg19/trix/hg19.ix\"\n",
        "ixx = \"https://jbrowse.org/genomes/hg19/trix/hg19.ixx\"\n",
        "meta = \"https://jbrowse.org/genomes/hg19/trix/meta.json\"\n",
        "conf_lgv.add_text_search_adapter(ix, ixx, meta)\n",
        "conf_lgv.set_default_session(['ncbi_gff_hg19'], False)\n",
        "conf_cgv.add_track(\"https://s3.amazonaws.com/jbrowse.org/genomes/hg19/reads_lr_skbr3.fa_ngmlr-0.2.3_mapped.bam.sniffles1kb_auto_l8_s5_noalt.vcf.gz\",name=\"SKBR3 pacbio (sniffles VCF)\", track_id=\"breast_cancer_sniffles_hg19\")\n",
        "conf_cgv.set_default_session([\"breast_cancer_sniffles_hg19\"], False)\n",
        "component_test = create_component(conf_cgv.get_config(), id=\"cgv-test\", dash_comp=\"CGV\")"
      ],
      "metadata": {
        "id": "qxwK1FBHPpDr"
      },
      "execution_count": 65,
      "outputs": []
    },
    {
      "cell_type": "code",
      "source": [
        "# Return the component with a specific location.\n",
        "@app.callback(\n",
        "    Output(\"LGV-component\", \"children\"),\n",
        "    Input(\"location-to-view\", \"value\")\n",
        ")\n",
        "def return_jbrowse(location):\n",
        "    conf_lgv.set_location(location)\n",
        "    return create_component(conf_lgv.get_config(), id=\"lgv-test\", dash_comp=\"LGV\")"
      ],
      "metadata": {
        "id": "hyOYH1UjLdiS"
      },
      "execution_count": 66,
      "outputs": []
    },
    {
      "cell_type": "code",
      "source": [
        "app.layout = html.Div(\n",
        "    [\n",
        "        html.P(\" SKBR3 Gene Fusions \"),\n",
        "        dcc.Dropdown(\n",
        "            id=\"location-to-view\", options=locations, value=\"1:229354402..229354403\", placeholder=\"Select a gene to view.\"\n",
        "        ),\n",
        "        html.Hr(),\n",
        "        dcc.Loading(id=\"LGV-component\"),\n",
        "        html.P(\"Circular Genome View with SKBR3 pacbio (sniffles VCF) track\"),\n",
        "        component_test\n",
        "    ]\n",
        ")"
      ],
      "metadata": {
        "id": "gTz7jhH7P8z8"
      },
      "execution_count": 67,
      "outputs": []
    },
    {
      "cell_type": "code",
      "source": [
        "app.run_server(mode=\"inline\", height=1000, use_reloader=False, debug=True, port=3031)\n"
      ],
      "metadata": {
        "colab": {
          "base_uri": "https://localhost:8080/",
          "height": 1000
        },
        "id": "rL8gnjaMQHeu",
        "outputId": "75cfd84b-83e3-462b-e260-4b6a38969ca7"
      },
      "execution_count": 68,
      "outputs": [
        {
          "output_type": "display_data",
          "data": {
            "application/javascript": [
              "(async (port, path, width, height, cache, element) => {\n",
              "    if (!google.colab.kernel.accessAllowed && !cache) {\n",
              "      return;\n",
              "    }\n",
              "    element.appendChild(document.createTextNode(''));\n",
              "    const url = await google.colab.kernel.proxyPort(port, {cache});\n",
              "    const iframe = document.createElement('iframe');\n",
              "    iframe.src = new URL(path, url).toString();\n",
              "    iframe.height = height;\n",
              "    iframe.width = width;\n",
              "    iframe.style.border = 0;\n",
              "    element.appendChild(iframe);\n",
              "  })(3031, \"/\", \"100%\", 1000, false, window.element)"
            ],
            "text/plain": [
              "<IPython.core.display.Javascript object>"
            ]
          },
          "metadata": {}
        }
      ]
    }
  ]
}