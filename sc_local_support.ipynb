{
 "cells": [
  {
   "cell_type": "markdown",
   "metadata": {},
   "source": [
    "# Use local data to configure JBrowse views in Jupyter Notebooks\n",
    "\n",
    "This Jupyter notebook will show you how to add tracks using your local data. We are able to leverage Jupyter's server to serve local files that exist within the notebook's file tree, but we also provide a separate dev server for additional support in local environments.\n",
    "\n",
    "## Overview:\n",
    "- Create an hg19 config\n",
    "- Add Tracks utilizing local data\n",
    "    - Add a feature track using local data from within the Jupyter File Tree\n",
    "    - Add a feature track by spinning JBrowse Jupyter's dev server\n",
    "- launch a linear genome view with a default session\n",
    "  \n",
    "\n",
    "## Resources\n",
    "* [Here are the docs on how Jupyter handles urls and  file navigation with /tree.](https://jupyterlab.readthedocs.io/en/stable/user/urls.html)\n",
    "* [Additional information on the Jupyter Server](https://jupyter-server.readthedocs.io/en/latest/users/configuration.html)\n",
    "* [Additional information on the Jupyter Notebook Server](https://jupyter-notebook.readthedocs.io/en/stable/notebook.html#starting-the-notebook-server)"
   ]
  },
  {
   "cell_type": "code",
   "execution_count": 1,
   "metadata": {},
   "outputs": [
    {
     "name": "stdout",
     "output_type": "stream",
     "text": [
      "Collecting git+https://github.com/GMOD/jbrowse-jupyter.git@sc_paper_modifications\n",
      "  Cloning https://github.com/GMOD/jbrowse-jupyter.git (to revision sc_paper_modifications) to /tmp/pip-req-build-p1wumnei\n",
      "  Running command git clone --filter=blob:none --quiet https://github.com/GMOD/jbrowse-jupyter.git /tmp/pip-req-build-p1wumnei\n",
      "  Running command git checkout -b sc_paper_modifications --track origin/sc_paper_modifications\n",
      "  Switched to a new branch 'sc_paper_modifications'\n",
      "  Branch 'sc_paper_modifications' set up to track remote branch 'sc_paper_modifications' from 'origin'.\n",
      "  Resolved https://github.com/GMOD/jbrowse-jupyter.git to commit d8251f2613db7831dc4898f5f0633fd1b8939533\n",
      "  Preparing metadata (setup.py) ... \u001b[?25ldone\n",
      "\u001b[?25hRequirement already satisfied: dash==2.3.0 in /opt/conda/lib/python3.10/site-packages (from jbrowse-jupyter==1.3.0) (2.3.0)\n",
      "Requirement already satisfied: dash-jbrowse>=1.1.0 in /opt/conda/lib/python3.10/site-packages (from jbrowse-jupyter==1.3.0) (1.1.0)\n",
      "Requirement already satisfied: jupyter_dash>=0.4.2 in /opt/conda/lib/python3.10/site-packages (from jbrowse-jupyter==1.3.0) (0.4.2)\n",
      "Requirement already satisfied: Werkzeug==2.0.3 in /opt/conda/lib/python3.10/site-packages (from jbrowse-jupyter==1.3.0) (2.0.3)\n",
      "Requirement already satisfied: pandas>=1.1.5 in /opt/conda/lib/python3.10/site-packages (from jbrowse-jupyter==1.3.0) (1.5.0)\n",
      "Requirement already satisfied: pytest>=6.2.5 in /opt/conda/lib/python3.10/site-packages (from jbrowse-jupyter==1.3.0) (7.1.3)\n",
      "Requirement already satisfied: dash-core-components==2.0.0 in /opt/conda/lib/python3.10/site-packages (from dash==2.3.0->jbrowse-jupyter==1.3.0) (2.0.0)\n",
      "Requirement already satisfied: dash-table==5.0.0 in /opt/conda/lib/python3.10/site-packages (from dash==2.3.0->jbrowse-jupyter==1.3.0) (5.0.0)\n",
      "Requirement already satisfied: plotly>=5.0.0 in /opt/conda/lib/python3.10/site-packages (from dash==2.3.0->jbrowse-jupyter==1.3.0) (5.10.0)\n",
      "Requirement already satisfied: dash-html-components==2.0.0 in /opt/conda/lib/python3.10/site-packages (from dash==2.3.0->jbrowse-jupyter==1.3.0) (2.0.0)\n",
      "Requirement already satisfied: Flask>=1.0.4 in /opt/conda/lib/python3.10/site-packages (from dash==2.3.0->jbrowse-jupyter==1.3.0) (2.1.3)\n",
      "Requirement already satisfied: flask-compress in /opt/conda/lib/python3.10/site-packages (from dash==2.3.0->jbrowse-jupyter==1.3.0) (1.12)\n",
      "Requirement already satisfied: nest-asyncio in /opt/conda/lib/python3.10/site-packages (from jupyter_dash>=0.4.2->jbrowse-jupyter==1.3.0) (1.5.5)\n",
      "Requirement already satisfied: retrying in /opt/conda/lib/python3.10/site-packages (from jupyter_dash>=0.4.2->jbrowse-jupyter==1.3.0) (1.3.3)\n",
      "Requirement already satisfied: requests in /opt/conda/lib/python3.10/site-packages (from jupyter_dash>=0.4.2->jbrowse-jupyter==1.3.0) (2.28.1)\n",
      "Requirement already satisfied: ipykernel in /opt/conda/lib/python3.10/site-packages (from jupyter_dash>=0.4.2->jbrowse-jupyter==1.3.0) (6.15.2)\n",
      "Requirement already satisfied: ipython in /opt/conda/lib/python3.10/site-packages (from jupyter_dash>=0.4.2->jbrowse-jupyter==1.3.0) (8.5.0)\n",
      "Requirement already satisfied: ansi2html in /opt/conda/lib/python3.10/site-packages (from jupyter_dash>=0.4.2->jbrowse-jupyter==1.3.0) (1.8.0)\n",
      "Requirement already satisfied: python-dateutil>=2.8.1 in /opt/conda/lib/python3.10/site-packages (from pandas>=1.1.5->jbrowse-jupyter==1.3.0) (2.8.2)\n",
      "Requirement already satisfied: numpy>=1.21.0 in /opt/conda/lib/python3.10/site-packages (from pandas>=1.1.5->jbrowse-jupyter==1.3.0) (1.23.3)\n",
      "Requirement already satisfied: pytz>=2020.1 in /opt/conda/lib/python3.10/site-packages (from pandas>=1.1.5->jbrowse-jupyter==1.3.0) (2022.2.1)\n",
      "Requirement already satisfied: pluggy<2.0,>=0.12 in /opt/conda/lib/python3.10/site-packages (from pytest>=6.2.5->jbrowse-jupyter==1.3.0) (1.0.0)\n",
      "Requirement already satisfied: py>=1.8.2 in /opt/conda/lib/python3.10/site-packages (from pytest>=6.2.5->jbrowse-jupyter==1.3.0) (1.11.0)\n",
      "Requirement already satisfied: iniconfig in /opt/conda/lib/python3.10/site-packages (from pytest>=6.2.5->jbrowse-jupyter==1.3.0) (1.1.1)\n",
      "Requirement already satisfied: packaging in /opt/conda/lib/python3.10/site-packages (from pytest>=6.2.5->jbrowse-jupyter==1.3.0) (21.3)\n",
      "Requirement already satisfied: tomli>=1.0.0 in /opt/conda/lib/python3.10/site-packages (from pytest>=6.2.5->jbrowse-jupyter==1.3.0) (2.0.1)\n",
      "Requirement already satisfied: attrs>=19.2.0 in /opt/conda/lib/python3.10/site-packages (from pytest>=6.2.5->jbrowse-jupyter==1.3.0) (22.1.0)\n",
      "Requirement already satisfied: Jinja2>=3.0 in /opt/conda/lib/python3.10/site-packages (from Flask>=1.0.4->dash==2.3.0->jbrowse-jupyter==1.3.0) (3.1.2)\n",
      "Requirement already satisfied: click>=8.0 in /opt/conda/lib/python3.10/site-packages (from Flask>=1.0.4->dash==2.3.0->jbrowse-jupyter==1.3.0) (8.1.3)\n",
      "Requirement already satisfied: itsdangerous>=2.0 in /opt/conda/lib/python3.10/site-packages (from Flask>=1.0.4->dash==2.3.0->jbrowse-jupyter==1.3.0) (2.1.2)\n",
      "Requirement already satisfied: tenacity>=6.2.0 in /opt/conda/lib/python3.10/site-packages (from plotly>=5.0.0->dash==2.3.0->jbrowse-jupyter==1.3.0) (8.0.1)\n",
      "Requirement already satisfied: six>=1.5 in /opt/conda/lib/python3.10/site-packages (from python-dateutil>=2.8.1->pandas>=1.1.5->jbrowse-jupyter==1.3.0) (1.16.0)\n",
      "Requirement already satisfied: brotli in /opt/conda/lib/python3.10/site-packages (from flask-compress->dash==2.3.0->jbrowse-jupyter==1.3.0) (1.0.9)\n",
      "Requirement already satisfied: traitlets>=5.1.0 in /opt/conda/lib/python3.10/site-packages (from ipykernel->jupyter_dash>=0.4.2->jbrowse-jupyter==1.3.0) (5.3.0)\n",
      "Requirement already satisfied: matplotlib-inline>=0.1 in /opt/conda/lib/python3.10/site-packages (from ipykernel->jupyter_dash>=0.4.2->jbrowse-jupyter==1.3.0) (0.1.6)\n",
      "Requirement already satisfied: debugpy>=1.0 in /opt/conda/lib/python3.10/site-packages (from ipykernel->jupyter_dash>=0.4.2->jbrowse-jupyter==1.3.0) (1.6.3)\n",
      "Requirement already satisfied: pyzmq>=17 in /opt/conda/lib/python3.10/site-packages (from ipykernel->jupyter_dash>=0.4.2->jbrowse-jupyter==1.3.0) (23.2.1)\n",
      "Requirement already satisfied: jupyter-client>=6.1.12 in /opt/conda/lib/python3.10/site-packages (from ipykernel->jupyter_dash>=0.4.2->jbrowse-jupyter==1.3.0) (7.3.5)\n",
      "Requirement already satisfied: tornado>=6.1 in /opt/conda/lib/python3.10/site-packages (from ipykernel->jupyter_dash>=0.4.2->jbrowse-jupyter==1.3.0) (6.2)\n",
      "Requirement already satisfied: psutil in /opt/conda/lib/python3.10/site-packages (from ipykernel->jupyter_dash>=0.4.2->jbrowse-jupyter==1.3.0) (5.9.2)\n",
      "Requirement already satisfied: decorator in /opt/conda/lib/python3.10/site-packages (from ipython->jupyter_dash>=0.4.2->jbrowse-jupyter==1.3.0) (5.1.1)\n",
      "Requirement already satisfied: jedi>=0.16 in /opt/conda/lib/python3.10/site-packages (from ipython->jupyter_dash>=0.4.2->jbrowse-jupyter==1.3.0) (0.18.1)\n",
      "Requirement already satisfied: prompt-toolkit<3.1.0,>3.0.1 in /opt/conda/lib/python3.10/site-packages (from ipython->jupyter_dash>=0.4.2->jbrowse-jupyter==1.3.0) (3.0.31)\n",
      "Requirement already satisfied: pygments>=2.4.0 in /opt/conda/lib/python3.10/site-packages (from ipython->jupyter_dash>=0.4.2->jbrowse-jupyter==1.3.0) (2.13.0)\n",
      "Requirement already satisfied: stack-data in /opt/conda/lib/python3.10/site-packages (from ipython->jupyter_dash>=0.4.2->jbrowse-jupyter==1.3.0) (0.5.0)\n",
      "Requirement already satisfied: backcall in /opt/conda/lib/python3.10/site-packages (from ipython->jupyter_dash>=0.4.2->jbrowse-jupyter==1.3.0) (0.2.0)\n",
      "Requirement already satisfied: pexpect>4.3 in /opt/conda/lib/python3.10/site-packages (from ipython->jupyter_dash>=0.4.2->jbrowse-jupyter==1.3.0) (4.8.0)\n",
      "Requirement already satisfied: pickleshare in /opt/conda/lib/python3.10/site-packages (from ipython->jupyter_dash>=0.4.2->jbrowse-jupyter==1.3.0) (0.7.5)\n",
      "Requirement already satisfied: pyparsing!=3.0.5,>=2.0.2 in /opt/conda/lib/python3.10/site-packages (from packaging->pytest>=6.2.5->jbrowse-jupyter==1.3.0) (3.0.9)\n",
      "Requirement already satisfied: certifi>=2017.4.17 in /opt/conda/lib/python3.10/site-packages (from requests->jupyter_dash>=0.4.2->jbrowse-jupyter==1.3.0) (2022.6.15.1)\n",
      "Requirement already satisfied: charset-normalizer<3,>=2 in /opt/conda/lib/python3.10/site-packages (from requests->jupyter_dash>=0.4.2->jbrowse-jupyter==1.3.0) (2.1.1)\n",
      "Requirement already satisfied: idna<4,>=2.5 in /opt/conda/lib/python3.10/site-packages (from requests->jupyter_dash>=0.4.2->jbrowse-jupyter==1.3.0) (3.3)\n",
      "Requirement already satisfied: urllib3<1.27,>=1.21.1 in /opt/conda/lib/python3.10/site-packages (from requests->jupyter_dash>=0.4.2->jbrowse-jupyter==1.3.0) (1.26.11)\n",
      "Requirement already satisfied: parso<0.9.0,>=0.8.0 in /opt/conda/lib/python3.10/site-packages (from jedi>=0.16->ipython->jupyter_dash>=0.4.2->jbrowse-jupyter==1.3.0) (0.8.3)\n",
      "Requirement already satisfied: MarkupSafe>=2.0 in /opt/conda/lib/python3.10/site-packages (from Jinja2>=3.0->Flask>=1.0.4->dash==2.3.0->jbrowse-jupyter==1.3.0) (2.1.1)\n",
      "Requirement already satisfied: entrypoints in /opt/conda/lib/python3.10/site-packages (from jupyter-client>=6.1.12->ipykernel->jupyter_dash>=0.4.2->jbrowse-jupyter==1.3.0) (0.4)\n",
      "Requirement already satisfied: jupyter-core>=4.9.2 in /opt/conda/lib/python3.10/site-packages (from jupyter-client>=6.1.12->ipykernel->jupyter_dash>=0.4.2->jbrowse-jupyter==1.3.0) (4.11.1)\n",
      "Requirement already satisfied: ptyprocess>=0.5 in /opt/conda/lib/python3.10/site-packages (from pexpect>4.3->ipython->jupyter_dash>=0.4.2->jbrowse-jupyter==1.3.0) (0.7.0)\n",
      "Requirement already satisfied: wcwidth in /opt/conda/lib/python3.10/site-packages (from prompt-toolkit<3.1.0,>3.0.1->ipython->jupyter_dash>=0.4.2->jbrowse-jupyter==1.3.0) (0.2.5)\n",
      "Requirement already satisfied: executing in /opt/conda/lib/python3.10/site-packages (from stack-data->ipython->jupyter_dash>=0.4.2->jbrowse-jupyter==1.3.0) (1.0.0)\n",
      "Requirement already satisfied: pure-eval in /opt/conda/lib/python3.10/site-packages (from stack-data->ipython->jupyter_dash>=0.4.2->jbrowse-jupyter==1.3.0) (0.2.2)\n",
      "Requirement already satisfied: asttokens in /opt/conda/lib/python3.10/site-packages (from stack-data->ipython->jupyter_dash>=0.4.2->jbrowse-jupyter==1.3.0) (2.0.8)\n",
      "Requirement already satisfied: requests in /opt/conda/lib/python3.10/site-packages (2.28.1)\n",
      "Requirement already satisfied: urllib3<1.27,>=1.21.1 in /opt/conda/lib/python3.10/site-packages (from requests) (1.26.11)\n",
      "Requirement already satisfied: certifi>=2017.4.17 in /opt/conda/lib/python3.10/site-packages (from requests) (2022.6.15.1)\n",
      "Requirement already satisfied: charset-normalizer<3,>=2 in /opt/conda/lib/python3.10/site-packages (from requests) (2.1.1)\n",
      "Requirement already satisfied: idna<4,>=2.5 in /opt/conda/lib/python3.10/site-packages (from requests) (3.3)\n",
      "Requirement already satisfied: jupyter_server_proxy in /opt/conda/lib/python3.10/site-packages (3.2.2)\n",
      "Requirement already satisfied: aiohttp in /opt/conda/lib/python3.10/site-packages (from jupyter_server_proxy) (3.8.1)\n",
      "Requirement already satisfied: jupyter-server>=1.0 in /opt/conda/lib/python3.10/site-packages (from jupyter_server_proxy) (1.18.1)\n",
      "Requirement already satisfied: simpervisor>=0.4 in /opt/conda/lib/python3.10/site-packages (from jupyter_server_proxy) (0.4)\n",
      "Requirement already satisfied: jupyter-client>=6.1.12 in /opt/conda/lib/python3.10/site-packages (from jupyter-server>=1.0->jupyter_server_proxy) (7.3.5)\n",
      "Requirement already satisfied: pyzmq>=17 in /opt/conda/lib/python3.10/site-packages (from jupyter-server>=1.0->jupyter_server_proxy) (23.2.1)\n",
      "Requirement already satisfied: argon2-cffi in /opt/conda/lib/python3.10/site-packages (from jupyter-server>=1.0->jupyter_server_proxy) (21.3.0)\n",
      "Requirement already satisfied: websocket-client in /opt/conda/lib/python3.10/site-packages (from jupyter-server>=1.0->jupyter_server_proxy) (1.4.1)\n",
      "Requirement already satisfied: Send2Trash in /opt/conda/lib/python3.10/site-packages (from jupyter-server>=1.0->jupyter_server_proxy) (1.8.0)\n",
      "Requirement already satisfied: tornado>=6.1.0 in /opt/conda/lib/python3.10/site-packages (from jupyter-server>=1.0->jupyter_server_proxy) (6.2)\n",
      "Requirement already satisfied: nbformat>=5.2.0 in /opt/conda/lib/python3.10/site-packages (from jupyter-server>=1.0->jupyter_server_proxy) (5.4.0)\n",
      "Requirement already satisfied: jinja2 in /opt/conda/lib/python3.10/site-packages (from jupyter-server>=1.0->jupyter_server_proxy) (3.1.2)\n",
      "Requirement already satisfied: anyio<4,>=3.1.0 in /opt/conda/lib/python3.10/site-packages (from jupyter-server>=1.0->jupyter_server_proxy) (3.6.1)\n",
      "Requirement already satisfied: packaging in /opt/conda/lib/python3.10/site-packages (from jupyter-server>=1.0->jupyter_server_proxy) (21.3)\n",
      "Requirement already satisfied: nbconvert>=6.4.4 in /opt/conda/lib/python3.10/site-packages (from jupyter-server>=1.0->jupyter_server_proxy) (7.0.0)\n",
      "Requirement already satisfied: prometheus-client in /opt/conda/lib/python3.10/site-packages (from jupyter-server>=1.0->jupyter_server_proxy) (0.14.1)\n",
      "Requirement already satisfied: jupyter-core>=4.7.0 in /opt/conda/lib/python3.10/site-packages (from jupyter-server>=1.0->jupyter_server_proxy) (4.11.1)\n",
      "Requirement already satisfied: traitlets>=5.1 in /opt/conda/lib/python3.10/site-packages (from jupyter-server>=1.0->jupyter_server_proxy) (5.3.0)\n",
      "Requirement already satisfied: terminado>=0.8.3 in /opt/conda/lib/python3.10/site-packages (from jupyter-server>=1.0->jupyter_server_proxy) (0.15.0)\n",
      "Requirement already satisfied: attrs>=17.3.0 in /opt/conda/lib/python3.10/site-packages (from aiohttp->jupyter_server_proxy) (22.1.0)\n",
      "Requirement already satisfied: frozenlist>=1.1.1 in /opt/conda/lib/python3.10/site-packages (from aiohttp->jupyter_server_proxy) (1.3.1)\n",
      "Requirement already satisfied: async-timeout<5.0,>=4.0.0a3 in /opt/conda/lib/python3.10/site-packages (from aiohttp->jupyter_server_proxy) (4.0.2)\n",
      "Requirement already satisfied: multidict<7.0,>=4.5 in /opt/conda/lib/python3.10/site-packages (from aiohttp->jupyter_server_proxy) (6.0.2)\n",
      "Requirement already satisfied: yarl<2.0,>=1.0 in /opt/conda/lib/python3.10/site-packages (from aiohttp->jupyter_server_proxy) (1.8.1)\n",
      "Requirement already satisfied: aiosignal>=1.1.2 in /opt/conda/lib/python3.10/site-packages (from aiohttp->jupyter_server_proxy) (1.2.0)\n",
      "Requirement already satisfied: charset-normalizer<3.0,>=2.0 in /opt/conda/lib/python3.10/site-packages (from aiohttp->jupyter_server_proxy) (2.1.1)\n",
      "Requirement already satisfied: idna>=2.8 in /opt/conda/lib/python3.10/site-packages (from anyio<4,>=3.1.0->jupyter-server>=1.0->jupyter_server_proxy) (3.3)\n",
      "Requirement already satisfied: sniffio>=1.1 in /opt/conda/lib/python3.10/site-packages (from anyio<4,>=3.1.0->jupyter-server>=1.0->jupyter_server_proxy) (1.3.0)\n",
      "Requirement already satisfied: python-dateutil>=2.8.2 in /opt/conda/lib/python3.10/site-packages (from jupyter-client>=6.1.12->jupyter-server>=1.0->jupyter_server_proxy) (2.8.2)\n",
      "Requirement already satisfied: nest-asyncio>=1.5.4 in /opt/conda/lib/python3.10/site-packages (from jupyter-client>=6.1.12->jupyter-server>=1.0->jupyter_server_proxy) (1.5.5)\n",
      "Requirement already satisfied: entrypoints in /opt/conda/lib/python3.10/site-packages (from jupyter-client>=6.1.12->jupyter-server>=1.0->jupyter_server_proxy) (0.4)\n",
      "Requirement already satisfied: mistune<3,>=2.0.3 in /opt/conda/lib/python3.10/site-packages (from nbconvert>=6.4.4->jupyter-server>=1.0->jupyter_server_proxy) (2.0.4)\n",
      "Requirement already satisfied: bleach in /opt/conda/lib/python3.10/site-packages (from nbconvert>=6.4.4->jupyter-server>=1.0->jupyter_server_proxy) (5.0.1)\n",
      "Requirement already satisfied: nbclient>=0.5.0 in /opt/conda/lib/python3.10/site-packages (from nbconvert>=6.4.4->jupyter-server>=1.0->jupyter_server_proxy) (0.6.8)\n",
      "Requirement already satisfied: pygments>=2.4.1 in /opt/conda/lib/python3.10/site-packages (from nbconvert>=6.4.4->jupyter-server>=1.0->jupyter_server_proxy) (2.13.0)\n",
      "Requirement already satisfied: beautifulsoup4 in /opt/conda/lib/python3.10/site-packages (from nbconvert>=6.4.4->jupyter-server>=1.0->jupyter_server_proxy) (4.11.1)\n",
      "Requirement already satisfied: defusedxml in /opt/conda/lib/python3.10/site-packages (from nbconvert>=6.4.4->jupyter-server>=1.0->jupyter_server_proxy) (0.7.1)\n",
      "Requirement already satisfied: markupsafe>=2.0 in /opt/conda/lib/python3.10/site-packages (from nbconvert>=6.4.4->jupyter-server>=1.0->jupyter_server_proxy) (2.1.1)\n",
      "Requirement already satisfied: pandocfilters>=1.4.1 in /opt/conda/lib/python3.10/site-packages (from nbconvert>=6.4.4->jupyter-server>=1.0->jupyter_server_proxy) (1.5.0)\n",
      "Requirement already satisfied: tinycss2 in /opt/conda/lib/python3.10/site-packages (from nbconvert>=6.4.4->jupyter-server>=1.0->jupyter_server_proxy) (1.1.1)\n",
      "Requirement already satisfied: jupyterlab-pygments in /opt/conda/lib/python3.10/site-packages (from nbconvert>=6.4.4->jupyter-server>=1.0->jupyter_server_proxy) (0.2.2)\n",
      "Requirement already satisfied: lxml in /opt/conda/lib/python3.10/site-packages (from nbconvert>=6.4.4->jupyter-server>=1.0->jupyter_server_proxy) (4.9.1)\n",
      "Requirement already satisfied: jsonschema>=2.6 in /opt/conda/lib/python3.10/site-packages (from nbformat>=5.2.0->jupyter-server>=1.0->jupyter_server_proxy) (4.16.0)\n",
      "Requirement already satisfied: fastjsonschema in /opt/conda/lib/python3.10/site-packages (from nbformat>=5.2.0->jupyter-server>=1.0->jupyter_server_proxy) (2.16.1)\n",
      "Requirement already satisfied: ptyprocess in /opt/conda/lib/python3.10/site-packages (from terminado>=0.8.3->jupyter-server>=1.0->jupyter_server_proxy) (0.7.0)\n",
      "Requirement already satisfied: argon2-cffi-bindings in /opt/conda/lib/python3.10/site-packages (from argon2-cffi->jupyter-server>=1.0->jupyter_server_proxy) (21.2.0)\n",
      "Requirement already satisfied: pyparsing!=3.0.5,>=2.0.2 in /opt/conda/lib/python3.10/site-packages (from packaging->jupyter-server>=1.0->jupyter_server_proxy) (3.0.9)\n",
      "Requirement already satisfied: pyrsistent!=0.17.0,!=0.17.1,!=0.17.2,>=0.14.0 in /opt/conda/lib/python3.10/site-packages (from jsonschema>=2.6->nbformat>=5.2.0->jupyter-server>=1.0->jupyter_server_proxy) (0.18.1)\n",
      "Requirement already satisfied: six>=1.5 in /opt/conda/lib/python3.10/site-packages (from python-dateutil>=2.8.2->jupyter-client>=6.1.12->jupyter-server>=1.0->jupyter_server_proxy) (1.16.0)\n",
      "Requirement already satisfied: cffi>=1.0.1 in /opt/conda/lib/python3.10/site-packages (from argon2-cffi-bindings->argon2-cffi->jupyter-server>=1.0->jupyter_server_proxy) (1.15.1)\n",
      "Requirement already satisfied: soupsieve>1.2 in /opt/conda/lib/python3.10/site-packages (from beautifulsoup4->nbconvert>=6.4.4->jupyter-server>=1.0->jupyter_server_proxy) (2.3.2.post1)\n",
      "Requirement already satisfied: webencodings in /opt/conda/lib/python3.10/site-packages (from bleach->nbconvert>=6.4.4->jupyter-server>=1.0->jupyter_server_proxy) (0.5.1)\n",
      "Requirement already satisfied: pycparser in /opt/conda/lib/python3.10/site-packages (from cffi>=1.0.1->argon2-cffi-bindings->argon2-cffi->jupyter-server>=1.0->jupyter_server_proxy) (2.21)\n",
      "Requirement already satisfied: jupyter_dash in /opt/conda/lib/python3.10/site-packages (0.4.2)\n",
      "Requirement already satisfied: ipykernel in /opt/conda/lib/python3.10/site-packages (from jupyter_dash) (6.15.2)\n",
      "Requirement already satisfied: requests in /opt/conda/lib/python3.10/site-packages (from jupyter_dash) (2.28.1)\n",
      "Requirement already satisfied: flask in /opt/conda/lib/python3.10/site-packages (from jupyter_dash) (2.1.3)\n",
      "Requirement already satisfied: retrying in /opt/conda/lib/python3.10/site-packages (from jupyter_dash) (1.3.3)\n",
      "Requirement already satisfied: nest-asyncio in /opt/conda/lib/python3.10/site-packages (from jupyter_dash) (1.5.5)\n",
      "Requirement already satisfied: ipython in /opt/conda/lib/python3.10/site-packages (from jupyter_dash) (8.5.0)\n",
      "Requirement already satisfied: dash in /opt/conda/lib/python3.10/site-packages (from jupyter_dash) (2.3.0)\n",
      "Requirement already satisfied: ansi2html in /opt/conda/lib/python3.10/site-packages (from jupyter_dash) (1.8.0)\n",
      "Requirement already satisfied: flask-compress in /opt/conda/lib/python3.10/site-packages (from dash->jupyter_dash) (1.12)\n",
      "Requirement already satisfied: plotly>=5.0.0 in /opt/conda/lib/python3.10/site-packages (from dash->jupyter_dash) (5.10.0)\n",
      "Requirement already satisfied: dash-html-components==2.0.0 in /opt/conda/lib/python3.10/site-packages (from dash->jupyter_dash) (2.0.0)\n",
      "Requirement already satisfied: dash-table==5.0.0 in /opt/conda/lib/python3.10/site-packages (from dash->jupyter_dash) (5.0.0)\n",
      "Requirement already satisfied: dash-core-components==2.0.0 in /opt/conda/lib/python3.10/site-packages (from dash->jupyter_dash) (2.0.0)\n",
      "Requirement already satisfied: click>=8.0 in /opt/conda/lib/python3.10/site-packages (from flask->jupyter_dash) (8.1.3)\n",
      "Requirement already satisfied: Jinja2>=3.0 in /opt/conda/lib/python3.10/site-packages (from flask->jupyter_dash) (3.1.2)\n",
      "Requirement already satisfied: Werkzeug>=2.0 in /opt/conda/lib/python3.10/site-packages (from flask->jupyter_dash) (2.0.3)\n",
      "Requirement already satisfied: itsdangerous>=2.0 in /opt/conda/lib/python3.10/site-packages (from flask->jupyter_dash) (2.1.2)\n",
      "Requirement already satisfied: debugpy>=1.0 in /opt/conda/lib/python3.10/site-packages (from ipykernel->jupyter_dash) (1.6.3)\n",
      "Requirement already satisfied: psutil in /opt/conda/lib/python3.10/site-packages (from ipykernel->jupyter_dash) (5.9.2)\n",
      "Requirement already satisfied: traitlets>=5.1.0 in /opt/conda/lib/python3.10/site-packages (from ipykernel->jupyter_dash) (5.3.0)\n",
      "Requirement already satisfied: jupyter-client>=6.1.12 in /opt/conda/lib/python3.10/site-packages (from ipykernel->jupyter_dash) (7.3.5)\n",
      "Requirement already satisfied: matplotlib-inline>=0.1 in /opt/conda/lib/python3.10/site-packages (from ipykernel->jupyter_dash) (0.1.6)\n",
      "Requirement already satisfied: packaging in /opt/conda/lib/python3.10/site-packages (from ipykernel->jupyter_dash) (21.3)\n",
      "Requirement already satisfied: tornado>=6.1 in /opt/conda/lib/python3.10/site-packages (from ipykernel->jupyter_dash) (6.2)\n",
      "Requirement already satisfied: pyzmq>=17 in /opt/conda/lib/python3.10/site-packages (from ipykernel->jupyter_dash) (23.2.1)\n",
      "Requirement already satisfied: pexpect>4.3 in /opt/conda/lib/python3.10/site-packages (from ipython->jupyter_dash) (4.8.0)\n",
      "Requirement already satisfied: decorator in /opt/conda/lib/python3.10/site-packages (from ipython->jupyter_dash) (5.1.1)\n",
      "Requirement already satisfied: pickleshare in /opt/conda/lib/python3.10/site-packages (from ipython->jupyter_dash) (0.7.5)\n",
      "Requirement already satisfied: stack-data in /opt/conda/lib/python3.10/site-packages (from ipython->jupyter_dash) (0.5.0)\n",
      "Requirement already satisfied: pygments>=2.4.0 in /opt/conda/lib/python3.10/site-packages (from ipython->jupyter_dash) (2.13.0)\n",
      "Requirement already satisfied: backcall in /opt/conda/lib/python3.10/site-packages (from ipython->jupyter_dash) (0.2.0)\n",
      "Requirement already satisfied: jedi>=0.16 in /opt/conda/lib/python3.10/site-packages (from ipython->jupyter_dash) (0.18.1)\n",
      "Requirement already satisfied: prompt-toolkit<3.1.0,>3.0.1 in /opt/conda/lib/python3.10/site-packages (from ipython->jupyter_dash) (3.0.31)\n",
      "Requirement already satisfied: charset-normalizer<3,>=2 in /opt/conda/lib/python3.10/site-packages (from requests->jupyter_dash) (2.1.1)\n",
      "Requirement already satisfied: urllib3<1.27,>=1.21.1 in /opt/conda/lib/python3.10/site-packages (from requests->jupyter_dash) (1.26.11)\n",
      "Requirement already satisfied: idna<4,>=2.5 in /opt/conda/lib/python3.10/site-packages (from requests->jupyter_dash) (3.3)\n",
      "Requirement already satisfied: certifi>=2017.4.17 in /opt/conda/lib/python3.10/site-packages (from requests->jupyter_dash) (2022.6.15.1)\n",
      "Requirement already satisfied: six>=1.7.0 in /opt/conda/lib/python3.10/site-packages (from retrying->jupyter_dash) (1.16.0)\n",
      "Requirement already satisfied: parso<0.9.0,>=0.8.0 in /opt/conda/lib/python3.10/site-packages (from jedi>=0.16->ipython->jupyter_dash) (0.8.3)\n",
      "Requirement already satisfied: MarkupSafe>=2.0 in /opt/conda/lib/python3.10/site-packages (from Jinja2>=3.0->flask->jupyter_dash) (2.1.1)\n",
      "Requirement already satisfied: entrypoints in /opt/conda/lib/python3.10/site-packages (from jupyter-client>=6.1.12->ipykernel->jupyter_dash) (0.4)\n",
      "Requirement already satisfied: python-dateutil>=2.8.2 in /opt/conda/lib/python3.10/site-packages (from jupyter-client>=6.1.12->ipykernel->jupyter_dash) (2.8.2)\n",
      "Requirement already satisfied: jupyter-core>=4.9.2 in /opt/conda/lib/python3.10/site-packages (from jupyter-client>=6.1.12->ipykernel->jupyter_dash) (4.11.1)\n",
      "Requirement already satisfied: ptyprocess>=0.5 in /opt/conda/lib/python3.10/site-packages (from pexpect>4.3->ipython->jupyter_dash) (0.7.0)\n",
      "Requirement already satisfied: tenacity>=6.2.0 in /opt/conda/lib/python3.10/site-packages (from plotly>=5.0.0->dash->jupyter_dash) (8.0.1)\n",
      "Requirement already satisfied: wcwidth in /opt/conda/lib/python3.10/site-packages (from prompt-toolkit<3.1.0,>3.0.1->ipython->jupyter_dash) (0.2.5)\n",
      "Requirement already satisfied: brotli in /opt/conda/lib/python3.10/site-packages (from flask-compress->dash->jupyter_dash) (1.0.9)\n",
      "Requirement already satisfied: pyparsing!=3.0.5,>=2.0.2 in /opt/conda/lib/python3.10/site-packages (from packaging->ipykernel->jupyter_dash) (3.0.9)\n",
      "Requirement already satisfied: asttokens in /opt/conda/lib/python3.10/site-packages (from stack-data->ipython->jupyter_dash) (2.0.8)\n",
      "Requirement already satisfied: pure-eval in /opt/conda/lib/python3.10/site-packages (from stack-data->ipython->jupyter_dash) (0.2.2)\n",
      "Requirement already satisfied: executing in /opt/conda/lib/python3.10/site-packages (from stack-data->ipython->jupyter_dash) (1.0.0)\n"
     ]
    }
   ],
   "source": [
    "!pip install git+https://github.com/GMOD/jbrowse-jupyter.git@sc_paper_modifications\n",
    "!pip install requests\n",
    "!pip install jupyter_server_proxy\n",
    "!pip install jupyter_dash"
   ]
  },
  {
   "cell_type": "code",
   "execution_count": 2,
   "metadata": {},
   "outputs": [],
   "source": [
    "from jbrowse_jupyter import launch, create, serve\n",
    "from IPython.display import FileLink, FileLinks\n",
    "#from jupyter_dash import JupyterDash\n",
    "import jupyter_server_proxy\n",
    "import requests"
   ]
  },
  {
   "cell_type": "code",
   "execution_count": 3,
   "metadata": {},
   "outputs": [],
   "source": [
    "#suggested by https://github.com/plotly/jupyter-dash/issues/28\n",
    "from jupyter_dash.comms import _send_jupyter_config_comm_request\n",
    "_send_jupyter_config_comm_request()"
   ]
  },
  {
   "cell_type": "code",
   "execution_count": 4,
   "metadata": {},
   "outputs": [],
   "source": [
    "from jupyter_dash import JupyterDash"
   ]
  },
  {
   "cell_type": "code",
   "execution_count": 6,
   "metadata": {},
   "outputs": [],
   "source": [
    "# Run this only if you are running the notebook in Jupyter not VSCode\n",
    "JupyterDash.infer_jupyter_proxy_config() "
   ]
  },
  {
   "cell_type": "code",
   "execution_count": 7,
   "metadata": {},
   "outputs": [],
   "source": [
    "## Create an Hg19 JBrowse config\n",
    "hg19 = create('LGV', genome='hg19')"
   ]
  },
  {
   "cell_type": "markdown",
   "metadata": {},
   "source": [
    "## Adding Tracks from local data"
   ]
  },
  {
   "cell_type": "markdown",
   "metadata": {},
   "source": [
    "### Using the Jupyter server \n",
    "\n",
    "This section show you how to use local files with jbrowse jupyter when your files exist within your jupyterlab/jupyternotebook file system. With the help of Jupyter Urls and file navigation with /tree, we are able to access the data to pass to JBrowse Jupyter's API."
   ]
  },
  {
   "cell_type": "markdown",
   "metadata": {},
   "source": [
    "**1.** Download our example gff files to add a track to our hg19 config.\n",
    "\n",
    "> **_NOTE:_** we are only downloading these files for the tutorial. If you have  local files that you may want to use and they are already in your jupyter notebook directory, you will be able to go straight to step 3."
   ]
  },
  {
   "cell_type": "code",
   "execution_count": null,
   "metadata": {},
   "outputs": [],
   "source": [
    "file1 = 'https://s3.amazonaws.com/jbrowse.org/genomes/hg19/ncbi_refseq/GRCh37_latest_genomic.sort.gff.gz'\n",
    "file2 = 'https://s3.amazonaws.com/jbrowse.org/genomes/hg19/ncbi_refseq/GRCh37_latest_genomic.sort.gff.gz.tbi'\n",
    "response1 = requests.get(file1)\n",
    "response2 = requests.get(file2)\n",
    "open(\"GRCh37_latest_genomic.sort.gff.gz\", \"wb\").write(response1.content)\n",
    "open(\"GRCh37_latest_genomic.sort.gff.gz.tbi\", \"wb\").write(response2.content)\n"
   ]
  },
  {
   "cell_type": "markdown",
   "metadata": {},
   "source": [
    "**2.** Verify that local files exist within your notebook file system.\n",
    "\n",
    "* Now that we have these new files in your file tree, we will be able to format urls to pass on to our components.\n",
    "\n",
    "* Navigate to *http://localhost:8888/tree* or http://<your-host:your-port>/tree to verify that *GRCh37_latest_genomic.sort.gff.gz* and *GRCh37_latest_genomic.sort.gff.gz.tbi* exist within the file tree.\n",
    "\n",
    "> **_NOTE_:** Your port may be different, so make sure that you use the same port from your jupyter notebook configuration. To ensure you have the correct one, you can look at the port in the url window where your notebook is running."
   ]
  },
  {
   "cell_type": "markdown",
   "metadata": {},
   "source": [
    "**3.** Format the Jupyter URLs of your local data to pass to your JBrowse view. \n",
    "\n",
    "\n",
    "* To format your urls: `http://localhost:8888/files/<your_file_name>`\n",
    "* e.g 'http://localhost:8888/files/' + 'GRCh37_latest_genomic.sort.gff.gz' = 'http://localhost:8888/files/GRCh37_latest_genomic.sort.gff.gz'\n",
    "\n",
    "\n",
    "> **_NOTE_:** You do not need to add tree or lab to this url."
   ]
  },
  {
   "cell_type": "code",
   "execution_count": 8,
   "metadata": {},
   "outputs": [],
   "source": [
    "# With the gff files that we just downloaded to our directory, we will add a track.\n",
    "track_data = 'http://localhost:8888/files/GRCh37_latest_genomic.sort.gff.gz'\n",
    "track_data_index = 'http://localhost:8888/files/GRCh37_latest_genomic.sort.gff.gz.tbi'\n",
    "hg19.add_track(track_data, index=track_data_index, track_id='local_file_support_demo')\n",
    "hg19.set_default_session(['local_file_support_demo'],False)"
   ]
  },
  {
   "cell_type": "markdown",
   "metadata": {},
   "source": [
    "### Using the JBrowse Jupyter dev server"
   ]
  },
  {
   "cell_type": "markdown",
   "metadata": {},
   "source": [
    "**1.** git clone our repo: [https://github.com/GMOD/jbrowse-jupyter](https://github.com/GMOD/jbrowse-jupyter). You can skip this step if you are already running this tutorial from within our repo.\n",
    "\n",
    "**2.** From the root of our directory, run \n",
    "```$ python serve.py```\n",
    "\n",
    "**3.** You can provide a specific PORT, HOST, and DIRECTORY from where you want to serve your data.\n",
    "None of these are required. The PORT will default to 8080, the host will default to 'localhost', and the directory will default to your current working directory. You can move the files to exist within the repo or provide a path to your local data. \n",
    "\n",
    "\n",
    "Your terminal should look something like this, if no input was provided.\n",
    "```\n",
    "> python serve.py \n",
    "ENTER A PORT: \n",
    "ENTER A HOST: \n",
    "ENTER PATH TO YOUR LOCAL DATA: \n",
    "\n",
    "Warning, this is a development environment.\n",
    "This is not Recommended for production.\n",
    "Server is now running at \n",
    " \"http://localhost:8080\"\n",
    "```\n",
    "**4.** Navigate to the url and verify that your local data is there. Now you should be able to provide urls to your local data to the JBrowse Jupyter config. Below you can find an example of our dev server serving files on port 8080 on local host.\n",
    "\n",
    "\n",
    "You can also run the server by using the serve() method from our package. Checkout our docs for more information regarding our local dev server:\n",
    "https://github.com/GMOD/jbrowse-jupyter/blob/main/README.md\n"
   ]
  },
  {
   "cell_type": "markdown",
   "metadata": {},
   "source": [
    "> **_NOTE_:** You can skip the following two cells if you did not run the local dev server provided by JBrowse Jupyter. \n"
   ]
  },
  {
   "cell_type": "code",
   "execution_count": null,
   "metadata": {},
   "outputs": [],
   "source": [
    "track_data2 = 'http://localhost:8080/GRCh37_latest_genomic.sort.gff.gz'\n",
    "track_data_index2 = 'http://localhost:8080/GRCh37_latest_genomic.sort.gff.gz.tbi'\n",
    "hg19.add_track(track_data2, index=track_data_index2, track_id='dev_server_demo')"
   ]
  },
  {
   "cell_type": "code",
   "execution_count": 9,
   "metadata": {},
   "outputs": [],
   "source": [
    "hg19.set_default_session(['local_file_support_demo'],False)"
   ]
  },
  {
   "cell_type": "code",
   "execution_count": 10,
   "metadata": {},
   "outputs": [],
   "source": [
    "config = hg19.get_config()"
   ]
  },
  {
   "cell_type": "code",
   "execution_count": 11,
   "metadata": {
    "scrolled": true
   },
   "outputs": [
    {
     "data": {
      "text/html": [
       "\n",
       "        <iframe\n",
       "            width=\"100%\"\n",
       "            height=\"300\"\n",
       "            src=\"http://127.0.0.1:8888/proxy/3000/\"\n",
       "            frameborder=\"0\"\n",
       "            allowfullscreen\n",
       "            \n",
       "        ></iframe>\n",
       "        "
      ],
      "text/plain": [
       "<IPython.lib.display.IFrame at 0x7ff0e11cb640>"
      ]
     },
     "metadata": {},
     "output_type": "display_data"
    }
   ],
   "source": [
    "launch(config, port=3000)"
   ]
  },
  {
   "cell_type": "markdown",
   "metadata": {},
   "source": [
    "## FAQ & Troubleshooting\n",
    "Issues with the JupyterDash proxy?\n",
    "\n",
    "* This tutorial works in both jupyter notebook and jupyter lab. If you have issues with the proxy and you are working in jupyter lab, make sure that you have the `jupyterlab-dash` extension installed. If you get an error when installing it or after installing it, exit jupyter lab then run `$ jupyter lab build` and run jupyter lab again.\n",
    "\n",
    "Issues with the PORT?\n",
    "\n",
    "* Make sure that the PORT that your notebook is running is different from the one that you use to launch the JBrowse view and or the JBrowse Dev Server. To change the PORT in JBrowse Jupyter, simply pass a new port number to the launch() method or pass a different port to the dev server. \n",
    "\n",
    "Issues Jupyter Dash?\n",
    "\n",
    "* Our package has dependencies on JupyterDash and Dash, please make sure that you are using jupyter lab version 2.0 and greater. This tutorial is currently working with the lastest version of jupyter lab 3.4.6.\n",
    "\n",
    "\n",
    "## Contact Us\n",
    "For other issues, please open a ticket on our repo or contact our gitter channel for more support\n",
    "\n",
    "Report a bug or request a feature at https://github.com/GMOD/jbrowse-jupyter/issues\n",
    "Join our developers chat at https://gitter.im/GMOD/jbrowse2\n",
    "Send an email to our mailing list at gmod-ajax@lists.sourceforge.net\n",
    "\n"
   ]
  },
  {
   "cell_type": "markdown",
   "metadata": {},
   "source": []
  },
  {
   "cell_type": "code",
   "execution_count": null,
   "metadata": {},
   "outputs": [],
   "source": []
  }
 ],
 "metadata": {
  "kernelspec": {
   "display_name": "Python 3 (ipykernel)",
   "language": "python",
   "name": "python3"
  },
  "language_info": {
   "codemirror_mode": {
    "name": "ipython",
    "version": 3
   },
   "file_extension": ".py",
   "mimetype": "text/x-python",
   "name": "python",
   "nbconvert_exporter": "python",
   "pygments_lexer": "ipython3",
   "version": "3.10.6"
  },
  "vscode": {
   "interpreter": {
    "hash": "aaf81c8f28912d07c45359b3a81eb2244c23c90e1b370733684a5666e4e4597e"
   }
  }
 },
 "nbformat": 4,
 "nbformat_minor": 4
}
