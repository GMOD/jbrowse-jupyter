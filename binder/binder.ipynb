{
 "cells": [
  {
   "cell_type": "code",
   "execution_count": 1,
   "metadata": {},
   "outputs": [
    {
     "name": "stdout",
     "output_type": "stream",
     "text": [
      "Requirement already satisfied: jbrowse-jupyter in /Users/teresamartinez/opt/anaconda3/envs/jbrowse-jupyter/lib/python3.8/site-packages (1.2.5)\n",
      "Requirement already satisfied: jupyter-dash>=0.4.2 in /Users/teresamartinez/opt/anaconda3/envs/jbrowse-jupyter/lib/python3.8/site-packages (from jbrowse-jupyter) (0.4.2)\n",
      "Requirement already satisfied: dash==2.3.0 in /Users/teresamartinez/opt/anaconda3/envs/jbrowse-jupyter/lib/python3.8/site-packages (from jbrowse-jupyter) (2.3.0)\n",
      "Requirement already satisfied: dash-jbrowse>=1.0.2 in /Users/teresamartinez/opt/anaconda3/envs/jbrowse-jupyter/lib/python3.8/site-packages (from jbrowse-jupyter) (1.0.2)\n",
      "Requirement already satisfied: pytest>=6.2.5 in /Users/teresamartinez/opt/anaconda3/envs/jbrowse-jupyter/lib/python3.8/site-packages (from jbrowse-jupyter) (7.1.1)\n",
      "Requirement already satisfied: pandas>=1.1.5 in /Users/teresamartinez/opt/anaconda3/envs/jbrowse-jupyter/lib/python3.8/site-packages (from jbrowse-jupyter) (1.4.2)\n",
      "Requirement already satisfied: Werkzeug==2.0.3 in /Users/teresamartinez/opt/anaconda3/envs/jbrowse-jupyter/lib/python3.8/site-packages (from jbrowse-jupyter) (2.0.3)\n",
      "Requirement already satisfied: dash-html-components==2.0.0 in /Users/teresamartinez/opt/anaconda3/envs/jbrowse-jupyter/lib/python3.8/site-packages (from dash==2.3.0->jbrowse-jupyter) (2.0.0)\n",
      "Requirement already satisfied: dash-table==5.0.0 in /Users/teresamartinez/opt/anaconda3/envs/jbrowse-jupyter/lib/python3.8/site-packages (from dash==2.3.0->jbrowse-jupyter) (5.0.0)\n",
      "Requirement already satisfied: Flask>=1.0.4 in /Users/teresamartinez/opt/anaconda3/envs/jbrowse-jupyter/lib/python3.8/site-packages (from dash==2.3.0->jbrowse-jupyter) (2.1.1)\n",
      "Requirement already satisfied: plotly>=5.0.0 in /Users/teresamartinez/opt/anaconda3/envs/jbrowse-jupyter/lib/python3.8/site-packages (from dash==2.3.0->jbrowse-jupyter) (5.7.0)\n",
      "Requirement already satisfied: dash-core-components==2.0.0 in /Users/teresamartinez/opt/anaconda3/envs/jbrowse-jupyter/lib/python3.8/site-packages (from dash==2.3.0->jbrowse-jupyter) (2.0.0)\n",
      "Requirement already satisfied: flask-compress in /Users/teresamartinez/opt/anaconda3/envs/jbrowse-jupyter/lib/python3.8/site-packages (from dash==2.3.0->jbrowse-jupyter) (1.11)\n",
      "Requirement already satisfied: importlib-metadata>=3.6.0 in /Users/teresamartinez/opt/anaconda3/envs/jbrowse-jupyter/lib/python3.8/site-packages (from Flask>=1.0.4->dash==2.3.0->jbrowse-jupyter) (4.11.3)\n",
      "Requirement already satisfied: itsdangerous>=2.0 in /Users/teresamartinez/opt/anaconda3/envs/jbrowse-jupyter/lib/python3.8/site-packages (from Flask>=1.0.4->dash==2.3.0->jbrowse-jupyter) (2.1.2)\n",
      "Requirement already satisfied: Jinja2>=3.0 in /Users/teresamartinez/opt/anaconda3/envs/jbrowse-jupyter/lib/python3.8/site-packages (from Flask>=1.0.4->dash==2.3.0->jbrowse-jupyter) (3.1.1)\n",
      "Requirement already satisfied: click>=8.0 in /Users/teresamartinez/opt/anaconda3/envs/jbrowse-jupyter/lib/python3.8/site-packages (from Flask>=1.0.4->dash==2.3.0->jbrowse-jupyter) (8.1.2)\n",
      "Requirement already satisfied: zipp>=0.5 in /Users/teresamartinez/opt/anaconda3/envs/jbrowse-jupyter/lib/python3.8/site-packages (from importlib-metadata>=3.6.0->Flask>=1.0.4->dash==2.3.0->jbrowse-jupyter) (3.8.0)\n",
      "Requirement already satisfied: MarkupSafe>=2.0 in /Users/teresamartinez/opt/anaconda3/envs/jbrowse-jupyter/lib/python3.8/site-packages (from Jinja2>=3.0->Flask>=1.0.4->dash==2.3.0->jbrowse-jupyter) (2.1.1)\n",
      "Requirement already satisfied: ipython in /Users/teresamartinez/opt/anaconda3/envs/jbrowse-jupyter/lib/python3.8/site-packages (from jupyter-dash>=0.4.2->jbrowse-jupyter) (8.2.0)\n",
      "Requirement already satisfied: requests in /Users/teresamartinez/opt/anaconda3/envs/jbrowse-jupyter/lib/python3.8/site-packages (from jupyter-dash>=0.4.2->jbrowse-jupyter) (2.27.1)\n",
      "Requirement already satisfied: retrying in /Users/teresamartinez/opt/anaconda3/envs/jbrowse-jupyter/lib/python3.8/site-packages (from jupyter-dash>=0.4.2->jbrowse-jupyter) (1.3.3)\n",
      "Requirement already satisfied: nest-asyncio in /Users/teresamartinez/opt/anaconda3/envs/jbrowse-jupyter/lib/python3.8/site-packages (from jupyter-dash>=0.4.2->jbrowse-jupyter) (1.5.5)\n",
      "Requirement already satisfied: ipykernel in /Users/teresamartinez/opt/anaconda3/envs/jbrowse-jupyter/lib/python3.8/site-packages (from jupyter-dash>=0.4.2->jbrowse-jupyter) (6.12.1)\n",
      "Requirement already satisfied: ansi2html in /Users/teresamartinez/opt/anaconda3/envs/jbrowse-jupyter/lib/python3.8/site-packages (from jupyter-dash>=0.4.2->jbrowse-jupyter) (1.7.0)\n",
      "Requirement already satisfied: python-dateutil>=2.8.1 in /Users/teresamartinez/opt/anaconda3/envs/jbrowse-jupyter/lib/python3.8/site-packages (from pandas>=1.1.5->jbrowse-jupyter) (2.8.2)\n",
      "Requirement already satisfied: pytz>=2020.1 in /Users/teresamartinez/opt/anaconda3/envs/jbrowse-jupyter/lib/python3.8/site-packages (from pandas>=1.1.5->jbrowse-jupyter) (2022.1)\n",
      "Requirement already satisfied: numpy>=1.18.5 in /Users/teresamartinez/opt/anaconda3/envs/jbrowse-jupyter/lib/python3.8/site-packages (from pandas>=1.1.5->jbrowse-jupyter) (1.22.3)\n",
      "Requirement already satisfied: tenacity>=6.2.0 in /Users/teresamartinez/opt/anaconda3/envs/jbrowse-jupyter/lib/python3.8/site-packages (from plotly>=5.0.0->dash==2.3.0->jbrowse-jupyter) (8.0.1)\n",
      "Requirement already satisfied: six in /Users/teresamartinez/opt/anaconda3/envs/jbrowse-jupyter/lib/python3.8/site-packages (from plotly>=5.0.0->dash==2.3.0->jbrowse-jupyter) (1.16.0)\n",
      "Requirement already satisfied: tomli>=1.0.0 in /Users/teresamartinez/opt/anaconda3/envs/jbrowse-jupyter/lib/python3.8/site-packages (from pytest>=6.2.5->jbrowse-jupyter) (2.0.1)\n",
      "Requirement already satisfied: packaging in /Users/teresamartinez/opt/anaconda3/envs/jbrowse-jupyter/lib/python3.8/site-packages (from pytest>=6.2.5->jbrowse-jupyter) (21.3)\n",
      "Requirement already satisfied: attrs>=19.2.0 in /Users/teresamartinez/opt/anaconda3/envs/jbrowse-jupyter/lib/python3.8/site-packages (from pytest>=6.2.5->jbrowse-jupyter) (21.4.0)\n",
      "Requirement already satisfied: pluggy<2.0,>=0.12 in /Users/teresamartinez/opt/anaconda3/envs/jbrowse-jupyter/lib/python3.8/site-packages (from pytest>=6.2.5->jbrowse-jupyter) (1.0.0)\n",
      "Requirement already satisfied: iniconfig in /Users/teresamartinez/opt/anaconda3/envs/jbrowse-jupyter/lib/python3.8/site-packages (from pytest>=6.2.5->jbrowse-jupyter) (1.1.1)\n",
      "Requirement already satisfied: py>=1.8.2 in /Users/teresamartinez/opt/anaconda3/envs/jbrowse-jupyter/lib/python3.8/site-packages (from pytest>=6.2.5->jbrowse-jupyter) (1.11.0)\n",
      "Requirement already satisfied: brotli in /Users/teresamartinez/opt/anaconda3/envs/jbrowse-jupyter/lib/python3.8/site-packages (from flask-compress->dash==2.3.0->jbrowse-jupyter) (1.0.9)\n",
      "Requirement already satisfied: traitlets>=5.1.0 in /Users/teresamartinez/opt/anaconda3/envs/jbrowse-jupyter/lib/python3.8/site-packages (from ipykernel->jupyter-dash>=0.4.2->jbrowse-jupyter) (5.1.1)\n",
      "Requirement already satisfied: matplotlib-inline>=0.1 in /Users/teresamartinez/opt/anaconda3/envs/jbrowse-jupyter/lib/python3.8/site-packages (from ipykernel->jupyter-dash>=0.4.2->jbrowse-jupyter) (0.1.3)\n",
      "Requirement already satisfied: appnope in /Users/teresamartinez/opt/anaconda3/envs/jbrowse-jupyter/lib/python3.8/site-packages (from ipykernel->jupyter-dash>=0.4.2->jbrowse-jupyter) (0.1.3)\n",
      "Requirement already satisfied: debugpy>=1.0 in /Users/teresamartinez/opt/anaconda3/envs/jbrowse-jupyter/lib/python3.8/site-packages (from ipykernel->jupyter-dash>=0.4.2->jbrowse-jupyter) (1.6.0)\n",
      "Requirement already satisfied: psutil in /Users/teresamartinez/opt/anaconda3/envs/jbrowse-jupyter/lib/python3.8/site-packages (from ipykernel->jupyter-dash>=0.4.2->jbrowse-jupyter) (5.9.0)\n",
      "Requirement already satisfied: tornado>=6.1 in /Users/teresamartinez/opt/anaconda3/envs/jbrowse-jupyter/lib/python3.8/site-packages (from ipykernel->jupyter-dash>=0.4.2->jbrowse-jupyter) (6.1)\n",
      "Requirement already satisfied: jupyter-client>=6.1.12 in /Users/teresamartinez/opt/anaconda3/envs/jbrowse-jupyter/lib/python3.8/site-packages (from ipykernel->jupyter-dash>=0.4.2->jbrowse-jupyter) (7.2.2)\n",
      "Requirement already satisfied: pickleshare in /Users/teresamartinez/opt/anaconda3/envs/jbrowse-jupyter/lib/python3.8/site-packages (from ipython->jupyter-dash>=0.4.2->jbrowse-jupyter) (0.7.5)\n",
      "Requirement already satisfied: stack-data in /Users/teresamartinez/opt/anaconda3/envs/jbrowse-jupyter/lib/python3.8/site-packages (from ipython->jupyter-dash>=0.4.2->jbrowse-jupyter) (0.2.0)\n",
      "Requirement already satisfied: pexpect>4.3 in /Users/teresamartinez/opt/anaconda3/envs/jbrowse-jupyter/lib/python3.8/site-packages (from ipython->jupyter-dash>=0.4.2->jbrowse-jupyter) (4.8.0)\n",
      "Requirement already satisfied: prompt-toolkit!=3.0.0,!=3.0.1,<3.1.0,>=2.0.0 in /Users/teresamartinez/opt/anaconda3/envs/jbrowse-jupyter/lib/python3.8/site-packages (from ipython->jupyter-dash>=0.4.2->jbrowse-jupyter) (3.0.29)\n",
      "Requirement already satisfied: jedi>=0.16 in /Users/teresamartinez/opt/anaconda3/envs/jbrowse-jupyter/lib/python3.8/site-packages (from ipython->jupyter-dash>=0.4.2->jbrowse-jupyter) (0.18.1)\n",
      "Requirement already satisfied: decorator in /Users/teresamartinez/opt/anaconda3/envs/jbrowse-jupyter/lib/python3.8/site-packages (from ipython->jupyter-dash>=0.4.2->jbrowse-jupyter) (5.1.1)\n",
      "Requirement already satisfied: backcall in /Users/teresamartinez/opt/anaconda3/envs/jbrowse-jupyter/lib/python3.8/site-packages (from ipython->jupyter-dash>=0.4.2->jbrowse-jupyter) (0.2.0)\n",
      "Requirement already satisfied: setuptools>=18.5 in /Users/teresamartinez/opt/anaconda3/envs/jbrowse-jupyter/lib/python3.8/site-packages (from ipython->jupyter-dash>=0.4.2->jbrowse-jupyter) (58.0.4)\n",
      "Requirement already satisfied: pygments>=2.4.0 in /Users/teresamartinez/opt/anaconda3/envs/jbrowse-jupyter/lib/python3.8/site-packages (from ipython->jupyter-dash>=0.4.2->jbrowse-jupyter) (2.11.2)\n",
      "Requirement already satisfied: parso<0.9.0,>=0.8.0 in /Users/teresamartinez/opt/anaconda3/envs/jbrowse-jupyter/lib/python3.8/site-packages (from jedi>=0.16->ipython->jupyter-dash>=0.4.2->jbrowse-jupyter) (0.8.3)\n",
      "Requirement already satisfied: pyzmq>=22.3 in /Users/teresamartinez/opt/anaconda3/envs/jbrowse-jupyter/lib/python3.8/site-packages (from jupyter-client>=6.1.12->ipykernel->jupyter-dash>=0.4.2->jbrowse-jupyter) (22.3.0)\n",
      "Requirement already satisfied: entrypoints in /Users/teresamartinez/opt/anaconda3/envs/jbrowse-jupyter/lib/python3.8/site-packages (from jupyter-client>=6.1.12->ipykernel->jupyter-dash>=0.4.2->jbrowse-jupyter) (0.4)\n",
      "Requirement already satisfied: jupyter-core>=4.9.2 in /Users/teresamartinez/opt/anaconda3/envs/jbrowse-jupyter/lib/python3.8/site-packages (from jupyter-client>=6.1.12->ipykernel->jupyter-dash>=0.4.2->jbrowse-jupyter) (4.9.2)\n",
      "Requirement already satisfied: ptyprocess>=0.5 in /Users/teresamartinez/opt/anaconda3/envs/jbrowse-jupyter/lib/python3.8/site-packages (from pexpect>4.3->ipython->jupyter-dash>=0.4.2->jbrowse-jupyter) (0.7.0)\n",
      "Requirement already satisfied: wcwidth in /Users/teresamartinez/opt/anaconda3/envs/jbrowse-jupyter/lib/python3.8/site-packages (from prompt-toolkit!=3.0.0,!=3.0.1,<3.1.0,>=2.0.0->ipython->jupyter-dash>=0.4.2->jbrowse-jupyter) (0.2.5)\n",
      "Requirement already satisfied: pyparsing!=3.0.5,>=2.0.2 in /Users/teresamartinez/opt/anaconda3/envs/jbrowse-jupyter/lib/python3.8/site-packages (from packaging->pytest>=6.2.5->jbrowse-jupyter) (3.0.7)\n",
      "Requirement already satisfied: urllib3<1.27,>=1.21.1 in /Users/teresamartinez/opt/anaconda3/envs/jbrowse-jupyter/lib/python3.8/site-packages (from requests->jupyter-dash>=0.4.2->jbrowse-jupyter) (1.26.9)\n",
      "Requirement already satisfied: charset-normalizer~=2.0.0 in /Users/teresamartinez/opt/anaconda3/envs/jbrowse-jupyter/lib/python3.8/site-packages (from requests->jupyter-dash>=0.4.2->jbrowse-jupyter) (2.0.12)\n",
      "Requirement already satisfied: idna<4,>=2.5 in /Users/teresamartinez/opt/anaconda3/envs/jbrowse-jupyter/lib/python3.8/site-packages (from requests->jupyter-dash>=0.4.2->jbrowse-jupyter) (3.3)\n",
      "Requirement already satisfied: certifi>=2017.4.17 in /Users/teresamartinez/opt/anaconda3/envs/jbrowse-jupyter/lib/python3.8/site-packages (from requests->jupyter-dash>=0.4.2->jbrowse-jupyter) (2021.10.8)\n",
      "Requirement already satisfied: pure-eval in /Users/teresamartinez/opt/anaconda3/envs/jbrowse-jupyter/lib/python3.8/site-packages (from stack-data->ipython->jupyter-dash>=0.4.2->jbrowse-jupyter) (0.2.2)\n",
      "Requirement already satisfied: executing in /Users/teresamartinez/opt/anaconda3/envs/jbrowse-jupyter/lib/python3.8/site-packages (from stack-data->ipython->jupyter-dash>=0.4.2->jbrowse-jupyter) (0.8.3)\n",
      "Requirement already satisfied: asttokens in /Users/teresamartinez/opt/anaconda3/envs/jbrowse-jupyter/lib/python3.8/site-packages (from stack-data->ipython->jupyter-dash>=0.4.2->jbrowse-jupyter) (2.0.5)\n"
     ]
    }
   ],
   "source": [
    "!pip install jbrowse-jupyter"
   ]
  },
  {
   "cell_type": "code",
   "execution_count": 2,
   "metadata": {},
   "outputs": [
    {
     "name": "stdout",
     "output_type": "stream",
     "text": [
      "Requirement already satisfied: jupyter-server-proxy in /Users/teresamartinez/opt/anaconda3/envs/jbrowse-jupyter/lib/python3.8/site-packages (3.2.1)\n",
      "Requirement already satisfied: simpervisor>=0.4 in /Users/teresamartinez/opt/anaconda3/envs/jbrowse-jupyter/lib/python3.8/site-packages (from jupyter-server-proxy) (0.4)\n",
      "Requirement already satisfied: aiohttp in /Users/teresamartinez/opt/anaconda3/envs/jbrowse-jupyter/lib/python3.8/site-packages (from jupyter-server-proxy) (3.8.1)\n",
      "Requirement already satisfied: jupyter-server>=1.0 in /Users/teresamartinez/opt/anaconda3/envs/jbrowse-jupyter/lib/python3.8/site-packages (from jupyter-server-proxy) (1.16.0)\n",
      "Requirement already satisfied: jupyter-core>=4.7.0 in /Users/teresamartinez/opt/anaconda3/envs/jbrowse-jupyter/lib/python3.8/site-packages (from jupyter-server>=1.0->jupyter-server-proxy) (4.9.2)\n",
      "Requirement already satisfied: websocket-client in /Users/teresamartinez/opt/anaconda3/envs/jbrowse-jupyter/lib/python3.8/site-packages (from jupyter-server>=1.0->jupyter-server-proxy) (1.3.2)\n",
      "Requirement already satisfied: jinja2 in /Users/teresamartinez/opt/anaconda3/envs/jbrowse-jupyter/lib/python3.8/site-packages (from jupyter-server>=1.0->jupyter-server-proxy) (3.1.1)\n",
      "Requirement already satisfied: pyzmq>=17 in /Users/teresamartinez/opt/anaconda3/envs/jbrowse-jupyter/lib/python3.8/site-packages (from jupyter-server>=1.0->jupyter-server-proxy) (22.3.0)\n",
      "Requirement already satisfied: jupyter-client>=6.1.12 in /Users/teresamartinez/opt/anaconda3/envs/jbrowse-jupyter/lib/python3.8/site-packages (from jupyter-server>=1.0->jupyter-server-proxy) (7.2.2)\n",
      "Requirement already satisfied: Send2Trash in /Users/teresamartinez/opt/anaconda3/envs/jbrowse-jupyter/lib/python3.8/site-packages (from jupyter-server>=1.0->jupyter-server-proxy) (1.8.0)\n",
      "Requirement already satisfied: terminado>=0.8.3 in /Users/teresamartinez/opt/anaconda3/envs/jbrowse-jupyter/lib/python3.8/site-packages (from jupyter-server>=1.0->jupyter-server-proxy) (0.13.3)\n",
      "Requirement already satisfied: prometheus-client in /Users/teresamartinez/opt/anaconda3/envs/jbrowse-jupyter/lib/python3.8/site-packages (from jupyter-server>=1.0->jupyter-server-proxy) (0.14.1)\n",
      "Requirement already satisfied: nbformat>=5.2.0 in /Users/teresamartinez/opt/anaconda3/envs/jbrowse-jupyter/lib/python3.8/site-packages (from jupyter-server>=1.0->jupyter-server-proxy) (5.3.0)\n",
      "Requirement already satisfied: packaging in /Users/teresamartinez/opt/anaconda3/envs/jbrowse-jupyter/lib/python3.8/site-packages (from jupyter-server>=1.0->jupyter-server-proxy) (21.3)\n",
      "Requirement already satisfied: traitlets>=5.1.0 in /Users/teresamartinez/opt/anaconda3/envs/jbrowse-jupyter/lib/python3.8/site-packages (from jupyter-server>=1.0->jupyter-server-proxy) (5.1.1)\n",
      "Requirement already satisfied: argon2-cffi in /Users/teresamartinez/opt/anaconda3/envs/jbrowse-jupyter/lib/python3.8/site-packages (from jupyter-server>=1.0->jupyter-server-proxy) (21.3.0)\n",
      "Requirement already satisfied: nbconvert>=6.4.4 in /Users/teresamartinez/opt/anaconda3/envs/jbrowse-jupyter/lib/python3.8/site-packages (from jupyter-server>=1.0->jupyter-server-proxy) (6.4.5)\n",
      "Requirement already satisfied: tornado>=6.1.0 in /Users/teresamartinez/opt/anaconda3/envs/jbrowse-jupyter/lib/python3.8/site-packages (from jupyter-server>=1.0->jupyter-server-proxy) (6.1)\n",
      "Requirement already satisfied: anyio>=3.1.0 in /Users/teresamartinez/opt/anaconda3/envs/jbrowse-jupyter/lib/python3.8/site-packages (from jupyter-server>=1.0->jupyter-server-proxy) (3.5.0)\n",
      "Requirement already satisfied: idna>=2.8 in /Users/teresamartinez/opt/anaconda3/envs/jbrowse-jupyter/lib/python3.8/site-packages (from anyio>=3.1.0->jupyter-server>=1.0->jupyter-server-proxy) (3.3)\n",
      "Requirement already satisfied: sniffio>=1.1 in /Users/teresamartinez/opt/anaconda3/envs/jbrowse-jupyter/lib/python3.8/site-packages (from anyio>=3.1.0->jupyter-server>=1.0->jupyter-server-proxy) (1.2.0)\n",
      "Requirement already satisfied: python-dateutil>=2.8.2 in /Users/teresamartinez/opt/anaconda3/envs/jbrowse-jupyter/lib/python3.8/site-packages (from jupyter-client>=6.1.12->jupyter-server>=1.0->jupyter-server-proxy) (2.8.2)\n",
      "Requirement already satisfied: nest-asyncio>=1.5.4 in /Users/teresamartinez/opt/anaconda3/envs/jbrowse-jupyter/lib/python3.8/site-packages (from jupyter-client>=6.1.12->jupyter-server>=1.0->jupyter-server-proxy) (1.5.5)\n",
      "Requirement already satisfied: entrypoints in /Users/teresamartinez/opt/anaconda3/envs/jbrowse-jupyter/lib/python3.8/site-packages (from jupyter-client>=6.1.12->jupyter-server>=1.0->jupyter-server-proxy) (0.4)\n",
      "Requirement already satisfied: beautifulsoup4 in /Users/teresamartinez/opt/anaconda3/envs/jbrowse-jupyter/lib/python3.8/site-packages (from nbconvert>=6.4.4->jupyter-server>=1.0->jupyter-server-proxy) (4.11.1)\n",
      "Requirement already satisfied: testpath in /Users/teresamartinez/opt/anaconda3/envs/jbrowse-jupyter/lib/python3.8/site-packages (from nbconvert>=6.4.4->jupyter-server>=1.0->jupyter-server-proxy) (0.6.0)\n",
      "Requirement already satisfied: jupyterlab-pygments in /Users/teresamartinez/opt/anaconda3/envs/jbrowse-jupyter/lib/python3.8/site-packages (from nbconvert>=6.4.4->jupyter-server>=1.0->jupyter-server-proxy) (0.2.0)\n",
      "Requirement already satisfied: pandocfilters>=1.4.1 in /Users/teresamartinez/opt/anaconda3/envs/jbrowse-jupyter/lib/python3.8/site-packages (from nbconvert>=6.4.4->jupyter-server>=1.0->jupyter-server-proxy) (1.5.0)\n",
      "Requirement already satisfied: pygments>=2.4.1 in /Users/teresamartinez/opt/anaconda3/envs/jbrowse-jupyter/lib/python3.8/site-packages (from nbconvert>=6.4.4->jupyter-server>=1.0->jupyter-server-proxy) (2.11.2)\n",
      "Requirement already satisfied: nbclient<0.6.0,>=0.5.0 in /Users/teresamartinez/opt/anaconda3/envs/jbrowse-jupyter/lib/python3.8/site-packages (from nbconvert>=6.4.4->jupyter-server>=1.0->jupyter-server-proxy) (0.5.13)\n",
      "Requirement already satisfied: MarkupSafe>=2.0 in /Users/teresamartinez/opt/anaconda3/envs/jbrowse-jupyter/lib/python3.8/site-packages (from nbconvert>=6.4.4->jupyter-server>=1.0->jupyter-server-proxy) (2.1.1)\n",
      "Requirement already satisfied: bleach in /Users/teresamartinez/opt/anaconda3/envs/jbrowse-jupyter/lib/python3.8/site-packages (from nbconvert>=6.4.4->jupyter-server>=1.0->jupyter-server-proxy) (5.0.0)\n",
      "Requirement already satisfied: mistune<2,>=0.8.1 in /Users/teresamartinez/opt/anaconda3/envs/jbrowse-jupyter/lib/python3.8/site-packages (from nbconvert>=6.4.4->jupyter-server>=1.0->jupyter-server-proxy) (0.8.4)\n",
      "Requirement already satisfied: defusedxml in /Users/teresamartinez/opt/anaconda3/envs/jbrowse-jupyter/lib/python3.8/site-packages (from nbconvert>=6.4.4->jupyter-server>=1.0->jupyter-server-proxy) (0.7.1)\n",
      "Requirement already satisfied: fastjsonschema in /Users/teresamartinez/opt/anaconda3/envs/jbrowse-jupyter/lib/python3.8/site-packages (from nbformat>=5.2.0->jupyter-server>=1.0->jupyter-server-proxy) (2.15.3)\n",
      "Requirement already satisfied: jsonschema>=2.6 in /Users/teresamartinez/opt/anaconda3/envs/jbrowse-jupyter/lib/python3.8/site-packages (from nbformat>=5.2.0->jupyter-server>=1.0->jupyter-server-proxy) (4.4.0)\n",
      "Requirement already satisfied: attrs>=17.4.0 in /Users/teresamartinez/opt/anaconda3/envs/jbrowse-jupyter/lib/python3.8/site-packages (from jsonschema>=2.6->nbformat>=5.2.0->jupyter-server>=1.0->jupyter-server-proxy) (21.4.0)\n",
      "Requirement already satisfied: pyrsistent!=0.17.0,!=0.17.1,!=0.17.2,>=0.14.0 in /Users/teresamartinez/opt/anaconda3/envs/jbrowse-jupyter/lib/python3.8/site-packages (from jsonschema>=2.6->nbformat>=5.2.0->jupyter-server>=1.0->jupyter-server-proxy) (0.18.1)\n",
      "Requirement already satisfied: importlib-resources>=1.4.0 in /Users/teresamartinez/opt/anaconda3/envs/jbrowse-jupyter/lib/python3.8/site-packages (from jsonschema>=2.6->nbformat>=5.2.0->jupyter-server>=1.0->jupyter-server-proxy) (5.6.0)\n",
      "Requirement already satisfied: zipp>=3.1.0 in /Users/teresamartinez/opt/anaconda3/envs/jbrowse-jupyter/lib/python3.8/site-packages (from importlib-resources>=1.4.0->jsonschema>=2.6->nbformat>=5.2.0->jupyter-server>=1.0->jupyter-server-proxy) (3.8.0)\n",
      "Requirement already satisfied: six>=1.5 in /Users/teresamartinez/opt/anaconda3/envs/jbrowse-jupyter/lib/python3.8/site-packages (from python-dateutil>=2.8.2->jupyter-client>=6.1.12->jupyter-server>=1.0->jupyter-server-proxy) (1.16.0)\n",
      "Requirement already satisfied: ptyprocess in /Users/teresamartinez/opt/anaconda3/envs/jbrowse-jupyter/lib/python3.8/site-packages (from terminado>=0.8.3->jupyter-server>=1.0->jupyter-server-proxy) (0.7.0)\n",
      "Requirement already satisfied: yarl<2.0,>=1.0 in /Users/teresamartinez/opt/anaconda3/envs/jbrowse-jupyter/lib/python3.8/site-packages (from aiohttp->jupyter-server-proxy) (1.7.2)\n",
      "Requirement already satisfied: async-timeout<5.0,>=4.0.0a3 in /Users/teresamartinez/opt/anaconda3/envs/jbrowse-jupyter/lib/python3.8/site-packages (from aiohttp->jupyter-server-proxy) (4.0.2)\n",
      "Requirement already satisfied: frozenlist>=1.1.1 in /Users/teresamartinez/opt/anaconda3/envs/jbrowse-jupyter/lib/python3.8/site-packages (from aiohttp->jupyter-server-proxy) (1.3.0)\n",
      "Requirement already satisfied: multidict<7.0,>=4.5 in /Users/teresamartinez/opt/anaconda3/envs/jbrowse-jupyter/lib/python3.8/site-packages (from aiohttp->jupyter-server-proxy) (6.0.2)\n",
      "Requirement already satisfied: charset-normalizer<3.0,>=2.0 in /Users/teresamartinez/opt/anaconda3/envs/jbrowse-jupyter/lib/python3.8/site-packages (from aiohttp->jupyter-server-proxy) (2.0.12)\n",
      "Requirement already satisfied: aiosignal>=1.1.2 in /Users/teresamartinez/opt/anaconda3/envs/jbrowse-jupyter/lib/python3.8/site-packages (from aiohttp->jupyter-server-proxy) (1.2.0)\n",
      "Requirement already satisfied: argon2-cffi-bindings in /Users/teresamartinez/opt/anaconda3/envs/jbrowse-jupyter/lib/python3.8/site-packages (from argon2-cffi->jupyter-server>=1.0->jupyter-server-proxy) (21.2.0)\n",
      "Requirement already satisfied: cffi>=1.0.1 in /Users/teresamartinez/opt/anaconda3/envs/jbrowse-jupyter/lib/python3.8/site-packages (from argon2-cffi-bindings->argon2-cffi->jupyter-server>=1.0->jupyter-server-proxy) (1.15.0)\n",
      "Requirement already satisfied: pycparser in /Users/teresamartinez/opt/anaconda3/envs/jbrowse-jupyter/lib/python3.8/site-packages (from cffi>=1.0.1->argon2-cffi-bindings->argon2-cffi->jupyter-server>=1.0->jupyter-server-proxy) (2.21)\n",
      "Requirement already satisfied: soupsieve>1.2 in /Users/teresamartinez/opt/anaconda3/envs/jbrowse-jupyter/lib/python3.8/site-packages (from beautifulsoup4->nbconvert>=6.4.4->jupyter-server>=1.0->jupyter-server-proxy) (2.3.2)\n",
      "Requirement already satisfied: webencodings in /Users/teresamartinez/opt/anaconda3/envs/jbrowse-jupyter/lib/python3.8/site-packages (from bleach->nbconvert>=6.4.4->jupyter-server>=1.0->jupyter-server-proxy) (0.5.1)\n",
      "Requirement already satisfied: pyparsing!=3.0.5,>=2.0.2 in /Users/teresamartinez/opt/anaconda3/envs/jbrowse-jupyter/lib/python3.8/site-packages (from packaging->jupyter-server>=1.0->jupyter-server-proxy) (3.0.7)\n"
     ]
    }
   ],
   "source": [
    "!pip install jupyter-server-proxy"
   ]
  },
  {
   "cell_type": "code",
   "execution_count": 3,
   "metadata": {},
   "outputs": [],
   "source": [
    "import pandas as pd\n",
    "from dash import html\n",
    "from jupyter_dash import JupyterDash\n",
    "from jbrowse_jupyter import create, create_component\n",
    "import jupyter_server_proxy"
   ]
  },
  {
   "cell_type": "code",
   "execution_count": null,
   "metadata": {},
   "outputs": [],
   "source": [
    "# for use in jupyter lab and jupyter notebooks\n",
    "JupyterDash.infer_jupyter_proxy_config()"
   ]
  },
  {
   "cell_type": "code",
   "execution_count": 24,
   "metadata": {},
   "outputs": [],
   "source": [
    "app = JupyterDash(__name__)"
   ]
  },
  {
   "cell_type": "code",
   "execution_count": 25,
   "metadata": {},
   "outputs": [],
   "source": [
    "hg38 = create('LGV', genome='hg38')"
   ]
  },
  {
   "cell_type": "code",
   "execution_count": 26,
   "metadata": {},
   "outputs": [
    {
     "name": "stdout",
     "output_type": "stream",
     "text": [
      "  refName  start  end      name\n",
      "0      10    100  175  feature1\n",
      "1      10    150  225  feature2\n",
      "2      10    200  275  feature3\n",
      "3      10    250  325  feature4\n"
     ]
    }
   ],
   "source": [
    "data = {'refName':['10', '10', '10', '10'],\n",
    "        'start':[100, 150, 200, 250],\n",
    "        'end':[175, 225, 275, 325],\n",
    "        'name':['feature1', 'feature2', 'feature3', 'feature4']}\n",
    "\n",
    "df = pd.DataFrame(data)\n",
    "print(df)\n",
    "hg38.add_df_track(df, 'track_name', track_id=\"df_track_id\", overwrite=True)"
   ]
  },
  {
   "cell_type": "code",
   "execution_count": 27,
   "metadata": {},
   "outputs": [],
   "source": [
    "hg38.set_location(\"10:100..350\")\n",
    "hg38.set_default_session(['df_track_id'], False)\n"
   ]
  },
  {
   "cell_type": "code",
   "execution_count": 28,
   "metadata": {},
   "outputs": [],
   "source": [
    "tracks = [\n",
    "    (\"https://s3.amazonaws.com/jbrowse.org/genomes/GRCh38/ncbi_refseq/GCA_000001405.15_GRCh38_full_analysis_set.refseq_annotation.sorted.gff.gz\", \"gff-demo\"),\n",
    "    (\"https://s3.amazonaws.com/jbrowse.org/genomes/GRCh38/skbr3/SKBR3_Feb17_GRCh38.sorted.bam\", \"bam-demo\"),\n",
    "    (\"https://s3.amazonaws.com/jbrowse.org/genomes/hg19/skbr3/reads_lr_skbr3.fa_ngmlr-0.2.3_mapped.down.cram\", \"cram-demo\"),\n",
    "    (\"https://hgdownload.cse.ucsc.edu/goldenpath/hg38/phyloP100way/hg38.phyloP100way.bw\", \"bigwig-demo\"),\n",
    "    (\"https://ftp.ncbi.nlm.nih.gov/pub/clinvar/vcf_GRCh38/clinvar.vcf.gz\", \"vcf-demo\"),\n",
    "    (\"https://jbrowse.org/genomes/GRCh38/repeats.bb\", \"bigbed\")\n",
    "]\n",
    "for track in tracks:\n",
    "    data = track[0]\n",
    "    track_id = track[1]\n",
    "    hg38.add_track(data, track_id=track_id)\n",
    "\n",
    "config = hg38.get_config()\n",
    "component = create_component(config)"
   ]
  },
  {
   "cell_type": "code",
   "execution_count": 29,
   "metadata": {},
   "outputs": [],
   "source": [
    "app.layout = html.Div(\n",
    "    [component],\n",
    "    id='test'\n",
    ")"
   ]
  },
  {
   "cell_type": "code",
   "execution_count": 30,
   "metadata": {},
   "outputs": [
    {
     "name": "stdout",
     "output_type": "stream",
     "text": [
      "Dash app running on http://127.0.0.1:8999/\n"
     ]
    }
   ],
   "source": [
    "if __name__ == \"__main__\":\n",
    "    app.run_server(mode='external', debug=True, port=8999)"
   ]
  }
 ],
 "metadata": {
  "interpreter": {
   "hash": "aaf81c8f28912d07c45359b3a81eb2244c23c90e1b370733684a5666e4e4597e"
  },
  "kernelspec": {
   "display_name": "Python 3.8.13 ('jbrowse-jupyter')",
   "language": "python",
   "name": "python3"
  },
  "language_info": {
   "codemirror_mode": {
    "name": "ipython",
    "version": 3
   },
   "file_extension": ".py",
   "mimetype": "text/x-python",
   "name": "python",
   "nbconvert_exporter": "python",
   "pygments_lexer": "ipython3",
   "version": "3.8.13"
  },
  "orig_nbformat": 4
 },
 "nbformat": 4,
 "nbformat_minor": 2
}
