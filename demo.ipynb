{
 "cells": [
  {
   "cell_type": "code",
   "execution_count": 3,
   "metadata": {},
   "outputs": [],
   "source": [
    "import dash_jbrowse\n",
    "from jbrowse_jupyter import launch, create_jbrowse2"
   ]
  },
  {
   "cell_type": "code",
   "execution_count": 4,
   "metadata": {},
   "outputs": [],
   "source": [
    "jb2_config = create_jbrowse2('view', genome='hg38')"
   ]
  },
  {
   "cell_type": "code",
   "execution_count": 5,
   "metadata": {},
   "outputs": [],
   "source": [
    "conf = jb2_config.get_config()\n"
   ]
  },
  {
   "cell_type": "code",
   "execution_count": 4,
   "metadata": {},
   "outputs": [
    {
     "output_type": "display_data",
     "data": {
      "text/plain": "<IPython.lib.display.IFrame at 0x7fd3e1235ac0>",
      "text/html": "\n        <iframe\n            width=\"100%\"\n            height=\"650\"\n            src=\"http://127.0.0.1:3000/\"\n            frameborder=\"0\"\n            allowfullscreen\n        ></iframe>\n        "
     },
     "metadata": {}
    }
   ],
   "source": [
    "\n",
    "launch(conf)"
   ]
  },
  {
   "cell_type": "code",
   "execution_count": 2,
   "metadata": {},
   "outputs": [],
   "source": []
  },
  {
   "cell_type": "code",
   "execution_count": 7,
   "metadata": {},
   "outputs": [
    {
     "output_type": "stream",
     "name": "stdout",
     "text": [
      "ADAPTER {'type': 'Gff3TabixAdapter', 'gffGzLocation': {'uri': 'https://s3.amazonaws.com/jbrowse.org/genomes/GRCh38/ncbi_refseq/GCA_000001405.15_GRCh38_full_analysis_set.refseq_annotation.sorted.gff.gz', 'locationType': 'UriLocation'}, 'index': {'location': {'uri': 'https://s3.amazonaws.com/jbrowse.org/genomes/GRCh38/ncbi_refseq/GCA_000001405.15_GRCh38_full_analysis_set.refseq_annotation.sorted.gff.gz.tbi', 'locationType': 'UriLocation'}, 'indexType': 'TBI'}}\nadapter type in guess track Gff3TabixAdapter\nTRACKS []\nnew tracks [{'type': 'FeatureTrack', 'trackId': 'trackId-test', 'name': 'test name', 'assemblyNames': ['hg38'], 'adapter': {'type': 'Gff3TabixAdapter', 'gffGzLocation': {'uri': 'https://s3.amazonaws.com/jbrowse.org/genomes/GRCh38/ncbi_refseq/GCA_000001405.15_GRCh38_full_analysis_set.refseq_annotation.sorted.gff.gz', 'locationType': 'UriLocation'}, 'index': {'location': {'uri': 'https://s3.amazonaws.com/jbrowse.org/genomes/GRCh38/ncbi_refseq/GCA_000001405.15_GRCh38_full_analysis_set.refseq_annotation.sorted.gff.gz.tbi', 'locationType': 'UriLocation'}, 'indexType': 'TBI'}}}]\n"
     ]
    },
    {
     "output_type": "display_data",
     "data": {
      "text/plain": "<IPython.lib.display.IFrame at 0x7fd3e111a790>",
      "text/html": "\n        <iframe\n            width=\"100%\"\n            height=\"650\"\n            src=\"http://127.0.0.1:3000/\"\n            frameborder=\"0\"\n            allowfullscreen\n        ></iframe>\n        "
     },
     "metadata": {}
    }
   ],
   "source": [
    "jbrowse_conf = JBrowseConfig()\n",
    "aliases = [\"hg38\"]\n",
    "ref_name_aliases = {\n",
    "        \"adapter\": {\n",
    "            \"type\": \"RefNameAliasAdapter\",\n",
    "            \"location\": {\n",
    "                \"uri\": \"https://s3.amazonaws.com/jbrowse.org/genomes/GRCh38/hg38_aliases.txt\",\n",
    "                \"locationType\": \"UriLocation\",\n",
    "            },\n",
    "        },\n",
    "    }\n",
    "jbrowse_conf.set_assembly(\"https://jbrowse.org/genomes/GRCh38/fasta/hg38.prefix.fa.gz\", aliases, ref_name_aliases, True)\n",
    "jbrowse_conf.add_track(\"https://s3.amazonaws.com/jbrowse.org/genomes/GRCh38/ncbi_refseq/GCA_000001405.15_GRCh38_full_analysis_set.refseq_annotation.sorted.gff.gz\",True)\n",
    "config = jbrowse_conf.get_config()\n",
    "# jb2_config_view = create_jbrowse2('config', conf=config)\n",
    "launch(config)"
   ]
  },
  {
   "cell_type": "code",
   "execution_count": null,
   "metadata": {},
   "outputs": [],
   "source": []
  }
 ],
 "metadata": {
  "kernelspec": {
   "display_name": "venv",
   "language": "python",
   "name": "venv"
  },
  "language_info": {
   "codemirror_mode": {
    "name": "ipython",
    "version": 3
   },
   "file_extension": ".py",
   "mimetype": "text/x-python",
   "name": "python",
   "nbconvert_exporter": "python",
   "pygments_lexer": "ipython3",
   "version": "3.8.5-final"
  }
 },
 "nbformat": 4,
 "nbformat_minor": 4
}