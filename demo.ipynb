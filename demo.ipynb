{
 "cells": [
  {
   "cell_type": "code",
   "execution_count": 1,
   "metadata": {},
   "outputs": [],
   "source": [
    "from jupyter_dash import JupyterDash"
   ]
  },
  {
   "cell_type": "code",
   "execution_count": 2,
   "metadata": {},
   "outputs": [],
   "source": [
    "import dash_jbrowse\n",
    "import dash\n",
    "import dash_html_components as html"
   ]
  },
  {
   "cell_type": "code",
   "execution_count": 3,
   "metadata": {},
   "outputs": [],
   "source": [
    "\n",
    "def launch_jbrowse(assembly, tracks, defaultSession, location, aggregateTextSearchAdapters):\n",
    "    app = JupyterDash(__name__)\n",
    "\n",
    "    app.layout = html.Div(\n",
    "        [\n",
    "            dash_jbrowse.DashJbrowse(\n",
    "                id=\"input\",\n",
    "                assembly=assembly,\n",
    "                tracks=tracks,\n",
    "                defaultSession=defaultSession,\n",
    "                location=location,\n",
    "                aggregateTextSearchAdapters=aggregateTextSearchAdapters\n",
    "            ),\n",
    "        ],\n",
    "    )\n",
    "    \n",
    "    app.run_server(mode=\"inline\")"
   ]
  },
  {
   "cell_type": "code",
   "execution_count": 4,
   "metadata": {},
   "outputs": [],
   "source": [
    "my_assembly = {\n",
    "    \"name\": \"GRCh38\",\n",
    "    \"sequence\": {\n",
    "        \"type\": \"ReferenceSequenceTrack\",\n",
    "        \"trackId\": \"GRCh38-ReferenceSequenceTrack\",\n",
    "        \"adapter\": {\n",
    "            \"type\": \"BgzipFastaAdapter\",\n",
    "            \"fastaLocation\": {\n",
    "                \"uri\": \"https://s3.amazonaws.com/jbrowse.org/genomes/GRCh38/fasta/GRCh38.fa.gz\",\n",
    "            },\n",
    "            \"faiLocation\": {\n",
    "                \"uri\": \"https://s3.amazonaws.com/jbrowse.org/genomes/GRCh38/fasta/GRCh38.fa.gz.fai\",\n",
    "            },\n",
    "            \"gziLocation\": {\n",
    "                \"uri\": \"https://s3.amazonaws.com/jbrowse.org/genomes/GRCh38/fasta/GRCh38.fa.gz.gzi\",\n",
    "            },\n",
    "        },\n",
    "    },\n",
    "    \"aliases\": [\"hg38\"],\n",
    "    \"refNameAliases\": {\n",
    "        \"adapter\": {\n",
    "            \"type\": \"RefNameAliasAdapter\",\n",
    "            \"location\": {\n",
    "                \"uri\": \"https://s3.amazonaws.com/jbrowse.org/genomes/GRCh38/hg38_aliases.txt\",\n",
    "            },\n",
    "        },\n",
    "    },\n",
    "}\n",
    "\n",
    "my_tracks = [\n",
    "    {\n",
    "        \"type\": \"FeatureTrack\",\n",
    "        \"trackId\": \"ncbi_refseq_109_hg38\",\n",
    "        \"name\": \"NCBI RefSeq (GFF3Tabix)\",\n",
    "        \"assemblyNames\": [\"GRCh38\"],\n",
    "        \"category\": [\"Annotation\"],\n",
    "        \"adapter\": {\n",
    "            \"type\": \"Gff3TabixAdapter\",\n",
    "            \"gffGzLocation\": {\n",
    "                \"uri\": \"https://s3.amazonaws.com/jbrowse.org/genomes/GRCh38/ncbi_refseq/GCA_000001405.15_GRCh38_full_analysis_set.refseq_annotation.sorted.gff.gz\",\n",
    "            },\n",
    "            \"index\": {\n",
    "                \"location\": {\n",
    "                    \"uri\": \"https://s3.amazonaws.com/jbrowse.org/genomes/GRCh38/ncbi_refseq/GCA_000001405.15_GRCh38_full_analysis_set.refseq_annotation.sorted.gff.gz.tbi\",\n",
    "                },\n",
    "            },\n",
    "        },\n",
    "    },\n",
    "]\n",
    "\n",
    "my_default_session = {\n",
    "    \"name\": \"My session\",\n",
    "    \"view\": {\n",
    "        \"id\": \"linearGenomeView\",\n",
    "        \"type\": \"LinearGenomeView\",\n",
    "        \"tracks\": [\n",
    "            {\n",
    "                \"type\": \"FeatureTrack\",\n",
    "                \"configuration\": \"ncbi_refseq_109_hg38\",\n",
    "                \"displays\": [\n",
    "                    {\n",
    "                        \"type\": \"LinearBasicDisplay\",\n",
    "                        \"configuration\": \"ncbi_refseq_109_hg38-LinearBasicDisplay\",\n",
    "                    },\n",
    "                ],\n",
    "            },\n",
    "        ],\n",
    "    },\n",
    "}\n",
    "my_aggregate_text_search_adapters=[\n",
    "    {\n",
    "        \"type\": \"TrixTextSearchAdapter\",\n",
    "        \"textSearchAdapterId\": \"hg38-index\",\n",
    "        \"ixFilePath\": {\n",
    "            \"uri\": \"https://s3.amazonaws.com/jbrowse.org/genomes/GRCh38/trix/hg38.ix\"\n",
    "        },\n",
    "        \"ixxFilePath\": {\n",
    "            \"uri\": \"https://s3.amazonaws.com/jbrowse.org/genomes/GRCh38/trix/hg38.ixx\"\n",
    "        },\n",
    "        \"metaFilePath\": {\n",
    "            \"uri\": \"https://s3.amazonaws.com/jbrowse.org/genomes/GRCh38/trix/meta.json\"\n",
    "        },\n",
    "        \"assemblyNames\": ['GRCh38'],\n",
    "    }\n",
    "]\n",
    "my_location = \"7:140,713,328-140,924,929\"\n",
    "\n"
   ]
  },
  {
   "cell_type": "code",
   "execution_count": 5,
   "metadata": {},
   "outputs": [
    {
     "output_type": "display_data",
     "data": {
      "text/plain": "<IPython.lib.display.IFrame at 0x7f8b9090c070>",
      "text/html": "\n        <iframe\n            width=\"100%\"\n            height=\"650\"\n            src=\"http://127.0.0.1:8050/\"\n            frameborder=\"0\"\n            allowfullscreen\n        ></iframe>\n        "
     },
     "metadata": {}
    }
   ],
   "source": [
    "launch_jbrowse(my_assembly, my_tracks, my_default_session, my_location, my_aggregate_text_search_adapters)"
   ]
  },
  {
   "cell_type": "code",
   "execution_count": null,
   "metadata": {},
   "outputs": [],
   "source": []
  }
 ],
 "metadata": {
  "kernelspec": {
   "display_name": "venv",
   "language": "python",
   "name": "venv"
  },
  "language_info": {
   "codemirror_mode": {
    "name": "ipython",
    "version": 3
   },
   "file_extension": ".py",
   "mimetype": "text/x-python",
   "name": "python",
   "nbconvert_exporter": "python",
   "pygments_lexer": "ipython3",
   "version": "3.8.5-final"
  }
 },
 "nbformat": 4,
 "nbformat_minor": 4
}