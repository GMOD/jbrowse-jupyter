{
 "cells": [
  {
   "cell_type": "code",
   "execution_count": 8,
   "metadata": {},
   "outputs": [],
   "source": [
    "from jupyter_dash import JupyterDash\n",
    "from jbrowse_jupyter import create_jbrowse, JBrowseConfig\n",
    "import dash_html_components as html"
   ]
  },
  {
   "cell_type": "code",
   "execution_count": 9,
   "metadata": {},
   "outputs": [],
   "source": [
    "# jb2 is a dash jbrowse component \n",
    "def launch_jbrowse(jb2):\n",
    "    app = JupyterDash(__name__)\n",
    "    app.layout = html.Div([jb2])\n",
    "    app.run_server(mode=\"inline\")"
   ]
  },
  {
   "cell_type": "code",
   "execution_count": 12,
   "metadata": {},
   "outputs": [
    {
     "output_type": "display_data",
     "data": {
      "text/plain": "<IPython.lib.display.IFrame at 0x7ffa08b1b2e0>",
      "text/html": "\n        <iframe\n            width=\"100%\"\n            height=\"650\"\n            src=\"http://127.0.0.1:8050/\"\n            frameborder=\"0\"\n            allowfullscreen\n        ></iframe>\n        "
     },
     "metadata": {}
    }
   ],
   "source": [
    "launch_jbrowse(create_jbrowse('view', genome='hg38'))\n"
   ]
  },
  {
   "cell_type": "code",
   "execution_count": 11,
   "metadata": {},
   "outputs": [
    {
     "output_type": "stream",
     "name": "stdout",
     "text": [
      "name:hg38\n"
     ]
    },
    {
     "output_type": "display_data",
     "data": {
      "text/plain": "<IPython.lib.display.IFrame at 0x7ff9e9d013a0>",
      "text/html": "\n        <iframe\n            width=\"100%\"\n            height=\"650\"\n            src=\"http://127.0.0.1:8050/\"\n            frameborder=\"0\"\n            allowfullscreen\n        ></iframe>\n        "
     },
     "metadata": {}
    }
   ],
   "source": [
    "jbrowse_conf = JBrowseConfig()\n",
    "aliases = [\"hg38\"]\n",
    "ref_name_aliases = {\n",
    "        \"adapter\": {\n",
    "            \"type\": \"RefNameAliasAdapter\",\n",
    "            \"location\": {\n",
    "                \"uri\": \"https://s3.amazonaws.com/jbrowse.org/genomes/GRCh38/hg38_aliases.txt\",\n",
    "                \"locationType\": \"UriLocation\",\n",
    "            },\n",
    "        },\n",
    "    }\n",
    "jbrowse_conf.set_assembly(\"https://jbrowse.org/genomes/GRCh38/fasta/hg38.prefix.fa.gz\", aliases, ref_name_aliases, True)\n",
    "config = jbrowse_conf.get_config()\n",
    "jb2_config_view = create_jbrowse('config', config=config)\n",
    "launch_jbrowse(jb2_config_view)"
   ]
  },
  {
   "cell_type": "code",
   "execution_count": null,
   "metadata": {},
   "outputs": [],
   "source": []
  }
 ],
 "metadata": {
  "kernelspec": {
   "display_name": "venv",
   "language": "python",
   "name": "venv"
  },
  "language_info": {
   "codemirror_mode": {
    "name": "ipython",
    "version": 3
   },
   "file_extension": ".py",
   "mimetype": "text/x-python",
   "name": "python",
   "nbconvert_exporter": "python",
   "pygments_lexer": "ipython3",
   "version": "3.8.5-final"
  }
 },
 "nbformat": 4,
 "nbformat_minor": 4
}