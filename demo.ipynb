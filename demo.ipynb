{
 "cells": [
  {
   "cell_type": "code",
   "execution_count": 28,
   "metadata": {},
   "outputs": [],
   "source": [
    "import pandas as pd\n",
    "import gzip\n",
    "import gffpandas.gffpandas as gffpd\n",
    "from jbrowse_jupyter import launch, create"
   ]
  },
  {
   "cell_type": "code",
   "execution_count": 29,
   "metadata": {},
   "outputs": [],
   "source": [
    "hg38 = create('view', genome='hg38')"
   ]
  },
  {
   "cell_type": "code",
   "execution_count": 30,
   "metadata": {},
   "outputs": [],
   "source": [
    "# https://s3.amazonaws.com/jbrowse.org/genomes/GRCh38/gencode/gencode.v36.annotation.sort.gff3.gz\n",
    "\n",
    "# data_frame = { 'refName': [\"1\", \"1\"], 'start': [100, 850], 'end': [800, 1500], 'name': ['feature1', 'feature2']}\n",
    "with gzip.open('https://s3.amazonaws.com/jbrowse.org/genomes/GRCh38/gencode/gencode.v36.annotation.sort.gff3.gz', 'rb') as f:\n",
    "    file_content = f.read()"
   ]
  },
  {
   "cell_type": "code",
   "execution_count": 31,
   "metadata": {},
   "outputs": [],
   "source": [
    "df = pd.DataFrame(data_frame)"
   ]
  },
  {
   "cell_type": "code",
   "execution_count": 32,
   "metadata": {},
   "outputs": [
    {
     "output_type": "stream",
     "name": "stdout",
     "text": [
      "features ====>  [{'refName': '1', 'start': 123, 'end': 780, 'name': 'feature1', 'additional': '', 'type': '', 'score': 1, 'uniqueId': '731321b8d1c94331a6ff16ab56b072a8'}, {'refName': '1', 'start': 800, 'end': 1000, 'name': 'feature2', 'additional': '', 'type': '', 'score': 2, 'uniqueId': '008c7b12c19042b3bcc7ecc3d373e054'}]\nfrom config {'type': 'FromConfigAdapter', 'features': [{'refName': '1', 'start': 123, 'end': 780, 'name': 'feature1', 'additional': '', 'type': '', 'score': 1, 'uniqueId': '731321b8d1c94331a6ff16ab56b072a8'}, {'refName': '1', 'start': 800, 'end': 1000, 'name': 'feature2', 'additional': '', 'type': '', 'score': 2, 'uniqueId': '008c7b12c19042b3bcc7ecc3d373e054'}]}\n"
     ]
    }
   ],
   "source": [
    "hg38.add_df_track(df, 'data_frame_track')"
   ]
  },
  {
   "cell_type": "code",
   "execution_count": 33,
   "metadata": {},
   "outputs": [
    {
     "output_type": "display_data",
     "data": {
      "text/plain": "<IPython.lib.display.IFrame at 0x7f9711b25ca0>",
      "text/html": "\n        <iframe\n            width=\"100%\"\n            height=\"300\"\n            src=\"http://127.0.0.1:3000/\"\n            frameborder=\"0\"\n            allowfullscreen\n        ></iframe>\n        "
     },
     "metadata": {}
    }
   ],
   "source": [
    "launch(hg38.get_config())"
   ]
  },
  {
   "cell_type": "code",
   "execution_count": null,
   "metadata": {},
   "outputs": [],
   "source": []
  }
 ],
 "metadata": {
  "kernelspec": {
   "display_name": "venv",
   "language": "python",
   "name": "venv"
  },
  "language_info": {
   "codemirror_mode": {
    "name": "ipython",
    "version": 3
   },
   "file_extension": ".py",
   "mimetype": "text/x-python",
   "name": "python",
   "nbconvert_exporter": "python",
   "pygments_lexer": "ipython3",
   "version": "3.8.5-final"
  }
 },
 "nbformat": 4,
 "nbformat_minor": 4
}